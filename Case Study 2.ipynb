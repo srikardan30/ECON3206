{
 "cells": [
  {
   "cell_type": "code",
   "execution_count": 90,
   "id": "baa69110",
   "metadata": {},
   "outputs": [],
   "source": [
    "import pandas as pd \n",
    "import numpy as np \n",
    "import matplotlib.pyplot as plt \n",
    "import seaborn as sns\n",
    "import statsmodels.formula.api as smf \n",
    "import statsmodels.api as sm\n",
    "from sklearn.metrics import mean_squared_error\n",
    "from sklearn.metrics import mean_absolute_error\n",
    "from statsmodels.graphics.tsaplots import plot_acf\n",
    "from statsmodels.tsa.arima.model import ARIMA\n",
    "from arch import arch_model\n",
    "from statsmodels.tsa.stattools import adfuller\n",
    "from sklearn import linear_model\n",
    "from statsmodels.graphics.tsaplots import plot_predict\n",
    "from pandas import datetime\n",
    "from matplotlib import pyplot\n",
    "import math\n",
    "import statsmodels.tsa.api as smt\n",
    "%matplotlib inline\n",
    "from statsmodels.tsa.arima.model import ARIMA\n",
    "import warnings\n",
    "warnings.filterwarnings(\"ignore\")\n",
    "\n",
    "import yfinance as yf"
   ]
  },
  {
   "cell_type": "markdown",
   "id": "43c5c384",
   "metadata": {},
   "source": [
    "## Question 1"
   ]
  },
  {
   "cell_type": "code",
   "execution_count": 62,
   "id": "0ebdf1e1",
   "metadata": {},
   "outputs": [
    {
     "name": "stdout",
     "output_type": "stream",
     "text": [
      "[*********************100%***********************]  1 of 1 completed\n",
      "[*********************100%***********************]  1 of 1 completed\n"
     ]
    }
   ],
   "source": [
    "#S&P 500 Data from Yahoo\n",
    "#IN-SAMPLE\n",
    "in_sample_SP500 = yf.download(\"^GSPC\", start='2012-6-16', end='2020-2-28')\n",
    "in_sample_SP500 = in_sample_SP500.drop(columns = ['Open', 'High', 'Low', 'Close', 'Volume'], axis=1)\n",
    "in_sample_SP500 = in_sample_SP500.dropna()\n",
    "\n",
    "\n",
    "#EVALUATION \n",
    "evaluation_SP500 = yf.download(\"^GSPC\", start='2020-3-1', end='2022-6-18')\n",
    "evaluation_SP500 = evaluation_SP500.drop(columns = ['Open', 'High', 'Low', 'Close', 'Volume'], axis=1)\n",
    "evaluation_SP500 = evaluation_SP500.dropna()"
   ]
  },
  {
   "cell_type": "code",
   "execution_count": 100,
   "id": "80262acb",
   "metadata": {},
   "outputs": [
    {
     "data": {
      "text/html": [
       "<div>\n",
       "<style scoped>\n",
       "    .dataframe tbody tr th:only-of-type {\n",
       "        vertical-align: middle;\n",
       "    }\n",
       "\n",
       "    .dataframe tbody tr th {\n",
       "        vertical-align: top;\n",
       "    }\n",
       "\n",
       "    .dataframe thead th {\n",
       "        text-align: right;\n",
       "    }\n",
       "</style>\n",
       "<table border=\"1\" class=\"dataframe\">\n",
       "  <thead>\n",
       "    <tr style=\"text-align: right;\">\n",
       "      <th></th>\n",
       "      <th>Adj Close</th>\n",
       "      <th>SP500_R_Close</th>\n",
       "    </tr>\n",
       "    <tr>\n",
       "      <th>Date</th>\n",
       "      <th></th>\n",
       "      <th></th>\n",
       "    </tr>\n",
       "  </thead>\n",
       "  <tbody>\n",
       "    <tr>\n",
       "      <th>2022-06-13</th>\n",
       "      <td>3749.629883</td>\n",
       "      <td>-3.953993</td>\n",
       "    </tr>\n",
       "    <tr>\n",
       "      <th>2022-06-14</th>\n",
       "      <td>3735.479980</td>\n",
       "      <td>-0.378082</td>\n",
       "    </tr>\n",
       "    <tr>\n",
       "      <th>2022-06-15</th>\n",
       "      <td>3789.989990</td>\n",
       "      <td>1.448706</td>\n",
       "    </tr>\n",
       "    <tr>\n",
       "      <th>2022-06-16</th>\n",
       "      <td>3666.770020</td>\n",
       "      <td>-3.305221</td>\n",
       "    </tr>\n",
       "    <tr>\n",
       "      <th>2022-06-17</th>\n",
       "      <td>3674.840088</td>\n",
       "      <td>0.219845</td>\n",
       "    </tr>\n",
       "  </tbody>\n",
       "</table>\n",
       "</div>"
      ],
      "text/plain": [
       "              Adj Close  SP500_R_Close\n",
       "Date                                  \n",
       "2022-06-13  3749.629883      -3.953993\n",
       "2022-06-14  3735.479980      -0.378082\n",
       "2022-06-15  3789.989990       1.448706\n",
       "2022-06-16  3666.770020      -3.305221\n",
       "2022-06-17  3674.840088       0.219845"
      ]
     },
     "execution_count": 100,
     "metadata": {},
     "output_type": "execute_result"
    }
   ],
   "source": [
    "evaluation_SP500.tail()"
   ]
  },
  {
   "cell_type": "code",
   "execution_count": 63,
   "id": "3d155d27",
   "metadata": {},
   "outputs": [
    {
     "name": "stdout",
     "output_type": "stream",
     "text": [
      "[*********************100%***********************]  1 of 1 completed\n",
      "[*********************100%***********************]  1 of 1 completed\n"
     ]
    }
   ],
   "source": [
    "#BAC Data from Yahoo \n",
    "#IN-SAMPLE\n",
    "in_sample_BAC = yf.download(\"BAC\", start='2012-6-16', end='2020-2-28')\n",
    "in_sample_BAC = in_sample_BAC.drop(columns = ['Open', 'High', 'Low', 'Close', 'Volume'], axis=1)\n",
    "in_sample_BAC = in_sample_BAC.dropna()\n",
    "\n",
    "\n",
    "#EVALUATION \n",
    "evaluation_BAC = yf.download(\"BAC\", start='2020-3-1', end='2022-6-18')\n",
    "evaluation_BAC = evaluation_BAC.drop(columns = ['Open', 'High', 'Low', 'Close', 'Volume'], axis=1)\n",
    "evaluation_BAC = evaluation_BAC.dropna()\n"
   ]
  },
  {
   "cell_type": "code",
   "execution_count": 55,
   "id": "0e212df5",
   "metadata": {},
   "outputs": [
    {
     "data": {
      "text/html": [
       "<div>\n",
       "<style scoped>\n",
       "    .dataframe tbody tr th:only-of-type {\n",
       "        vertical-align: middle;\n",
       "    }\n",
       "\n",
       "    .dataframe tbody tr th {\n",
       "        vertical-align: top;\n",
       "    }\n",
       "\n",
       "    .dataframe thead th {\n",
       "        text-align: right;\n",
       "    }\n",
       "</style>\n",
       "<table border=\"1\" class=\"dataframe\">\n",
       "  <thead>\n",
       "    <tr style=\"text-align: right;\">\n",
       "      <th></th>\n",
       "      <th>Adj Close</th>\n",
       "    </tr>\n",
       "    <tr>\n",
       "      <th>Date</th>\n",
       "      <th></th>\n",
       "    </tr>\n",
       "  </thead>\n",
       "  <tbody>\n",
       "    <tr>\n",
       "      <th>2022-06-13</th>\n",
       "      <td>32.020000</td>\n",
       "    </tr>\n",
       "    <tr>\n",
       "      <th>2022-06-14</th>\n",
       "      <td>31.459999</td>\n",
       "    </tr>\n",
       "    <tr>\n",
       "      <th>2022-06-15</th>\n",
       "      <td>32.049999</td>\n",
       "    </tr>\n",
       "    <tr>\n",
       "      <th>2022-06-16</th>\n",
       "      <td>31.850000</td>\n",
       "    </tr>\n",
       "    <tr>\n",
       "      <th>2022-06-17</th>\n",
       "      <td>31.920000</td>\n",
       "    </tr>\n",
       "  </tbody>\n",
       "</table>\n",
       "</div>"
      ],
      "text/plain": [
       "            Adj Close\n",
       "Date                 \n",
       "2022-06-13  32.020000\n",
       "2022-06-14  31.459999\n",
       "2022-06-15  32.049999\n",
       "2022-06-16  31.850000\n",
       "2022-06-17  31.920000"
      ]
     },
     "execution_count": 55,
     "metadata": {},
     "output_type": "execute_result"
    }
   ],
   "source": [
    "evaluation_BAC.tail()"
   ]
  },
  {
   "cell_type": "code",
   "execution_count": 64,
   "id": "16ad2ed7",
   "metadata": {},
   "outputs": [],
   "source": [
    "#Transforming the BAC data into log returns \n",
    "\n",
    "in_sample_BAC['BAC_R_Close'] = 100 * np.log(in_sample_BAC['Adj Close'] / in_sample_BAC['Adj Close'].shift(1))\n",
    "in_sample_BAC = in_sample_BAC.dropna()\n",
    "\n",
    "evaluation_BAC['BAC_R_Close'] = 100 * np.log(evaluation_BAC['Adj Close'] / evaluation_BAC['Adj Close'].shift(1))\n",
    "evaluation_BAC = evaluation_BAC.dropna()"
   ]
  },
  {
   "cell_type": "code",
   "execution_count": 44,
   "id": "3b5776f1",
   "metadata": {},
   "outputs": [
    {
     "data": {
      "text/html": [
       "<div>\n",
       "<style scoped>\n",
       "    .dataframe tbody tr th:only-of-type {\n",
       "        vertical-align: middle;\n",
       "    }\n",
       "\n",
       "    .dataframe tbody tr th {\n",
       "        vertical-align: top;\n",
       "    }\n",
       "\n",
       "    .dataframe thead th {\n",
       "        text-align: right;\n",
       "    }\n",
       "</style>\n",
       "<table border=\"1\" class=\"dataframe\">\n",
       "  <thead>\n",
       "    <tr style=\"text-align: right;\">\n",
       "      <th></th>\n",
       "      <th>Adj Close</th>\n",
       "    </tr>\n",
       "    <tr>\n",
       "      <th>Date</th>\n",
       "      <th></th>\n",
       "    </tr>\n",
       "  </thead>\n",
       "  <tbody>\n",
       "    <tr>\n",
       "      <th>2020-02-20</th>\n",
       "      <td>32.946945</td>\n",
       "    </tr>\n",
       "    <tr>\n",
       "      <th>2020-02-21</th>\n",
       "      <td>32.483707</td>\n",
       "    </tr>\n",
       "    <tr>\n",
       "      <th>2020-02-24</th>\n",
       "      <td>30.942713</td>\n",
       "    </tr>\n",
       "    <tr>\n",
       "      <th>2020-02-25</th>\n",
       "      <td>29.382820</td>\n",
       "    </tr>\n",
       "    <tr>\n",
       "      <th>2020-02-26</th>\n",
       "      <td>28.957390</td>\n",
       "    </tr>\n",
       "  </tbody>\n",
       "</table>\n",
       "</div>"
      ],
      "text/plain": [
       "            Adj Close\n",
       "Date                 \n",
       "2020-02-20  32.946945\n",
       "2020-02-21  32.483707\n",
       "2020-02-24  30.942713\n",
       "2020-02-25  29.382820\n",
       "2020-02-26  28.957390"
      ]
     },
     "execution_count": 44,
     "metadata": {},
     "output_type": "execute_result"
    }
   ],
   "source": [
    "in_sample_BAC.tail()"
   ]
  },
  {
   "cell_type": "code",
   "execution_count": 65,
   "id": "86c98a53",
   "metadata": {},
   "outputs": [
    {
     "data": {
      "text/html": [
       "<div>\n",
       "<style scoped>\n",
       "    .dataframe tbody tr th:only-of-type {\n",
       "        vertical-align: middle;\n",
       "    }\n",
       "\n",
       "    .dataframe tbody tr th {\n",
       "        vertical-align: top;\n",
       "    }\n",
       "\n",
       "    .dataframe thead th {\n",
       "        text-align: right;\n",
       "    }\n",
       "</style>\n",
       "<table border=\"1\" class=\"dataframe\">\n",
       "  <thead>\n",
       "    <tr style=\"text-align: right;\">\n",
       "      <th></th>\n",
       "      <th>Adj Close</th>\n",
       "      <th>SP500_R_Close</th>\n",
       "    </tr>\n",
       "    <tr>\n",
       "      <th>Date</th>\n",
       "      <th></th>\n",
       "      <th></th>\n",
       "    </tr>\n",
       "  </thead>\n",
       "  <tbody>\n",
       "    <tr>\n",
       "      <th>2012-06-18</th>\n",
       "      <td>1344.780029</td>\n",
       "      <td>0.144370</td>\n",
       "    </tr>\n",
       "    <tr>\n",
       "      <th>2012-06-19</th>\n",
       "      <td>1357.979980</td>\n",
       "      <td>0.976783</td>\n",
       "    </tr>\n",
       "    <tr>\n",
       "      <th>2012-06-20</th>\n",
       "      <td>1355.689941</td>\n",
       "      <td>-0.168778</td>\n",
       "    </tr>\n",
       "    <tr>\n",
       "      <th>2012-06-21</th>\n",
       "      <td>1325.510010</td>\n",
       "      <td>-2.251321</td>\n",
       "    </tr>\n",
       "    <tr>\n",
       "      <th>2012-06-22</th>\n",
       "      <td>1335.020020</td>\n",
       "      <td>0.714899</td>\n",
       "    </tr>\n",
       "    <tr>\n",
       "      <th>...</th>\n",
       "      <td>...</td>\n",
       "      <td>...</td>\n",
       "    </tr>\n",
       "    <tr>\n",
       "      <th>2020-02-20</th>\n",
       "      <td>3373.229980</td>\n",
       "      <td>-0.382282</td>\n",
       "    </tr>\n",
       "    <tr>\n",
       "      <th>2020-02-21</th>\n",
       "      <td>3337.750000</td>\n",
       "      <td>-1.057381</td>\n",
       "    </tr>\n",
       "    <tr>\n",
       "      <th>2020-02-24</th>\n",
       "      <td>3225.889893</td>\n",
       "      <td>-3.408808</td>\n",
       "    </tr>\n",
       "    <tr>\n",
       "      <th>2020-02-25</th>\n",
       "      <td>3128.209961</td>\n",
       "      <td>-3.074790</td>\n",
       "    </tr>\n",
       "    <tr>\n",
       "      <th>2020-02-26</th>\n",
       "      <td>3116.389893</td>\n",
       "      <td>-0.378570</td>\n",
       "    </tr>\n",
       "  </tbody>\n",
       "</table>\n",
       "<p>1935 rows × 2 columns</p>\n",
       "</div>"
      ],
      "text/plain": [
       "              Adj Close  SP500_R_Close\n",
       "Date                                  \n",
       "2012-06-18  1344.780029       0.144370\n",
       "2012-06-19  1357.979980       0.976783\n",
       "2012-06-20  1355.689941      -0.168778\n",
       "2012-06-21  1325.510010      -2.251321\n",
       "2012-06-22  1335.020020       0.714899\n",
       "...                 ...            ...\n",
       "2020-02-20  3373.229980      -0.382282\n",
       "2020-02-21  3337.750000      -1.057381\n",
       "2020-02-24  3225.889893      -3.408808\n",
       "2020-02-25  3128.209961      -3.074790\n",
       "2020-02-26  3116.389893      -0.378570\n",
       "\n",
       "[1935 rows x 2 columns]"
      ]
     },
     "execution_count": 65,
     "metadata": {},
     "output_type": "execute_result"
    }
   ],
   "source": [
    "#Transforming the S&P500 Data \n",
    "\n",
    "in_sample_SP500['SP500_R_Close'] = 100 * np.log(in_sample_SP500['Adj Close'] / in_sample_SP500['Adj Close'].shift(1))\n",
    "in_sample_SP500 = in_sample_SP500.dropna()\n",
    "\n",
    "evaluation_SP500['SP500_R_Close'] = 100 * np.log(evaluation_SP500['Adj Close'] / evaluation_SP500['Adj Close'].shift(1))\n",
    "evaluation_SP500 = evaluation_SP500.dropna()\n",
    "in_sample_SP500"
   ]
  },
  {
   "cell_type": "markdown",
   "id": "c7e598cd",
   "metadata": {},
   "source": [
    "# Using BAC to build a NAIVE forecast model "
   ]
  },
  {
   "cell_type": "code",
   "execution_count": 66,
   "id": "adad36f9",
   "metadata": {},
   "outputs": [],
   "source": [
    "#building the NAIVE model for the BAC stock \n",
    "train_len = len(in_sample_BAC)\n",
    "\n",
    "naive = evaluation_BAC.copy()\n",
    "naive['Naive Forecast'] = in_sample_BAC['BAC_R_Close'][train_len - 1]"
   ]
  },
  {
   "cell_type": "code",
   "execution_count": 67,
   "id": "9e3380a5",
   "metadata": {},
   "outputs": [
    {
     "data": {
      "image/png": "[encoded data removed]",
      "text/plain": [
       "<Figure size 1440x360 with 1 Axes>"
      ]
     },
     "metadata": {
      "needs_background": "light"
     },
     "output_type": "display_data"
    }
   ],
   "source": [
    "#plot the naive model \n",
    "plt.figure(figsize=(20,5))\n",
    "plt.grid()\n",
    "plt.plot(in_sample_BAC['BAC_R_Close'], label = 'Train')\n",
    "plt.plot(evaluation_BAC['BAC_R_Close'], label = 'Test')\n",
    "plt.plot(naive['Naive Forecast'], label = 'Naive Forecast')\n",
    "plt.xlabel(\"Years\")\n",
    "plt.legend(loc = 'best')\n",
    "plt.title('Naive Forecast')\n",
    "plt.show()"
   ]
  },
  {
   "cell_type": "code",
   "execution_count": 68,
   "id": "a8702143",
   "metadata": {},
   "outputs": [
    {
     "name": "stdout",
     "output_type": "stream",
     "text": [
      "Root Mean Square Forecast Error: 3.1469958022146223\n"
     ]
    }
   ],
   "source": [
    "#to get the RMSE \n",
    "\n",
    "MSE = mean_squared_error(evaluation_BAC['BAC_R_Close'], naive['Naive Forecast'])\n",
    "RMSFE = math.sqrt(MSE)\n",
    "print(\"Root Mean Square Forecast Error: \" + str(RMSFE))"
   ]
  },
  {
   "cell_type": "code",
   "execution_count": 69,
   "id": "221a1f08",
   "metadata": {},
   "outputs": [
    {
     "name": "stdout",
     "output_type": "stream",
     "text": [
      "Root Mean Square Forecast Error: 1.5206205239010149\n"
     ]
    }
   ],
   "source": [
    "#To get the root mean absolute error \n",
    "\n",
    "MAE = mean_absolute_error(evaluation_BAC['BAC_R_Close'], naive['Naive Forecast'])\n",
    "RMAFE = math.sqrt(MAE)\n",
    "print(\"Root Mean Square Forecast Error: \" + str(RMAFE))"
   ]
  },
  {
   "cell_type": "markdown",
   "id": "d029bbb7",
   "metadata": {},
   "source": [
    "#  Using BAC to build a Reg-AR(1) Model "
   ]
  },
  {
   "cell_type": "code",
   "execution_count": 114,
   "id": "1d9a60da",
   "metadata": {},
   "outputs": [
    {
     "data": {
      "image/png": "[encoded data removed]",
      "text/plain": [
       "<Figure size 432x288 with 1 Axes>"
      ]
     },
     "execution_count": 114,
     "metadata": {},
     "output_type": "execute_result"
    },
    {
     "data": {
      "image/png": "[encoded data removed]",
      "text/plain": [
       "<Figure size 432x288 with 1 Axes>"
      ]
     },
     "metadata": {},
     "output_type": "display_data"
    }
   ],
   "source": [
    "#plot the ACF and see why its a AR(1) model \n",
    "plot_acf(in_sample_BAC['BAC_R_Close'])\n",
    "\n",
    "#We can clearly see that there is a spike in the ACF plot at lag 1 but no other signifcant spike anywhere else on the plot. This can indicate an AR model \n",
    "#From this we can see that since the only significant spike was at lag 1, it is a AR(1) model. So we can fit a model for the data using AR(1)"
   ]
  },
  {
   "cell_type": "code",
   "execution_count": 115,
   "id": "a2ef891b",
   "metadata": {},
   "outputs": [
    {
     "name": "stdout",
     "output_type": "stream",
     "text": [
      "                               SARIMAX Results                                \n",
      "==============================================================================\n",
      "Dep. Variable:            BAC_R_Close   No. Observations:                 1935\n",
      "Model:                 ARIMA(1, 0, 0)   Log Likelihood               -3673.015\n",
      "Date:                Wed, 10 Aug 2022   AIC                           7352.029\n",
      "Time:                        15:04:24   BIC                           7368.733\n",
      "Sample:                             0   HQIC                          7358.173\n",
      "                               - 1935                                         \n",
      "Covariance Type:                  opg                                         \n",
      "==============================================================================\n",
      "                 coef    std err          z      P>|z|      [0.025      0.975]\n",
      "------------------------------------------------------------------------------\n",
      "const          0.0750      0.038      1.957      0.050      -0.000       0.150\n",
      "ar.L1          0.0281      0.017      1.617      0.106      -0.006       0.062\n",
      "sigma2         2.6078      0.057     45.397      0.000       2.495       2.720\n",
      "===================================================================================\n",
      "Ljung-Box (L1) (Q):                   0.00   Jarque-Bera (JB):               428.54\n",
      "Prob(Q):                              0.99   Prob(JB):                         0.00\n",
      "Heteroskedasticity (H):               0.84   Skew:                            -0.15\n",
      "Prob(H) (two-sided):                  0.03   Kurtosis:                         5.29\n",
      "===================================================================================\n",
      "\n",
      "Warnings:\n",
      "[1] Covariance matrix calculated using the outer product of gradients (complex-step).\n"
     ]
    }
   ],
   "source": [
    "#Build a AR(1) model using comapny returns \n",
    "ar1 = smt.ARIMA(in_sample_BAC['BAC_R_Close'], order = (1,0,0))\n",
    "res = ar1.fit()\n",
    "print(res.summary())"
   ]
  },
  {
   "cell_type": "code",
   "execution_count": 116,
   "id": "e6136532",
   "metadata": {},
   "outputs": [
    {
     "data": {
      "image/png": "[encoded data removed]",
      "text/plain": [
       "<Figure size 432x288 with 2 Axes>"
      ]
     },
     "metadata": {},
     "output_type": "display_data"
    }
   ],
   "source": [
    "#plot the residual errors from the AR(1) model \n",
    "residuals = pd.DataFrame(res.resid)\n",
    "fig, ax = plt.subplots(1,2)\n",
    "residuals.plot(title = \"Residuals\", ax = ax[0])\n",
    "residuals.plot(kind = 'kde', title = 'Density', ax = ax[1])\n",
    "plt.show()\n",
    "\n",
    "#We can see that the residual errors seem fine with a mean near zero and a uniform variance "
   ]
  },
  {
   "cell_type": "code",
   "execution_count": 117,
   "id": "7f55bdce",
   "metadata": {},
   "outputs": [
    {
     "name": "stdout",
     "output_type": "stream",
     "text": [
      "                 0\n",
      "count  1935.000000\n",
      "mean      0.000017\n",
      "std       1.615297\n",
      "min      -7.856427\n",
      "25%      -0.841504\n",
      "50%      -0.015368\n",
      "75%       0.911536\n",
      "max       6.966043\n"
     ]
    }
   ],
   "source": [
    "print(residuals.describe())"
   ]
  },
  {
   "cell_type": "code",
   "execution_count": 96,
   "id": "965213f1",
   "metadata": {},
   "outputs": [
    {
     "ename": "KeyError",
     "evalue": "'The `start` argument could not be matched to a location related to the index of the data.'",
     "output_type": "error",
     "traceback": [
      "\u001b[1;31m---------------------------------------------------------------------------\u001b[0m",
      "\u001b[1;31mKeyError\u001b[0m                                  Traceback (most recent call last)",
      "File \u001b[1;32m~\\anaconda3\\lib\\site-packages\\pandas\\_libs\\index.pyx:545\u001b[0m, in \u001b[0;36mpandas._libs.index.DatetimeEngine.get_loc\u001b[1;34m()\u001b[0m\n",
      "File \u001b[1;32mpandas\\_libs\\hashtable_class_helper.pxi:2131\u001b[0m, in \u001b[0;36mpandas._libs.hashtable.Int64HashTable.get_item\u001b[1;34m()\u001b[0m\n",
      "File \u001b[1;32mpandas\\_libs\\hashtable_class_helper.pxi:2140\u001b[0m, in \u001b[0;36mpandas._libs.hashtable.Int64HashTable.get_item\u001b[1;34m()\u001b[0m\n",
      "\u001b[1;31mKeyError\u001b[0m: 1583020800000000000",
      "\nDuring handling of the above exception, another exception occurred:\n",
      "\u001b[1;31mKeyError\u001b[0m                                  Traceback (most recent call last)",
      "File \u001b[1;32m~\\anaconda3\\lib\\site-packages\\pandas\\core\\indexes\\base.py:3621\u001b[0m, in \u001b[0;36mIndex.get_loc\u001b[1;34m(self, key, method, tolerance)\u001b[0m\n\u001b[0;32m   3620\u001b[0m \u001b[38;5;28;01mtry\u001b[39;00m:\n\u001b[1;32m-> 3621\u001b[0m     \u001b[38;5;28;01mreturn\u001b[39;00m \u001b[38;5;28;43mself\u001b[39;49m\u001b[38;5;241;43m.\u001b[39;49m\u001b[43m_engine\u001b[49m\u001b[38;5;241;43m.\u001b[39;49m\u001b[43mget_loc\u001b[49m\u001b[43m(\u001b[49m\u001b[43mcasted_key\u001b[49m\u001b[43m)\u001b[49m\n\u001b[0;32m   3622\u001b[0m \u001b[38;5;28;01mexcept\u001b[39;00m \u001b[38;5;167;01mKeyError\u001b[39;00m \u001b[38;5;28;01mas\u001b[39;00m err:\n",
      "File \u001b[1;32m~\\anaconda3\\lib\\site-packages\\pandas\\_libs\\index.pyx:513\u001b[0m, in \u001b[0;36mpandas._libs.index.DatetimeEngine.get_loc\u001b[1;34m()\u001b[0m\n",
      "File \u001b[1;32m~\\anaconda3\\lib\\site-packages\\pandas\\_libs\\index.pyx:547\u001b[0m, in \u001b[0;36mpandas._libs.index.DatetimeEngine.get_loc\u001b[1;34m()\u001b[0m\n",
      "\u001b[1;31mKeyError\u001b[0m: Timestamp('2020-03-01 00:00:00')",
      "\nThe above exception was the direct cause of the following exception:\n",
      "\u001b[1;31mKeyError\u001b[0m                                  Traceback (most recent call last)",
      "File \u001b[1;32m~\\anaconda3\\lib\\site-packages\\pandas\\core\\indexes\\datetimes.py:679\u001b[0m, in \u001b[0;36mDatetimeIndex.get_loc\u001b[1;34m(self, key, method, tolerance)\u001b[0m\n\u001b[0;32m    678\u001b[0m \u001b[38;5;28;01mtry\u001b[39;00m:\n\u001b[1;32m--> 679\u001b[0m     \u001b[38;5;28;01mreturn\u001b[39;00m \u001b[43mIndex\u001b[49m\u001b[38;5;241;43m.\u001b[39;49m\u001b[43mget_loc\u001b[49m\u001b[43m(\u001b[49m\u001b[38;5;28;43mself\u001b[39;49m\u001b[43m,\u001b[49m\u001b[43m \u001b[49m\u001b[43mkey\u001b[49m\u001b[43m,\u001b[49m\u001b[43m \u001b[49m\u001b[43mmethod\u001b[49m\u001b[43m,\u001b[49m\u001b[43m \u001b[49m\u001b[43mtolerance\u001b[49m\u001b[43m)\u001b[49m\n\u001b[0;32m    680\u001b[0m \u001b[38;5;28;01mexcept\u001b[39;00m \u001b[38;5;167;01mKeyError\u001b[39;00m \u001b[38;5;28;01mas\u001b[39;00m err:\n",
      "File \u001b[1;32m~\\anaconda3\\lib\\site-packages\\pandas\\core\\indexes\\base.py:3623\u001b[0m, in \u001b[0;36mIndex.get_loc\u001b[1;34m(self, key, method, tolerance)\u001b[0m\n\u001b[0;32m   3622\u001b[0m \u001b[38;5;28;01mexcept\u001b[39;00m \u001b[38;5;167;01mKeyError\u001b[39;00m \u001b[38;5;28;01mas\u001b[39;00m err:\n\u001b[1;32m-> 3623\u001b[0m     \u001b[38;5;28;01mraise\u001b[39;00m \u001b[38;5;167;01mKeyError\u001b[39;00m(key) \u001b[38;5;28;01mfrom\u001b[39;00m \u001b[38;5;21;01merr\u001b[39;00m\n\u001b[0;32m   3624\u001b[0m \u001b[38;5;28;01mexcept\u001b[39;00m \u001b[38;5;167;01mTypeError\u001b[39;00m:\n\u001b[0;32m   3625\u001b[0m     \u001b[38;5;66;03m# If we have a listlike key, _check_indexing_error will raise\u001b[39;00m\n\u001b[0;32m   3626\u001b[0m     \u001b[38;5;66;03m#  InvalidIndexError. Otherwise we fall through and re-raise\u001b[39;00m\n\u001b[0;32m   3627\u001b[0m     \u001b[38;5;66;03m#  the TypeError.\u001b[39;00m\n",
      "\u001b[1;31mKeyError\u001b[0m: Timestamp('2020-03-01 00:00:00')",
      "\nThe above exception was the direct cause of the following exception:\n",
      "\u001b[1;31mKeyError\u001b[0m                                  Traceback (most recent call last)",
      "File \u001b[1;32m~\\anaconda3\\lib\\site-packages\\statsmodels\\tsa\\base\\tsa_model.py:247\u001b[0m, in \u001b[0;36mget_index_label_loc\u001b[1;34m(key, index, row_labels)\u001b[0m\n\u001b[0;32m    246\u001b[0m \u001b[38;5;28;01mif\u001b[39;00m \u001b[38;5;129;01mnot\u001b[39;00m \u001b[38;5;28misinstance\u001b[39m(key, (\u001b[38;5;28mint\u001b[39m, np\u001b[38;5;241m.\u001b[39minteger)):\n\u001b[1;32m--> 247\u001b[0m     loc \u001b[38;5;241m=\u001b[39m \u001b[43mrow_labels\u001b[49m\u001b[38;5;241;43m.\u001b[39;49m\u001b[43mget_loc\u001b[49m\u001b[43m(\u001b[49m\u001b[43mkey\u001b[49m\u001b[43m)\u001b[49m\n\u001b[0;32m    248\u001b[0m \u001b[38;5;28;01melse\u001b[39;00m:\n",
      "File \u001b[1;32m~\\anaconda3\\lib\\site-packages\\pandas\\core\\indexes\\datetimes.py:681\u001b[0m, in \u001b[0;36mDatetimeIndex.get_loc\u001b[1;34m(self, key, method, tolerance)\u001b[0m\n\u001b[0;32m    680\u001b[0m \u001b[38;5;28;01mexcept\u001b[39;00m \u001b[38;5;167;01mKeyError\u001b[39;00m \u001b[38;5;28;01mas\u001b[39;00m err:\n\u001b[1;32m--> 681\u001b[0m     \u001b[38;5;28;01mraise\u001b[39;00m \u001b[38;5;167;01mKeyError\u001b[39;00m(orig_key) \u001b[38;5;28;01mfrom\u001b[39;00m \u001b[38;5;21;01merr\u001b[39;00m\n",
      "\u001b[1;31mKeyError\u001b[0m: '2020-3-1'",
      "\nDuring handling of the above exception, another exception occurred:\n",
      "\u001b[1;31mKeyError\u001b[0m                                  Traceback (most recent call last)",
      "File \u001b[1;32m~\\anaconda3\\lib\\site-packages\\statsmodels\\tsa\\base\\tsa_model.py:356\u001b[0m, in \u001b[0;36mget_prediction_index\u001b[1;34m(start, end, nobs, base_index, index, silent, index_none, index_generated, data)\u001b[0m\n\u001b[0;32m    355\u001b[0m \u001b[38;5;28;01mtry\u001b[39;00m:\n\u001b[1;32m--> 356\u001b[0m     start, _, start_oos \u001b[38;5;241m=\u001b[39m \u001b[43mget_index_label_loc\u001b[49m\u001b[43m(\u001b[49m\n\u001b[0;32m    357\u001b[0m \u001b[43m        \u001b[49m\u001b[43mstart\u001b[49m\u001b[43m,\u001b[49m\u001b[43m \u001b[49m\u001b[43mbase_index\u001b[49m\u001b[43m,\u001b[49m\u001b[43m \u001b[49m\u001b[43mdata\u001b[49m\u001b[38;5;241;43m.\u001b[39;49m\u001b[43mrow_labels\u001b[49m\n\u001b[0;32m    358\u001b[0m \u001b[43m    \u001b[49m\u001b[43m)\u001b[49m\n\u001b[0;32m    359\u001b[0m \u001b[38;5;28;01mexcept\u001b[39;00m \u001b[38;5;167;01mKeyError\u001b[39;00m:\n",
      "File \u001b[1;32m~\\anaconda3\\lib\\site-packages\\statsmodels\\tsa\\base\\tsa_model.py:279\u001b[0m, in \u001b[0;36mget_index_label_loc\u001b[1;34m(key, index, row_labels)\u001b[0m\n\u001b[0;32m    278\u001b[0m     \u001b[38;5;28;01mexcept\u001b[39;00m:\n\u001b[1;32m--> 279\u001b[0m         \u001b[38;5;28;01mraise\u001b[39;00m e\n\u001b[0;32m    280\u001b[0m \u001b[38;5;28;01mreturn\u001b[39;00m loc, index, index_was_expanded\n",
      "File \u001b[1;32m~\\anaconda3\\lib\\site-packages\\statsmodels\\tsa\\base\\tsa_model.py:243\u001b[0m, in \u001b[0;36mget_index_label_loc\u001b[1;34m(key, index, row_labels)\u001b[0m\n\u001b[0;32m    242\u001b[0m \u001b[38;5;28;01mtry\u001b[39;00m:\n\u001b[1;32m--> 243\u001b[0m     loc, index, index_was_expanded \u001b[38;5;241m=\u001b[39m \u001b[43mget_index_loc\u001b[49m\u001b[43m(\u001b[49m\u001b[43mkey\u001b[49m\u001b[43m,\u001b[49m\u001b[43m \u001b[49m\u001b[43mindex\u001b[49m\u001b[43m)\u001b[49m\n\u001b[0;32m    244\u001b[0m \u001b[38;5;28;01mexcept\u001b[39;00m \u001b[38;5;167;01mKeyError\u001b[39;00m \u001b[38;5;28;01mas\u001b[39;00m e:\n",
      "File \u001b[1;32m~\\anaconda3\\lib\\site-packages\\statsmodels\\tsa\\base\\tsa_model.py:193\u001b[0m, in \u001b[0;36mget_index_loc\u001b[1;34m(key, index)\u001b[0m\n\u001b[0;32m    192\u001b[0m \u001b[38;5;28;01mexcept\u001b[39;00m (\u001b[38;5;167;01mIndexError\u001b[39;00m, \u001b[38;5;167;01mValueError\u001b[39;00m) \u001b[38;5;28;01mas\u001b[39;00m e:\n\u001b[1;32m--> 193\u001b[0m     \u001b[38;5;28;01mraise\u001b[39;00m \u001b[38;5;167;01mKeyError\u001b[39;00m(\u001b[38;5;28mstr\u001b[39m(e))\n\u001b[0;32m    194\u001b[0m loc \u001b[38;5;241m=\u001b[39m key\n",
      "\u001b[1;31mKeyError\u001b[0m: 'only integers, slices (`:`), ellipsis (`...`), numpy.newaxis (`None`) and integer or boolean arrays are valid indices'",
      "\nDuring handling of the above exception, another exception occurred:\n",
      "\u001b[1;31mKeyError\u001b[0m                                  Traceback (most recent call last)",
      "Input \u001b[1;32mIn [96]\u001b[0m, in \u001b[0;36m<cell line: 1>\u001b[1;34m()\u001b[0m\n\u001b[1;32m----> 1\u001b[0m forecast \u001b[38;5;241m=\u001b[39m \u001b[43mres\u001b[49m\u001b[38;5;241;43m.\u001b[39;49m\u001b[43mpredict\u001b[49m\u001b[43m(\u001b[49m\u001b[43mstart\u001b[49m\u001b[43m \u001b[49m\u001b[38;5;241;43m=\u001b[39;49m\u001b[43m \u001b[49m\u001b[38;5;124;43m'\u001b[39;49m\u001b[38;5;124;43m2020-3-1\u001b[39;49m\u001b[38;5;124;43m'\u001b[39;49m\u001b[43m,\u001b[49m\u001b[43m \u001b[49m\u001b[43mend\u001b[49m\u001b[43m \u001b[49m\u001b[38;5;241;43m=\u001b[39;49m\u001b[43m \u001b[49m\u001b[38;5;124;43m'\u001b[39;49m\u001b[38;5;124;43m2022-6-16\u001b[39;49m\u001b[38;5;124;43m'\u001b[39;49m\u001b[43m)\u001b[49m\n",
      "File \u001b[1;32m~\\anaconda3\\lib\\site-packages\\statsmodels\\base\\wrapper.py:113\u001b[0m, in \u001b[0;36mmake_wrapper.<locals>.wrapper\u001b[1;34m(self, *args, **kwargs)\u001b[0m\n\u001b[0;32m    111\u001b[0m     obj \u001b[38;5;241m=\u001b[39m data\u001b[38;5;241m.\u001b[39mwrap_output(func(results, \u001b[38;5;241m*\u001b[39margs, \u001b[38;5;241m*\u001b[39m\u001b[38;5;241m*\u001b[39mkwargs), how[\u001b[38;5;241m0\u001b[39m], how[\u001b[38;5;241m1\u001b[39m:])\n\u001b[0;32m    112\u001b[0m \u001b[38;5;28;01melif\u001b[39;00m how:\n\u001b[1;32m--> 113\u001b[0m     obj \u001b[38;5;241m=\u001b[39m data\u001b[38;5;241m.\u001b[39mwrap_output(func(results, \u001b[38;5;241m*\u001b[39margs, \u001b[38;5;241m*\u001b[39m\u001b[38;5;241m*\u001b[39mkwargs), how)\n\u001b[0;32m    114\u001b[0m \u001b[38;5;28;01mreturn\u001b[39;00m obj\n",
      "File \u001b[1;32m~\\anaconda3\\lib\\site-packages\\statsmodels\\tsa\\statespace\\mlemodel.py:3403\u001b[0m, in \u001b[0;36mMLEResults.predict\u001b[1;34m(self, start, end, dynamic, **kwargs)\u001b[0m\n\u001b[0;32m   3357\u001b[0m \u001b[38;5;124;03m\"\"\"\u001b[39;00m\n\u001b[0;32m   3358\u001b[0m \u001b[38;5;124;03mIn-sample prediction and out-of-sample forecasting\u001b[39;00m\n\u001b[0;32m   3359\u001b[0m \n\u001b[1;32m   (...)\u001b[0m\n\u001b[0;32m   3400\u001b[0m \u001b[38;5;124;03m    including confidence intervals.\u001b[39;00m\n\u001b[0;32m   3401\u001b[0m \u001b[38;5;124;03m\"\"\"\u001b[39;00m\n\u001b[0;32m   3402\u001b[0m \u001b[38;5;66;03m# Perform the prediction\u001b[39;00m\n\u001b[1;32m-> 3403\u001b[0m prediction_results \u001b[38;5;241m=\u001b[39m \u001b[38;5;28mself\u001b[39m\u001b[38;5;241m.\u001b[39mget_prediction(start, end, dynamic, \u001b[38;5;241m*\u001b[39m\u001b[38;5;241m*\u001b[39mkwargs)\n\u001b[0;32m   3404\u001b[0m \u001b[38;5;28;01mreturn\u001b[39;00m prediction_results\u001b[38;5;241m.\u001b[39mpredicted_mean\n",
      "File \u001b[1;32m~\\anaconda3\\lib\\site-packages\\statsmodels\\tsa\\statespace\\mlemodel.py:3287\u001b[0m, in \u001b[0;36mMLEResults.get_prediction\u001b[1;34m(self, start, end, dynamic, index, exog, extend_model, extend_kwargs, **kwargs)\u001b[0m\n\u001b[0;32m   3283\u001b[0m     start \u001b[38;5;241m=\u001b[39m \u001b[38;5;241m0\u001b[39m\n\u001b[0;32m   3285\u001b[0m \u001b[38;5;66;03m# Handle start, end, dynamic\u001b[39;00m\n\u001b[0;32m   3286\u001b[0m start, end, out_of_sample, prediction_index \u001b[38;5;241m=\u001b[39m (\n\u001b[1;32m-> 3287\u001b[0m     \u001b[38;5;28;43mself\u001b[39;49m\u001b[38;5;241;43m.\u001b[39;49m\u001b[43mmodel\u001b[49m\u001b[38;5;241;43m.\u001b[39;49m\u001b[43m_get_prediction_index\u001b[49m\u001b[43m(\u001b[49m\u001b[43mstart\u001b[49m\u001b[43m,\u001b[49m\u001b[43m \u001b[49m\u001b[43mend\u001b[49m\u001b[43m,\u001b[49m\u001b[43m \u001b[49m\u001b[43mindex\u001b[49m\u001b[43m)\u001b[49m)\n\u001b[0;32m   3289\u001b[0m \u001b[38;5;66;03m# Handle `dynamic`\u001b[39;00m\n\u001b[0;32m   3290\u001b[0m \u001b[38;5;28;01mif\u001b[39;00m \u001b[38;5;28misinstance\u001b[39m(dynamic, (\u001b[38;5;28mstr\u001b[39m, dt\u001b[38;5;241m.\u001b[39mdatetime, pd\u001b[38;5;241m.\u001b[39mTimestamp)):\n",
      "File \u001b[1;32m~\\anaconda3\\lib\\site-packages\\statsmodels\\tsa\\base\\tsa_model.py:834\u001b[0m, in \u001b[0;36mTimeSeriesModel._get_prediction_index\u001b[1;34m(self, start, end, index, silent)\u001b[0m\n\u001b[0;32m    778\u001b[0m \u001b[38;5;124;03m\"\"\"\u001b[39;00m\n\u001b[0;32m    779\u001b[0m \u001b[38;5;124;03mGet the location of a specific key in an index or model row labels\u001b[39;00m\n\u001b[0;32m    780\u001b[0m \n\u001b[1;32m   (...)\u001b[0m\n\u001b[0;32m    831\u001b[0m \u001b[38;5;124;03msince we have required them to be full indexes, there is no ambiguity).\u001b[39;00m\n\u001b[0;32m    832\u001b[0m \u001b[38;5;124;03m\"\"\"\u001b[39;00m\n\u001b[0;32m    833\u001b[0m nobs \u001b[38;5;241m=\u001b[39m \u001b[38;5;28mlen\u001b[39m(\u001b[38;5;28mself\u001b[39m\u001b[38;5;241m.\u001b[39mendog)\n\u001b[1;32m--> 834\u001b[0m \u001b[38;5;28;01mreturn\u001b[39;00m \u001b[43mget_prediction_index\u001b[49m\u001b[43m(\u001b[49m\n\u001b[0;32m    835\u001b[0m \u001b[43m    \u001b[49m\u001b[43mstart\u001b[49m\u001b[43m,\u001b[49m\n\u001b[0;32m    836\u001b[0m \u001b[43m    \u001b[49m\u001b[43mend\u001b[49m\u001b[43m,\u001b[49m\n\u001b[0;32m    837\u001b[0m \u001b[43m    \u001b[49m\u001b[43mnobs\u001b[49m\u001b[43m,\u001b[49m\n\u001b[0;32m    838\u001b[0m \u001b[43m    \u001b[49m\u001b[43mbase_index\u001b[49m\u001b[38;5;241;43m=\u001b[39;49m\u001b[38;5;28;43mself\u001b[39;49m\u001b[38;5;241;43m.\u001b[39;49m\u001b[43m_index\u001b[49m\u001b[43m,\u001b[49m\n\u001b[0;32m    839\u001b[0m \u001b[43m    \u001b[49m\u001b[43mindex\u001b[49m\u001b[38;5;241;43m=\u001b[39;49m\u001b[43mindex\u001b[49m\u001b[43m,\u001b[49m\n\u001b[0;32m    840\u001b[0m \u001b[43m    \u001b[49m\u001b[43msilent\u001b[49m\u001b[38;5;241;43m=\u001b[39;49m\u001b[43msilent\u001b[49m\u001b[43m,\u001b[49m\n\u001b[0;32m    841\u001b[0m \u001b[43m    \u001b[49m\u001b[43mindex_none\u001b[49m\u001b[38;5;241;43m=\u001b[39;49m\u001b[38;5;28;43mself\u001b[39;49m\u001b[38;5;241;43m.\u001b[39;49m\u001b[43m_index_none\u001b[49m\u001b[43m,\u001b[49m\n\u001b[0;32m    842\u001b[0m \u001b[43m    \u001b[49m\u001b[43mindex_generated\u001b[49m\u001b[38;5;241;43m=\u001b[39;49m\u001b[38;5;28;43mself\u001b[39;49m\u001b[38;5;241;43m.\u001b[39;49m\u001b[43m_index_generated\u001b[49m\u001b[43m,\u001b[49m\n\u001b[0;32m    843\u001b[0m \u001b[43m    \u001b[49m\u001b[43mdata\u001b[49m\u001b[38;5;241;43m=\u001b[39;49m\u001b[38;5;28;43mself\u001b[39;49m\u001b[38;5;241;43m.\u001b[39;49m\u001b[43mdata\u001b[49m\u001b[43m,\u001b[49m\n\u001b[0;32m    844\u001b[0m \u001b[43m\u001b[49m\u001b[43m)\u001b[49m\n",
      "File \u001b[1;32m~\\anaconda3\\lib\\site-packages\\statsmodels\\tsa\\base\\tsa_model.py:360\u001b[0m, in \u001b[0;36mget_prediction_index\u001b[1;34m(start, end, nobs, base_index, index, silent, index_none, index_generated, data)\u001b[0m\n\u001b[0;32m    356\u001b[0m     start, _, start_oos \u001b[38;5;241m=\u001b[39m get_index_label_loc(\n\u001b[0;32m    357\u001b[0m         start, base_index, data\u001b[38;5;241m.\u001b[39mrow_labels\n\u001b[0;32m    358\u001b[0m     )\n\u001b[0;32m    359\u001b[0m \u001b[38;5;28;01mexcept\u001b[39;00m \u001b[38;5;167;01mKeyError\u001b[39;00m:\n\u001b[1;32m--> 360\u001b[0m     \u001b[38;5;28;01mraise\u001b[39;00m \u001b[38;5;167;01mKeyError\u001b[39;00m(\n\u001b[0;32m    361\u001b[0m         \u001b[38;5;124m\"\u001b[39m\u001b[38;5;124mThe `start` argument could not be matched to a\u001b[39m\u001b[38;5;124m\"\u001b[39m\n\u001b[0;32m    362\u001b[0m         \u001b[38;5;124m\"\u001b[39m\u001b[38;5;124m location related to the index of the data.\u001b[39m\u001b[38;5;124m\"\u001b[39m\n\u001b[0;32m    363\u001b[0m     )\n\u001b[0;32m    364\u001b[0m \u001b[38;5;28;01mif\u001b[39;00m end \u001b[38;5;129;01mis\u001b[39;00m \u001b[38;5;28;01mNone\u001b[39;00m:\n\u001b[0;32m    365\u001b[0m     end \u001b[38;5;241m=\u001b[39m \u001b[38;5;28mmax\u001b[39m(start, \u001b[38;5;28mlen\u001b[39m(base_index) \u001b[38;5;241m-\u001b[39m \u001b[38;5;241m1\u001b[39m)\n",
      "\u001b[1;31mKeyError\u001b[0m: 'The `start` argument could not be matched to a location related to the index of the data.'"
     ]
    }
   ],
   "source": [
    "forecast = res.predict(start = '2020-3-1', end = '2022-6-16')"
   ]
  },
  {
   "cell_type": "code",
   "execution_count": 122,
   "id": "554ad980",
   "metadata": {},
   "outputs": [],
   "source": [
    "#plot the ARIMA model \n",
    "training_data = in_sample_BAC['BAC_R_Close'].values\n",
    "test_data = evaluation_BAC['BAC_R_Close'].values\n",
    "history = [x for x in training_data]\n",
    "model_predictions = []\n",
    "N_test_observations = len(test_data)\n",
    "\n",
    "for time_point in range(N_test_observations):\n",
    "    model = ARIMA(history, order=(1,0,0))\n",
    "    model_fit = model.fit()\n",
    "    output = model_fit.forecast()\n",
    "    yhat = output[0]\n",
    "    model_predictions.append(yhat)\n",
    "    true_test_value = test_data[time_point]\n",
    "    history.append(true_test_value)\n"
   ]
  },
  {
   "cell_type": "code",
   "execution_count": 123,
   "id": "54ef2114",
   "metadata": {},
   "outputs": [
    {
     "name": "stdout",
     "output_type": "stream",
     "text": [
      "Testing Mean Squared Error is 7.711598467038898\n"
     ]
    }
   ],
   "source": [
    "MSE_error = mean_squared_error(test_data, model_predictions)\n",
    "print('Testing Mean Squared Error is {}'.format(MSE_error))"
   ]
  },
  {
   "cell_type": "code",
   "execution_count": 128,
   "id": "39f71d10",
   "metadata": {},
   "outputs": [
    {
     "ename": "AttributeError",
     "evalue": "'Series' object has no attribute 'Date'",
     "output_type": "error",
     "traceback": [
      "\u001b[1;31m---------------------------------------------------------------------------\u001b[0m",
      "\u001b[1;31mAttributeError\u001b[0m                            Traceback (most recent call last)",
      "Input \u001b[1;32mIn [128]\u001b[0m, in \u001b[0;36m<cell line: 8>\u001b[1;34m()\u001b[0m\n\u001b[0;32m      6\u001b[0m plt\u001b[38;5;241m.\u001b[39mxlabel(\u001b[38;5;124m'\u001b[39m\u001b[38;5;124mDate\u001b[39m\u001b[38;5;124m'\u001b[39m)\n\u001b[0;32m      7\u001b[0m plt\u001b[38;5;241m.\u001b[39mylabel(\u001b[38;5;124m'\u001b[39m\u001b[38;5;124mPrices\u001b[39m\u001b[38;5;124m'\u001b[39m)\n\u001b[1;32m----> 8\u001b[0m plt\u001b[38;5;241m.\u001b[39mxticks(np\u001b[38;5;241m.\u001b[39marange(\u001b[38;5;241m881\u001b[39m,\u001b[38;5;241m1259\u001b[39m,\u001b[38;5;241m50\u001b[39m), \u001b[43min_sample_BAC\u001b[49m\u001b[43m[\u001b[49m\u001b[38;5;124;43m'\u001b[39;49m\u001b[38;5;124;43mBAC_R_Close\u001b[39;49m\u001b[38;5;124;43m'\u001b[39;49m\u001b[43m]\u001b[49m\u001b[38;5;241;43m.\u001b[39;49m\u001b[43mDate\u001b[49m[\u001b[38;5;241m881\u001b[39m:\u001b[38;5;241m1259\u001b[39m:\u001b[38;5;241m50\u001b[39m])\n\u001b[0;32m      9\u001b[0m plt\u001b[38;5;241m.\u001b[39mlegend()\n\u001b[0;32m     10\u001b[0m plt\u001b[38;5;241m.\u001b[39mshow()\n",
      "File \u001b[1;32m~\\anaconda3\\lib\\site-packages\\pandas\\core\\generic.py:5575\u001b[0m, in \u001b[0;36mNDFrame.__getattr__\u001b[1;34m(self, name)\u001b[0m\n\u001b[0;32m   5568\u001b[0m \u001b[38;5;28;01mif\u001b[39;00m (\n\u001b[0;32m   5569\u001b[0m     name \u001b[38;5;129;01mnot\u001b[39;00m \u001b[38;5;129;01min\u001b[39;00m \u001b[38;5;28mself\u001b[39m\u001b[38;5;241m.\u001b[39m_internal_names_set\n\u001b[0;32m   5570\u001b[0m     \u001b[38;5;129;01mand\u001b[39;00m name \u001b[38;5;129;01mnot\u001b[39;00m \u001b[38;5;129;01min\u001b[39;00m \u001b[38;5;28mself\u001b[39m\u001b[38;5;241m.\u001b[39m_metadata\n\u001b[0;32m   5571\u001b[0m     \u001b[38;5;129;01mand\u001b[39;00m name \u001b[38;5;129;01mnot\u001b[39;00m \u001b[38;5;129;01min\u001b[39;00m \u001b[38;5;28mself\u001b[39m\u001b[38;5;241m.\u001b[39m_accessors\n\u001b[0;32m   5572\u001b[0m     \u001b[38;5;129;01mand\u001b[39;00m \u001b[38;5;28mself\u001b[39m\u001b[38;5;241m.\u001b[39m_info_axis\u001b[38;5;241m.\u001b[39m_can_hold_identifiers_and_holds_name(name)\n\u001b[0;32m   5573\u001b[0m ):\n\u001b[0;32m   5574\u001b[0m     \u001b[38;5;28;01mreturn\u001b[39;00m \u001b[38;5;28mself\u001b[39m[name]\n\u001b[1;32m-> 5575\u001b[0m \u001b[38;5;28;01mreturn\u001b[39;00m \u001b[38;5;28;43mobject\u001b[39;49m\u001b[38;5;241;43m.\u001b[39;49m\u001b[38;5;21;43m__getattribute__\u001b[39;49m\u001b[43m(\u001b[49m\u001b[38;5;28;43mself\u001b[39;49m\u001b[43m,\u001b[49m\u001b[43m \u001b[49m\u001b[43mname\u001b[49m\u001b[43m)\u001b[49m\n",
      "\u001b[1;31mAttributeError\u001b[0m: 'Series' object has no attribute 'Date'"
     ]
    },
    {
     "data": {
      "image/png": "[encoded data removed]",
      "text/plain": [
       "<Figure size 432x288 with 1 Axes>"
      ]
     },
     "metadata": {},
     "output_type": "display_data"
    }
   ],
   "source": [
    "test_set_range = evaluation_BAC['BAC_R_Close'].index\n",
    "\n",
    "plt.plot(test_set_range, model_predictions, color='blue', marker='o',label='Predicted Price')\n",
    "plt.plot(test_set_range, test_data, color='red', label='Actual Price')\n",
    "plt.title('TESLA Prices Prediction')\n",
    "plt.xlabel('Date')\n",
    "plt.ylabel('Prices')\n",
    "plt.xticks(np.arange(881,1259,50), in_sample_BAC['BAC_R_Close'].Date[881:1259:50])\n",
    "plt.legend()\n",
    "plt.show()"
   ]
  },
  {
   "cell_type": "code",
   "execution_count": 25,
   "id": "870bb875",
   "metadata": {},
   "outputs": [
    {
     "ename": "ValueError",
     "evalue": "too many values to unpack (expected 3)",
     "output_type": "error",
     "traceback": [
      "\u001b[1;31m---------------------------------------------------------------------------\u001b[0m",
      "\u001b[1;31mValueError\u001b[0m                                Traceback (most recent call last)",
      "Input \u001b[1;32mIn [25]\u001b[0m, in \u001b[0;36m<cell line: 2>\u001b[1;34m()\u001b[0m\n\u001b[0;32m      1\u001b[0m \u001b[38;5;66;03m#Forecast \u001b[39;00m\n\u001b[1;32m----> 2\u001b[0m fc, se, conf \u001b[38;5;241m=\u001b[39m res\u001b[38;5;241m.\u001b[39mforecast(\u001b[38;5;241m579\u001b[39m, alpha \u001b[38;5;241m=\u001b[39m \u001b[38;5;241m0.05\u001b[39m)  \u001b[38;5;66;03m# 95% conf\u001b[39;00m\n\u001b[0;32m      3\u001b[0m \u001b[38;5;66;03m# Make as pandas series\u001b[39;00m\n\u001b[0;32m      4\u001b[0m fc_series \u001b[38;5;241m=\u001b[39m pd\u001b[38;5;241m.\u001b[39mSeries(fc, index \u001b[38;5;241m=\u001b[39m evaluation_BAC[\u001b[38;5;124m'\u001b[39m\u001b[38;5;124mBAC_R_Close\u001b[39m\u001b[38;5;124m'\u001b[39m]\u001b[38;5;241m.\u001b[39mindex)\n",
      "\u001b[1;31mValueError\u001b[0m: too many values to unpack (expected 3)"
     ]
    }
   ],
   "source": [
    "#Forecast \n",
    "fc, se, conf = res.forecast(579, alpha = 0.05)  # 95% conf\n",
    "# Make as pandas series\n",
    "fc_series = pd.Series(fc, index = evaluation_BAC['BAC_R_Close'].index)\n",
    "lower_series = pd.Series(conf[:, 0], index = evaluation_BAC['BAC_R_Close'].index)\n",
    "upper_series = pd.Series(conf[:, 1], index = evaluation_BAC['BAC_R_Close'].index)\n",
    "\n",
    "# Plot\n",
    "plt.figure(figsize=(12,5), dpi=100)\n",
    "plt.plot(in_sample_BAC['BAC_R_Close'], label = 'training')\n",
    "plt.plot(evaluation_BAC['BAC_R_Close'], label = 'actual')\n",
    "plt.plot(fc_series, label = 'forecast')\n",
    "plt.fill_between(lower_series.index, lower_series, upper_series, color='k', alpha=.15)\n",
    "plt.title('Forecast vs Actuals')\n",
    "plt.legend(loc='upper left', fontsize=8)\n",
    "plt.show()"
   ]
  },
  {
   "cell_type": "markdown",
   "id": "31efdee6",
   "metadata": {},
   "source": [
    "#  Using BAC to build a CAPM Model "
   ]
  },
  {
   "cell_type": "code",
   "execution_count": 104,
   "id": "04681fba",
   "metadata": {},
   "outputs": [
    {
     "name": "stdout",
     "output_type": "stream",
     "text": [
      "[*********************100%***********************]  1 of 1 completed\n"
     ]
    },
    {
     "data": {
      "text/html": [
       "<div>\n",
       "<style scoped>\n",
       "    .dataframe tbody tr th:only-of-type {\n",
       "        vertical-align: middle;\n",
       "    }\n",
       "\n",
       "    .dataframe tbody tr th {\n",
       "        vertical-align: top;\n",
       "    }\n",
       "\n",
       "    .dataframe thead th {\n",
       "        text-align: right;\n",
       "    }\n",
       "</style>\n",
       "<table border=\"1\" class=\"dataframe\">\n",
       "  <thead>\n",
       "    <tr style=\"text-align: right;\">\n",
       "      <th></th>\n",
       "      <th>Adj Close</th>\n",
       "    </tr>\n",
       "    <tr>\n",
       "      <th>Date</th>\n",
       "      <th></th>\n",
       "    </tr>\n",
       "  </thead>\n",
       "  <tbody>\n",
       "    <tr>\n",
       "      <th>2012-06-15</th>\n",
       "      <td>0.085</td>\n",
       "    </tr>\n",
       "    <tr>\n",
       "      <th>2012-06-18</th>\n",
       "      <td>0.075</td>\n",
       "    </tr>\n",
       "    <tr>\n",
       "      <th>2012-06-19</th>\n",
       "      <td>0.090</td>\n",
       "    </tr>\n",
       "    <tr>\n",
       "      <th>2012-06-20</th>\n",
       "      <td>0.080</td>\n",
       "    </tr>\n",
       "    <tr>\n",
       "      <th>2012-06-21</th>\n",
       "      <td>0.075</td>\n",
       "    </tr>\n",
       "    <tr>\n",
       "      <th>...</th>\n",
       "      <td>...</td>\n",
       "    </tr>\n",
       "    <tr>\n",
       "      <th>2020-02-21</th>\n",
       "      <td>1.518</td>\n",
       "    </tr>\n",
       "    <tr>\n",
       "      <th>2020-02-24</th>\n",
       "      <td>1.503</td>\n",
       "    </tr>\n",
       "    <tr>\n",
       "      <th>2020-02-25</th>\n",
       "      <td>1.490</td>\n",
       "    </tr>\n",
       "    <tr>\n",
       "      <th>2020-02-26</th>\n",
       "      <td>1.478</td>\n",
       "    </tr>\n",
       "    <tr>\n",
       "      <th>2020-02-27</th>\n",
       "      <td>1.395</td>\n",
       "    </tr>\n",
       "  </tbody>\n",
       "</table>\n",
       "<p>1935 rows × 1 columns</p>\n",
       "</div>"
      ],
      "text/plain": [
       "            Adj Close\n",
       "Date                 \n",
       "2012-06-15      0.085\n",
       "2012-06-18      0.075\n",
       "2012-06-19      0.090\n",
       "2012-06-20      0.080\n",
       "2012-06-21      0.075\n",
       "...               ...\n",
       "2020-02-21      1.518\n",
       "2020-02-24      1.503\n",
       "2020-02-25      1.490\n",
       "2020-02-26      1.478\n",
       "2020-02-27      1.395\n",
       "\n",
       "[1935 rows x 1 columns]"
      ]
     },
     "execution_count": 104,
     "metadata": {},
     "output_type": "execute_result"
    }
   ],
   "source": [
    "#get the risk free rate (treasury data) \n",
    "risk_free = yf.download(\"^IRX\", start='2012-6-16', end='2020-2-28')\n",
    "risk_free = risk_free.drop(columns = ['Open', 'High', 'Low', 'Close', 'Volume'], axis=1)\n",
    "risk_free = risk_free.dropna()\n",
    "risk_free"
   ]
  },
  {
   "cell_type": "code",
   "execution_count": 105,
   "id": "c2aa3e9d",
   "metadata": {},
   "outputs": [
    {
     "data": {
      "text/html": [
       "<div>\n",
       "<style scoped>\n",
       "    .dataframe tbody tr th:only-of-type {\n",
       "        vertical-align: middle;\n",
       "    }\n",
       "\n",
       "    .dataframe tbody tr th {\n",
       "        vertical-align: top;\n",
       "    }\n",
       "\n",
       "    .dataframe thead th {\n",
       "        text-align: right;\n",
       "    }\n",
       "</style>\n",
       "<table border=\"1\" class=\"dataframe\">\n",
       "  <thead>\n",
       "    <tr style=\"text-align: right;\">\n",
       "      <th></th>\n",
       "      <th>Adj Close</th>\n",
       "      <th>Risk_Free</th>\n",
       "    </tr>\n",
       "    <tr>\n",
       "      <th>Date</th>\n",
       "      <th></th>\n",
       "      <th></th>\n",
       "    </tr>\n",
       "  </thead>\n",
       "  <tbody>\n",
       "    <tr>\n",
       "      <th>2012-06-15</th>\n",
       "      <td>0.085</td>\n",
       "      <td>0.022661</td>\n",
       "    </tr>\n",
       "    <tr>\n",
       "      <th>2012-06-18</th>\n",
       "      <td>0.075</td>\n",
       "      <td>0.020089</td>\n",
       "    </tr>\n",
       "    <tr>\n",
       "      <th>2012-06-19</th>\n",
       "      <td>0.090</td>\n",
       "      <td>0.023938</td>\n",
       "    </tr>\n",
       "    <tr>\n",
       "      <th>2012-06-20</th>\n",
       "      <td>0.080</td>\n",
       "      <td>0.021378</td>\n",
       "    </tr>\n",
       "    <tr>\n",
       "      <th>2012-06-21</th>\n",
       "      <td>0.075</td>\n",
       "      <td>0.020089</td>\n",
       "    </tr>\n",
       "    <tr>\n",
       "      <th>...</th>\n",
       "      <td>...</td>\n",
       "      <td>...</td>\n",
       "    </tr>\n",
       "    <tr>\n",
       "      <th>2020-02-21</th>\n",
       "      <td>1.518</td>\n",
       "      <td>0.256518</td>\n",
       "    </tr>\n",
       "    <tr>\n",
       "      <th>2020-02-24</th>\n",
       "      <td>1.503</td>\n",
       "      <td>0.254858</td>\n",
       "    </tr>\n",
       "    <tr>\n",
       "      <th>2020-02-25</th>\n",
       "      <td>1.490</td>\n",
       "      <td>0.253412</td>\n",
       "    </tr>\n",
       "    <tr>\n",
       "      <th>2020-02-26</th>\n",
       "      <td>1.478</td>\n",
       "      <td>0.252070</td>\n",
       "    </tr>\n",
       "    <tr>\n",
       "      <th>2020-02-27</th>\n",
       "      <td>1.395</td>\n",
       "      <td>0.242606</td>\n",
       "    </tr>\n",
       "  </tbody>\n",
       "</table>\n",
       "<p>1935 rows × 2 columns</p>\n",
       "</div>"
      ],
      "text/plain": [
       "            Adj Close  Risk_Free\n",
       "Date                            \n",
       "2012-06-15      0.085   0.022661\n",
       "2012-06-18      0.075   0.020089\n",
       "2012-06-19      0.090   0.023938\n",
       "2012-06-20      0.080   0.021378\n",
       "2012-06-21      0.075   0.020089\n",
       "...               ...        ...\n",
       "2020-02-21      1.518   0.256518\n",
       "2020-02-24      1.503   0.254858\n",
       "2020-02-25      1.490   0.253412\n",
       "2020-02-26      1.478   0.252070\n",
       "2020-02-27      1.395   0.242606\n",
       "\n",
       "[1935 rows x 2 columns]"
      ]
     },
     "execution_count": 105,
     "metadata": {},
     "output_type": "execute_result"
    }
   ],
   "source": [
    "#transform the data \n",
    "risk_free['Risk_Free'] = 100/360 * np.log(1 + risk_free['Adj Close'])\n",
    "risk_free = risk_free.dropna()\n",
    "risk_free"
   ]
  },
  {
   "cell_type": "code",
   "execution_count": 106,
   "id": "6752e573",
   "metadata": {},
   "outputs": [
    {
     "data": {
      "text/html": [
       "<div>\n",
       "<style scoped>\n",
       "    .dataframe tbody tr th:only-of-type {\n",
       "        vertical-align: middle;\n",
       "    }\n",
       "\n",
       "    .dataframe tbody tr th {\n",
       "        vertical-align: top;\n",
       "    }\n",
       "\n",
       "    .dataframe thead th {\n",
       "        text-align: right;\n",
       "    }\n",
       "</style>\n",
       "<table border=\"1\" class=\"dataframe\">\n",
       "  <thead>\n",
       "    <tr style=\"text-align: right;\">\n",
       "      <th></th>\n",
       "      <th>BAC Adj Close</th>\n",
       "      <th>BAC_R_Close</th>\n",
       "      <th>SP500 Adj Close</th>\n",
       "      <th>SP500_R_Close</th>\n",
       "      <th>Adj Close</th>\n",
       "      <th>Risk_Free</th>\n",
       "    </tr>\n",
       "    <tr>\n",
       "      <th>Date</th>\n",
       "      <th></th>\n",
       "      <th></th>\n",
       "      <th></th>\n",
       "      <th></th>\n",
       "      <th></th>\n",
       "      <th></th>\n",
       "    </tr>\n",
       "  </thead>\n",
       "  <tbody>\n",
       "    <tr>\n",
       "      <th>2012-06-18</th>\n",
       "      <td>6.661012</td>\n",
       "      <td>-1.788037</td>\n",
       "      <td>1344.780029</td>\n",
       "      <td>0.144370</td>\n",
       "      <td>0.075</td>\n",
       "      <td>0.020089</td>\n",
       "    </tr>\n",
       "    <tr>\n",
       "      <th>2012-06-19</th>\n",
       "      <td>6.961441</td>\n",
       "      <td>4.411505</td>\n",
       "      <td>1357.979980</td>\n",
       "      <td>0.976783</td>\n",
       "      <td>0.090</td>\n",
       "      <td>0.023938</td>\n",
       "    </tr>\n",
       "    <tr>\n",
       "      <th>2012-06-20</th>\n",
       "      <td>6.987195</td>\n",
       "      <td>0.369262</td>\n",
       "      <td>1355.689941</td>\n",
       "      <td>-0.168778</td>\n",
       "      <td>0.080</td>\n",
       "      <td>0.021378</td>\n",
       "    </tr>\n",
       "    <tr>\n",
       "      <th>2012-06-21</th>\n",
       "      <td>6.712514</td>\n",
       "      <td>-4.010559</td>\n",
       "      <td>1325.510010</td>\n",
       "      <td>-2.251321</td>\n",
       "      <td>0.075</td>\n",
       "      <td>0.020089</td>\n",
       "    </tr>\n",
       "    <tr>\n",
       "      <th>2012-06-22</th>\n",
       "      <td>6.815519</td>\n",
       "      <td>1.522866</td>\n",
       "      <td>1335.020020</td>\n",
       "      <td>0.714899</td>\n",
       "      <td>0.075</td>\n",
       "      <td>0.020089</td>\n",
       "    </tr>\n",
       "    <tr>\n",
       "      <th>...</th>\n",
       "      <td>...</td>\n",
       "      <td>...</td>\n",
       "      <td>...</td>\n",
       "      <td>...</td>\n",
       "      <td>...</td>\n",
       "      <td>...</td>\n",
       "    </tr>\n",
       "    <tr>\n",
       "      <th>2020-02-20</th>\n",
       "      <td>32.946953</td>\n",
       "      <td>0.373739</td>\n",
       "      <td>3373.229980</td>\n",
       "      <td>-0.382282</td>\n",
       "      <td>1.538</td>\n",
       "      <td>0.258716</td>\n",
       "    </tr>\n",
       "    <tr>\n",
       "      <th>2020-02-21</th>\n",
       "      <td>32.483715</td>\n",
       "      <td>-1.415989</td>\n",
       "      <td>3337.750000</td>\n",
       "      <td>-1.057381</td>\n",
       "      <td>1.518</td>\n",
       "      <td>0.256518</td>\n",
       "    </tr>\n",
       "    <tr>\n",
       "      <th>2020-02-24</th>\n",
       "      <td>30.942720</td>\n",
       "      <td>-4.860112</td>\n",
       "      <td>3225.889893</td>\n",
       "      <td>-3.408808</td>\n",
       "      <td>1.503</td>\n",
       "      <td>0.254858</td>\n",
       "    </tr>\n",
       "    <tr>\n",
       "      <th>2020-02-25</th>\n",
       "      <td>29.382816</td>\n",
       "      <td>-5.172774</td>\n",
       "      <td>3128.209961</td>\n",
       "      <td>-3.074790</td>\n",
       "      <td>1.490</td>\n",
       "      <td>0.253412</td>\n",
       "    </tr>\n",
       "    <tr>\n",
       "      <th>2020-02-26</th>\n",
       "      <td>28.957392</td>\n",
       "      <td>-1.458453</td>\n",
       "      <td>3116.389893</td>\n",
       "      <td>-0.378570</td>\n",
       "      <td>1.478</td>\n",
       "      <td>0.252070</td>\n",
       "    </tr>\n",
       "  </tbody>\n",
       "</table>\n",
       "<p>1933 rows × 6 columns</p>\n",
       "</div>"
      ],
      "text/plain": [
       "            BAC Adj Close  BAC_R_Close  SP500 Adj Close  SP500_R_Close  \\\n",
       "Date                                                                     \n",
       "2012-06-18       6.661012    -1.788037      1344.780029       0.144370   \n",
       "2012-06-19       6.961441     4.411505      1357.979980       0.976783   \n",
       "2012-06-20       6.987195     0.369262      1355.689941      -0.168778   \n",
       "2012-06-21       6.712514    -4.010559      1325.510010      -2.251321   \n",
       "2012-06-22       6.815519     1.522866      1335.020020       0.714899   \n",
       "...                   ...          ...              ...            ...   \n",
       "2020-02-20      32.946953     0.373739      3373.229980      -0.382282   \n",
       "2020-02-21      32.483715    -1.415989      3337.750000      -1.057381   \n",
       "2020-02-24      30.942720    -4.860112      3225.889893      -3.408808   \n",
       "2020-02-25      29.382816    -5.172774      3128.209961      -3.074790   \n",
       "2020-02-26      28.957392    -1.458453      3116.389893      -0.378570   \n",
       "\n",
       "            Adj Close  Risk_Free  \n",
       "Date                              \n",
       "2012-06-18      0.075   0.020089  \n",
       "2012-06-19      0.090   0.023938  \n",
       "2012-06-20      0.080   0.021378  \n",
       "2012-06-21      0.075   0.020089  \n",
       "2012-06-22      0.075   0.020089  \n",
       "...               ...        ...  \n",
       "2020-02-20      1.538   0.258716  \n",
       "2020-02-21      1.518   0.256518  \n",
       "2020-02-24      1.503   0.254858  \n",
       "2020-02-25      1.490   0.253412  \n",
       "2020-02-26      1.478   0.252070  \n",
       "\n",
       "[1933 rows x 6 columns]"
      ]
     },
     "metadata": {},
     "output_type": "display_data"
    }
   ],
   "source": [
    "#merge the 3 datasets into 1 \n",
    "capm = pd.merge(in_sample_BAC, in_sample_SP500, on = 'Date', how = 'left')\n",
    "capm = pd.merge(capm, risk_free, on = 'Date', how = 'left')\n",
    "capm = capm.dropna()\n",
    "capm = capm.rename(columns = {'Adj Close_x' : 'BAC Adj Close'})\n",
    "capm = capm.rename(columns = {'Adj Close_y' : 'SP500 Adj Close'})\n",
    "display(capm)"
   ]
  },
  {
   "cell_type": "code",
   "execution_count": 107,
   "id": "f5c5aa78",
   "metadata": {},
   "outputs": [
    {
     "data": {
      "text/html": [
       "<div>\n",
       "<style scoped>\n",
       "    .dataframe tbody tr th:only-of-type {\n",
       "        vertical-align: middle;\n",
       "    }\n",
       "\n",
       "    .dataframe tbody tr th {\n",
       "        vertical-align: top;\n",
       "    }\n",
       "\n",
       "    .dataframe thead th {\n",
       "        text-align: right;\n",
       "    }\n",
       "</style>\n",
       "<table border=\"1\" class=\"dataframe\">\n",
       "  <thead>\n",
       "    <tr style=\"text-align: right;\">\n",
       "      <th></th>\n",
       "      <th>BAC Adj Close</th>\n",
       "      <th>BAC_R_Close</th>\n",
       "      <th>SP500 Adj Close</th>\n",
       "      <th>SP500_R_Close</th>\n",
       "      <th>Adj Close</th>\n",
       "      <th>Risk_Free</th>\n",
       "      <th>BAC Excess Return</th>\n",
       "      <th>Market Risk Premium</th>\n",
       "    </tr>\n",
       "    <tr>\n",
       "      <th>Date</th>\n",
       "      <th></th>\n",
       "      <th></th>\n",
       "      <th></th>\n",
       "      <th></th>\n",
       "      <th></th>\n",
       "      <th></th>\n",
       "      <th></th>\n",
       "      <th></th>\n",
       "    </tr>\n",
       "  </thead>\n",
       "  <tbody>\n",
       "    <tr>\n",
       "      <th>2012-06-18</th>\n",
       "      <td>6.661012</td>\n",
       "      <td>-1.788037</td>\n",
       "      <td>1344.780029</td>\n",
       "      <td>0.144370</td>\n",
       "      <td>0.075</td>\n",
       "      <td>0.020089</td>\n",
       "      <td>-1.808126</td>\n",
       "      <td>0.124281</td>\n",
       "    </tr>\n",
       "    <tr>\n",
       "      <th>2012-06-19</th>\n",
       "      <td>6.961441</td>\n",
       "      <td>4.411505</td>\n",
       "      <td>1357.979980</td>\n",
       "      <td>0.976783</td>\n",
       "      <td>0.090</td>\n",
       "      <td>0.023938</td>\n",
       "      <td>4.387567</td>\n",
       "      <td>0.952845</td>\n",
       "    </tr>\n",
       "    <tr>\n",
       "      <th>2012-06-20</th>\n",
       "      <td>6.987195</td>\n",
       "      <td>0.369262</td>\n",
       "      <td>1355.689941</td>\n",
       "      <td>-0.168778</td>\n",
       "      <td>0.080</td>\n",
       "      <td>0.021378</td>\n",
       "      <td>0.347884</td>\n",
       "      <td>-0.190156</td>\n",
       "    </tr>\n",
       "    <tr>\n",
       "      <th>2012-06-21</th>\n",
       "      <td>6.712514</td>\n",
       "      <td>-4.010559</td>\n",
       "      <td>1325.510010</td>\n",
       "      <td>-2.251321</td>\n",
       "      <td>0.075</td>\n",
       "      <td>0.020089</td>\n",
       "      <td>-4.030648</td>\n",
       "      <td>-2.271410</td>\n",
       "    </tr>\n",
       "    <tr>\n",
       "      <th>2012-06-22</th>\n",
       "      <td>6.815519</td>\n",
       "      <td>1.522866</td>\n",
       "      <td>1335.020020</td>\n",
       "      <td>0.714899</td>\n",
       "      <td>0.075</td>\n",
       "      <td>0.020089</td>\n",
       "      <td>1.502777</td>\n",
       "      <td>0.694810</td>\n",
       "    </tr>\n",
       "    <tr>\n",
       "      <th>...</th>\n",
       "      <td>...</td>\n",
       "      <td>...</td>\n",
       "      <td>...</td>\n",
       "      <td>...</td>\n",
       "      <td>...</td>\n",
       "      <td>...</td>\n",
       "      <td>...</td>\n",
       "      <td>...</td>\n",
       "    </tr>\n",
       "    <tr>\n",
       "      <th>2020-02-20</th>\n",
       "      <td>32.946953</td>\n",
       "      <td>0.373739</td>\n",
       "      <td>3373.229980</td>\n",
       "      <td>-0.382282</td>\n",
       "      <td>1.538</td>\n",
       "      <td>0.258716</td>\n",
       "      <td>0.115023</td>\n",
       "      <td>-0.640997</td>\n",
       "    </tr>\n",
       "    <tr>\n",
       "      <th>2020-02-21</th>\n",
       "      <td>32.483715</td>\n",
       "      <td>-1.415989</td>\n",
       "      <td>3337.750000</td>\n",
       "      <td>-1.057381</td>\n",
       "      <td>1.518</td>\n",
       "      <td>0.256518</td>\n",
       "      <td>-1.672507</td>\n",
       "      <td>-1.313899</td>\n",
       "    </tr>\n",
       "    <tr>\n",
       "      <th>2020-02-24</th>\n",
       "      <td>30.942720</td>\n",
       "      <td>-4.860112</td>\n",
       "      <td>3225.889893</td>\n",
       "      <td>-3.408808</td>\n",
       "      <td>1.503</td>\n",
       "      <td>0.254858</td>\n",
       "      <td>-5.114971</td>\n",
       "      <td>-3.663666</td>\n",
       "    </tr>\n",
       "    <tr>\n",
       "      <th>2020-02-25</th>\n",
       "      <td>29.382816</td>\n",
       "      <td>-5.172774</td>\n",
       "      <td>3128.209961</td>\n",
       "      <td>-3.074790</td>\n",
       "      <td>1.490</td>\n",
       "      <td>0.253412</td>\n",
       "      <td>-5.426186</td>\n",
       "      <td>-3.328202</td>\n",
       "    </tr>\n",
       "    <tr>\n",
       "      <th>2020-02-26</th>\n",
       "      <td>28.957392</td>\n",
       "      <td>-1.458453</td>\n",
       "      <td>3116.389893</td>\n",
       "      <td>-0.378570</td>\n",
       "      <td>1.478</td>\n",
       "      <td>0.252070</td>\n",
       "      <td>-1.710522</td>\n",
       "      <td>-0.630640</td>\n",
       "    </tr>\n",
       "  </tbody>\n",
       "</table>\n",
       "<p>1933 rows × 8 columns</p>\n",
       "</div>"
      ],
      "text/plain": [
       "            BAC Adj Close  BAC_R_Close  SP500 Adj Close  SP500_R_Close  \\\n",
       "Date                                                                     \n",
       "2012-06-18       6.661012    -1.788037      1344.780029       0.144370   \n",
       "2012-06-19       6.961441     4.411505      1357.979980       0.976783   \n",
       "2012-06-20       6.987195     0.369262      1355.689941      -0.168778   \n",
       "2012-06-21       6.712514    -4.010559      1325.510010      -2.251321   \n",
       "2012-06-22       6.815519     1.522866      1335.020020       0.714899   \n",
       "...                   ...          ...              ...            ...   \n",
       "2020-02-20      32.946953     0.373739      3373.229980      -0.382282   \n",
       "2020-02-21      32.483715    -1.415989      3337.750000      -1.057381   \n",
       "2020-02-24      30.942720    -4.860112      3225.889893      -3.408808   \n",
       "2020-02-25      29.382816    -5.172774      3128.209961      -3.074790   \n",
       "2020-02-26      28.957392    -1.458453      3116.389893      -0.378570   \n",
       "\n",
       "            Adj Close  Risk_Free  BAC Excess Return  Market Risk Premium  \n",
       "Date                                                                      \n",
       "2012-06-18      0.075   0.020089          -1.808126             0.124281  \n",
       "2012-06-19      0.090   0.023938           4.387567             0.952845  \n",
       "2012-06-20      0.080   0.021378           0.347884            -0.190156  \n",
       "2012-06-21      0.075   0.020089          -4.030648            -2.271410  \n",
       "2012-06-22      0.075   0.020089           1.502777             0.694810  \n",
       "...               ...        ...                ...                  ...  \n",
       "2020-02-20      1.538   0.258716           0.115023            -0.640997  \n",
       "2020-02-21      1.518   0.256518          -1.672507            -1.313899  \n",
       "2020-02-24      1.503   0.254858          -5.114971            -3.663666  \n",
       "2020-02-25      1.490   0.253412          -5.426186            -3.328202  \n",
       "2020-02-26      1.478   0.252070          -1.710522            -0.630640  \n",
       "\n",
       "[1933 rows x 8 columns]"
      ]
     },
     "metadata": {},
     "output_type": "display_data"
    }
   ],
   "source": [
    "#Generate market risk premium and BAC excess returns \n",
    "capm['BAC Excess Return'] = capm['BAC_R_Close'] - capm['Risk_Free']\n",
    "capm['Market Risk Premium'] = capm['SP500_R_Close'] - capm['Risk_Free']\n",
    "capm = capm.replace([np.inf, -np.inf], np.nan)\n",
    "capm = capm.dropna()\n",
    "display(capm)\n",
    "\n"
   ]
  },
  {
   "cell_type": "code",
   "execution_count": 108,
   "id": "e429e36a",
   "metadata": {},
   "outputs": [
    {
     "name": "stdout",
     "output_type": "stream",
     "text": [
      "                            OLS Regression Results                            \n",
      "==============================================================================\n",
      "Dep. Variable:      BAC Excess Return   R-squared:                       0.473\n",
      "Model:                            OLS   Adj. R-squared:                  0.472\n",
      "Method:                 Least Squares   F-statistic:                     1730.\n",
      "Date:                Wed, 10 Aug 2022   Prob (F-statistic):          1.62e-270\n",
      "Time:                        14:32:40   Log-Likelihood:                -3059.9\n",
      "No. Observations:                1933   AIC:                             6124.\n",
      "Df Residuals:                    1931   BIC:                             6135.\n",
      "Df Model:                           1                                         \n",
      "Covariance Type:            nonrobust                                         \n",
      "=======================================================================================\n",
      "                          coef    std err          t      P>|t|      [0.025      0.975]\n",
      "---------------------------------------------------------------------------------------\n",
      "const                   0.0581      0.027      2.155      0.031       0.005       0.111\n",
      "Market Risk Premium     1.3521      0.033     41.591      0.000       1.288       1.416\n",
      "==============================================================================\n",
      "Omnibus:                      180.748   Durbin-Watson:                   1.871\n",
      "Prob(Omnibus):                  0.000   Jarque-Bera (JB):             1039.735\n",
      "Skew:                           0.217   Prob(JB):                    1.68e-226\n",
      "Kurtosis:                       6.567   Cond. No.                         1.23\n",
      "==============================================================================\n",
      "\n",
      "Notes:\n",
      "[1] Standard Errors assume that the covariance matrix of the errors is correctly specified.\n"
     ]
    }
   ],
   "source": [
    "#Creating the CAPM model for BAC \n",
    "X = capm['Market Risk Premium']\n",
    "Y = capm['BAC Excess Return']\n",
    "\n",
    "\n",
    "X = sm.add_constant(X)\n",
    "CAPM_BAC = sm.OLS(Y,X).fit()\n",
    "predictions = CAPM_BAC.predict()\n",
    "CAPM_BAC_Summary = (CAPM_BAC.summary())\n",
    "print(CAPM_BAC_Summary)"
   ]
  },
  {
   "cell_type": "code",
   "execution_count": 109,
   "id": "9c146821",
   "metadata": {},
   "outputs": [
    {
     "data": {
      "image/png": "[encoded data removed]",
      "text/plain": [
       "<Figure size 1080x720 with 1 Axes>"
      ]
     },
     "metadata": {
      "needs_background": "light"
     },
     "output_type": "display_data"
    }
   ],
   "source": [
    "#plot the BAC returns with the market premium return \n",
    "fig, CAPM_plot = plt.subplots()\n",
    "fig.set_size_inches(15, 10)\n",
    "sns.set_style('darkgrid')\n",
    "plt.title(\"CAPM - BAC\")\n",
    "plt.grid()\n",
    "CAPM_plot = sns.regplot(x = 'Market Risk Premium', y = 'BAC Excess Return', data = capm)"
   ]
  },
  {
   "cell_type": "code",
   "execution_count": 113,
   "id": "8a643f47",
   "metadata": {},
   "outputs": [
    {
     "name": "stdout",
     "output_type": "stream",
     "text": [
      "Root Mean Square Forecast Error: 1.1782892770363367\n",
      "Root Mean Absolute Forecast Error: 0.922373056504062\n"
     ]
    }
   ],
   "source": [
    "#Calculate the RMSFE and RMAFE values for Naive Model \n",
    "\n",
    "#RMSE\n",
    "MSE = mean_squared_error(capm['BAC Excess Return'], predictions)\n",
    "RMSFE = math.sqrt(MSE)\n",
    "\n",
    "#RMAE\n",
    "MAE = mean_absolute_error(capm['BAC Excess Return'], predictions)\n",
    "RMAFE = math.sqrt(MAE)\n",
    "\n",
    "print(\"Root Mean Square Forecast Error: \" + str(RMSFE))\n",
    "print(\"Root Mean Absolute Forecast Error: \" + str(RMAFE))\n"
   ]
  },
  {
   "cell_type": "markdown",
   "id": "0876f9ac",
   "metadata": {},
   "source": [
    "# Question B "
   ]
  },
  {
   "cell_type": "code",
   "execution_count": 32,
   "id": "f8782518",
   "metadata": {},
   "outputs": [
    {
     "name": "stdout",
     "output_type": "stream",
     "text": [
      "Iteration:      1,   Func. Count:      5,   Neg. LLF: 11142.71643926453\n",
      "Iteration:      2,   Func. Count:     13,   Neg. LLF: 3689.8289893016804\n",
      "Iteration:      3,   Func. Count:     19,   Neg. LLF: 221176505.80622485\n",
      "Iteration:      4,   Func. Count:     24,   Neg. LLF: 3613.1468862272454\n",
      "Iteration:      5,   Func. Count:     29,   Neg. LLF: 3610.771218271362\n",
      "Iteration:      6,   Func. Count:     33,   Neg. LLF: 3610.766318492431\n",
      "Iteration:      7,   Func. Count:     37,   Neg. LLF: 3610.7662955861683\n",
      "Iteration:      8,   Func. Count:     40,   Neg. LLF: 3610.766295584325\n",
      "Optimization terminated successfully    (Exit mode 0)\n",
      "            Current function value: 3610.7662955861683\n",
      "            Iterations: 8\n",
      "            Function evaluations: 40\n",
      "            Gradient evaluations: 8\n"
     ]
    },
    {
     "data": {
      "text/plain": [
       "                       Zero Mean - GARCH Model Results                        \n",
       "==============================================================================\n",
       "Dep. Variable:            BAC_R_Close   R-squared:                       0.000\n",
       "Mean Model:                 Zero Mean   Adj. R-squared:                  0.001\n",
       "Vol Model:                      GARCH   Log-Likelihood:               -3610.77\n",
       "Distribution:                  Normal   AIC:                           7227.53\n",
       "Method:            Maximum Likelihood   BIC:                           7244.24\n",
       "                                        No. Observations:                 1935\n",
       "Date:                Thu, Aug 04 2022   Df Residuals:                     1935\n",
       "Time:                        15:01:56   Df Model:                            0\n",
       "                              Volatility Model                             \n",
       "===========================================================================\n",
       "                 coef    std err          t      P>|t|     95.0% Conf. Int.\n",
       "---------------------------------------------------------------------------\n",
       "omega          0.2356      0.132      1.789  7.355e-02 [-2.246e-02,  0.494]\n",
       "alpha[1]       0.0839  3.075e-02      2.728  6.366e-03  [2.363e-02,  0.144]\n",
       "beta[1]        0.8248  7.650e-02     10.782  4.200e-27    [  0.675,  0.975]\n",
       "===========================================================================\n",
       "\n",
       "Covariance estimator: robust\n",
       "ARCHModelResult, id: 0x299f8e1cca0"
      ]
     },
     "execution_count": 32,
     "metadata": {},
     "output_type": "execute_result"
    }
   ],
   "source": [
    "#GARCH(1,1)\n",
    "\n",
    "# This is the code for the GARCH(1,1) model \n",
    "model = arch_model(in_sample_BAC['BAC_R_Close'], mean = 'Zero', vol = 'GARCH', p = 1, q = 1)\n",
    "model.fit()\n"
   ]
  },
  {
   "cell_type": "code",
   "execution_count": 33,
   "id": "f95359ed",
   "metadata": {},
   "outputs": [
    {
     "name": "stdout",
     "output_type": "stream",
     "text": [
      "                   Constant Mean - GJR-GARCH Model Results                    \n",
      "==============================================================================\n",
      "Dep. Variable:            BAC_R_Close   R-squared:                       0.000\n",
      "Mean Model:             Constant Mean   Adj. R-squared:                  0.000\n",
      "Vol Model:                  GJR-GARCH   Log-Likelihood:               -3594.05\n",
      "Distribution:                  Normal   AIC:                           7198.10\n",
      "Method:            Maximum Likelihood   BIC:                           7225.94\n",
      "                                        No. Observations:                 1935\n",
      "Date:                Thu, Aug 04 2022   Df Residuals:                     1934\n",
      "Time:                        15:01:59   Df Model:                            1\n",
      "                                Mean Model                                \n",
      "==========================================================================\n",
      "                 coef    std err          t      P>|t|    95.0% Conf. Int.\n",
      "--------------------------------------------------------------------------\n",
      "mu             0.0762  3.332e-02      2.287  2.220e-02 [1.090e-02,  0.142]\n",
      "                               Volatility Model                              \n",
      "=============================================================================\n",
      "                 coef    std err          t      P>|t|       95.0% Conf. Int.\n",
      "-----------------------------------------------------------------------------\n",
      "omega          0.2240      0.102      2.188  2.864e-02    [2.338e-02,  0.425]\n",
      "alpha[1]       0.0356  1.829e-02      1.945  5.173e-02 [-2.670e-04,7.142e-02]\n",
      "gamma[1]       0.1031  4.040e-02      2.552  1.070e-02    [2.393e-02,  0.182]\n",
      "beta[1]        0.8271  6.082e-02     13.600  3.981e-42      [  0.708,  0.946]\n",
      "=============================================================================\n",
      "\n",
      "Covariance estimator: robust\n"
     ]
    }
   ],
   "source": [
    "#GJR-GARCH(1,1)\n",
    "\n",
    "#am = arch_model(in_sample_BAC['BAC_R_Close'], p = 1, o = 0, q = 1, vol = 'GARCH')\n",
    "#res = am.fit()\n",
    "#print(res.summary())\n",
    "am = arch_model(in_sample_BAC['BAC_R_Close'], p = 1, o = 1, q = 1)\n",
    "res = am.fit(update_freq = 5, disp = \"off\")\n",
    "print(res.summary())\n",
    "\n"
   ]
  },
  {
   "cell_type": "code",
   "execution_count": 34,
   "id": "afaad232",
   "metadata": {},
   "outputs": [
    {
     "name": "stdout",
     "output_type": "stream",
     "text": [
      "Iteration:      5,   Func. Count:     46,   Neg. LLF: 3641.17837505055\n",
      "Iteration:     10,   Func. Count:     77,   Neg. LLF: 3591.965916404839\n",
      "Optimization terminated successfully    (Exit mode 0)\n",
      "            Current function value: 3591.9658160271765\n",
      "            Iterations: 13\n",
      "            Function evaluations: 98\n",
      "            Gradient evaluations: 13\n"
     ]
    },
    {
     "data": {
      "text/plain": [
       "                     Constant Mean - EGARCH Model Results                     \n",
       "==============================================================================\n",
       "Dep. Variable:            BAC_R_Close   R-squared:                       0.000\n",
       "Mean Model:             Constant Mean   Adj. R-squared:                  0.000\n",
       "Vol Model:                     EGARCH   Log-Likelihood:               -3591.97\n",
       "Distribution:                  Normal   AIC:                           7193.93\n",
       "Method:            Maximum Likelihood   BIC:                           7221.77\n",
       "                                        No. Observations:                 1935\n",
       "Date:                Thu, Aug 04 2022   Df Residuals:                     1934\n",
       "Time:                        15:02:01   Df Model:                            1\n",
       "                                 Mean Model                                 \n",
       "============================================================================\n",
       "                 coef    std err          t      P>|t|      95.0% Conf. Int.\n",
       "----------------------------------------------------------------------------\n",
       "mu             0.0690  1.908e-03     36.186 1.014e-286 [6.530e-02,7.278e-02]\n",
       "                              Volatility Model                             \n",
       "===========================================================================\n",
       "                 coef    std err          t      P>|t|     95.0% Conf. Int.\n",
       "---------------------------------------------------------------------------\n",
       "omega          0.0726  3.769e-02      1.925  5.421e-02 [-1.310e-03,  0.146]\n",
       "alpha[1]       0.1552  5.741e-02      2.704  6.853e-03  [4.271e-02,  0.268]\n",
       "gamma[1]      -0.0932  2.755e-02     -3.382  7.200e-04 [ -0.147,-3.917e-02]\n",
       "beta[1]        0.9273  3.953e-02     23.458 1.096e-121    [  0.850,  1.005]\n",
       "===========================================================================\n",
       "\n",
       "Covariance estimator: robust\n",
       "ARCHModelResult, id: 0x299f8f72e80"
      ]
     },
     "execution_count": 34,
     "metadata": {},
     "output_type": "execute_result"
    }
   ],
   "source": [
    "#EGARCH(1,0) \n",
    "\n",
    "# am = arch_model(data['rjpy'], vol='EGARCH', p=1, o=1, q=1)\n",
    "# res = am.fit()\n",
    "# print(res.summary())\n",
    "model = arch_model(in_sample_BAC['BAC_R_Close'], mean ='constant', vol = 'EGARCH', p = 1,o = 1, q = 1)\n",
    "res = model.fit(update_freq = 5)\n",
    "res\n",
    "\n",
    "\n",
    "#model = arch_model(dta, mean = 'constant', vol = 'EGARCH', p = 1,o = 1, q = 1)\n",
    "#res = model.fit(update_freq = 5)\n",
    "#res\n"
   ]
  },
  {
   "cell_type": "code",
   "execution_count": null,
   "id": "0150d546",
   "metadata": {},
   "outputs": [],
   "source": [
    "#News Impact Curve \n",
    "\n"
   ]
  }
 ],
 "metadata": {
  "kernelspec": {
   "display_name": "Python 3 (ipykernel)",
   "language": "python",
   "name": "python3"
  },
  "language_info": {
   "codemirror_mode": {
    "name": "ipython",
    "version": 3
   },
   "file_extension": ".py",
   "mimetype": "text/x-python",
   "name": "python",
   "nbconvert_exporter": "python",
   "pygments_lexer": "ipython3",
   "version": "3.9.12"
  }
 },
 "nbformat": 4,
 "nbformat_minor": 5
}
