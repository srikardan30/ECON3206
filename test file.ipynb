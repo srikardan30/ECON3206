{
 "cells": [
  {
   "cell_type": "code",
   "execution_count": 194,
   "id": "2bb6ea7f",
   "metadata": {},
   "outputs": [],
   "source": [
    "import pandas as pd \n",
    "import numpy as np \n",
    "import matplotlib.pyplot as plt \n",
    "import seaborn as sns\n",
    "import statsmodels.formula.api as smf \n",
    "import statsmodels.api as sm\n",
    "from sklearn.metrics import mean_squared_error\n",
    "from sklearn.metrics import mean_absolute_error\n",
    "from statsmodels.graphics.tsaplots import plot_acf\n",
    "from statsmodels.graphics.tsaplots import plot_pacf\n",
    "from statsmodels.tsa.arima.model import ARIMA\n",
    "from arch import arch_model\n",
    "from statsmodels.tsa.stattools import adfuller\n",
    "from sklearn import linear_model\n",
    "from statsmodels.graphics.tsaplots import plot_predict\n",
    "from pandas import datetime\n",
    "from matplotlib import pyplot\n",
    "import math\n",
    "import statsmodels.tsa.api as smt\n",
    "from scipy import stats\n",
    "import scipy\n",
    "import statistics\n",
    "%matplotlib inline\n",
    "import sys\n",
    "from statsmodels.tsa.arima.model import ARIMA\n",
    "import warnings\n",
    "warnings.filterwarnings(\"ignore\")\n",
    "\n",
    "import yfinance as yf"
   ]
  },
  {
   "cell_type": "code",
   "execution_count": 78,
   "id": "0ef691fd",
   "metadata": {},
   "outputs": [
    {
     "name": "stdout",
     "output_type": "stream",
     "text": [
      "[*********************100%***********************]  1 of 1 completed\n",
      "[*********************100%***********************]  1 of 1 completed\n"
     ]
    },
    {
     "data": {
      "text/html": [
       "<div>\n",
       "<style scoped>\n",
       "    .dataframe tbody tr th:only-of-type {\n",
       "        vertical-align: middle;\n",
       "    }\n",
       "\n",
       "    .dataframe tbody tr th {\n",
       "        vertical-align: top;\n",
       "    }\n",
       "\n",
       "    .dataframe thead th {\n",
       "        text-align: right;\n",
       "    }\n",
       "</style>\n",
       "<table border=\"1\" class=\"dataframe\">\n",
       "  <thead>\n",
       "    <tr style=\"text-align: right;\">\n",
       "      <th></th>\n",
       "      <th>Date</th>\n",
       "      <th>BAC Adj Close</th>\n",
       "      <th>SP500 Adj Close</th>\n",
       "    </tr>\n",
       "  </thead>\n",
       "  <tbody>\n",
       "    <tr>\n",
       "      <th>0</th>\n",
       "      <td>2012-06-18</td>\n",
       "      <td>6.661012</td>\n",
       "      <td>1344.780029</td>\n",
       "    </tr>\n",
       "    <tr>\n",
       "      <th>1</th>\n",
       "      <td>2012-06-19</td>\n",
       "      <td>6.961444</td>\n",
       "      <td>1357.979980</td>\n",
       "    </tr>\n",
       "    <tr>\n",
       "      <th>2</th>\n",
       "      <td>2012-06-20</td>\n",
       "      <td>6.987196</td>\n",
       "      <td>1355.689941</td>\n",
       "    </tr>\n",
       "    <tr>\n",
       "      <th>3</th>\n",
       "      <td>2012-06-21</td>\n",
       "      <td>6.712514</td>\n",
       "      <td>1325.510010</td>\n",
       "    </tr>\n",
       "    <tr>\n",
       "      <th>4</th>\n",
       "      <td>2012-06-22</td>\n",
       "      <td>6.815520</td>\n",
       "      <td>1335.020020</td>\n",
       "    </tr>\n",
       "    <tr>\n",
       "      <th>...</th>\n",
       "      <td>...</td>\n",
       "      <td>...</td>\n",
       "      <td>...</td>\n",
       "    </tr>\n",
       "    <tr>\n",
       "      <th>2513</th>\n",
       "      <td>2022-06-13</td>\n",
       "      <td>32.020000</td>\n",
       "      <td>3749.629883</td>\n",
       "    </tr>\n",
       "    <tr>\n",
       "      <th>2514</th>\n",
       "      <td>2022-06-14</td>\n",
       "      <td>31.459999</td>\n",
       "      <td>3735.479980</td>\n",
       "    </tr>\n",
       "    <tr>\n",
       "      <th>2515</th>\n",
       "      <td>2022-06-15</td>\n",
       "      <td>32.049999</td>\n",
       "      <td>3789.989990</td>\n",
       "    </tr>\n",
       "    <tr>\n",
       "      <th>2516</th>\n",
       "      <td>2022-06-16</td>\n",
       "      <td>31.850000</td>\n",
       "      <td>3666.770020</td>\n",
       "    </tr>\n",
       "    <tr>\n",
       "      <th>2517</th>\n",
       "      <td>2022-06-17</td>\n",
       "      <td>31.920000</td>\n",
       "      <td>3674.840088</td>\n",
       "    </tr>\n",
       "  </tbody>\n",
       "</table>\n",
       "<p>2518 rows × 3 columns</p>\n",
       "</div>"
      ],
      "text/plain": [
       "           Date  BAC Adj Close  SP500 Adj Close\n",
       "0    2012-06-18       6.661012      1344.780029\n",
       "1    2012-06-19       6.961444      1357.979980\n",
       "2    2012-06-20       6.987196      1355.689941\n",
       "3    2012-06-21       6.712514      1325.510010\n",
       "4    2012-06-22       6.815520      1335.020020\n",
       "...         ...            ...              ...\n",
       "2513 2022-06-13      32.020000      3749.629883\n",
       "2514 2022-06-14      31.459999      3735.479980\n",
       "2515 2022-06-15      32.049999      3789.989990\n",
       "2516 2022-06-16      31.850000      3666.770020\n",
       "2517 2022-06-17      31.920000      3674.840088\n",
       "\n",
       "[2518 rows x 3 columns]"
      ]
     },
     "execution_count": 78,
     "metadata": {},
     "output_type": "execute_result"
    }
   ],
   "source": [
    "SP500 = yf.download(\"^GSPC\", start = '2012-6-17', end = '2022-6-18')\n",
    "BAC = yf.download(\"BAC\", start = '2012-6-17', end = '2022-6-18')\n",
    "\n",
    "SP500 = SP500.drop(columns = ['Open', 'High', 'Low', 'Close', 'Volume'], axis=1)\n",
    "BAC = BAC.drop(columns = ['Open', 'High', 'Low', 'Close', 'Volume'], axis=1)\n",
    "\n",
    "data = pd.merge(BAC, SP500, on = 'Date', how = 'left').dropna()\n",
    "data = data.rename(columns = {'Adj Close_x' : 'BAC Adj Close'})\n",
    "data = data.rename(columns = {'Adj Close_y' : 'SP500 Adj Close'})\n",
    "data = data.reset_index()\n",
    "data"
   ]
  },
  {
   "cell_type": "code",
   "execution_count": 23,
   "id": "49e91182",
   "metadata": {},
   "outputs": [
    {
     "data": {
      "text/html": [
       "<div>\n",
       "<style scoped>\n",
       "    .dataframe tbody tr th:only-of-type {\n",
       "        vertical-align: middle;\n",
       "    }\n",
       "\n",
       "    .dataframe tbody tr th {\n",
       "        vertical-align: top;\n",
       "    }\n",
       "\n",
       "    .dataframe thead th {\n",
       "        text-align: right;\n",
       "    }\n",
       "</style>\n",
       "<table border=\"1\" class=\"dataframe\">\n",
       "  <thead>\n",
       "    <tr style=\"text-align: right;\">\n",
       "      <th></th>\n",
       "      <th>Date</th>\n",
       "      <th>BAC Adj Close</th>\n",
       "      <th>SP500 Adj Close</th>\n",
       "    </tr>\n",
       "  </thead>\n",
       "  <tbody>\n",
       "    <tr>\n",
       "      <th>0</th>\n",
       "      <td>2012-06-18</td>\n",
       "      <td>6.661011</td>\n",
       "      <td>1344.780029</td>\n",
       "    </tr>\n",
       "    <tr>\n",
       "      <th>1</th>\n",
       "      <td>2012-06-19</td>\n",
       "      <td>6.961442</td>\n",
       "      <td>1357.979980</td>\n",
       "    </tr>\n",
       "    <tr>\n",
       "      <th>2</th>\n",
       "      <td>2012-06-20</td>\n",
       "      <td>6.987195</td>\n",
       "      <td>1355.689941</td>\n",
       "    </tr>\n",
       "    <tr>\n",
       "      <th>3</th>\n",
       "      <td>2012-06-21</td>\n",
       "      <td>6.712514</td>\n",
       "      <td>1325.510010</td>\n",
       "    </tr>\n",
       "    <tr>\n",
       "      <th>4</th>\n",
       "      <td>2012-06-22</td>\n",
       "      <td>6.815518</td>\n",
       "      <td>1335.020020</td>\n",
       "    </tr>\n",
       "    <tr>\n",
       "      <th>...</th>\n",
       "      <td>...</td>\n",
       "      <td>...</td>\n",
       "      <td>...</td>\n",
       "    </tr>\n",
       "    <tr>\n",
       "      <th>2513</th>\n",
       "      <td>2022-06-13</td>\n",
       "      <td>32.020000</td>\n",
       "      <td>3749.629883</td>\n",
       "    </tr>\n",
       "    <tr>\n",
       "      <th>2514</th>\n",
       "      <td>2022-06-14</td>\n",
       "      <td>31.459999</td>\n",
       "      <td>3735.479980</td>\n",
       "    </tr>\n",
       "    <tr>\n",
       "      <th>2515</th>\n",
       "      <td>2022-06-15</td>\n",
       "      <td>32.049999</td>\n",
       "      <td>3789.989990</td>\n",
       "    </tr>\n",
       "    <tr>\n",
       "      <th>2516</th>\n",
       "      <td>2022-06-16</td>\n",
       "      <td>31.850000</td>\n",
       "      <td>3666.770020</td>\n",
       "    </tr>\n",
       "    <tr>\n",
       "      <th>2517</th>\n",
       "      <td>2022-06-17</td>\n",
       "      <td>31.920000</td>\n",
       "      <td>3674.840088</td>\n",
       "    </tr>\n",
       "  </tbody>\n",
       "</table>\n",
       "<p>2518 rows × 3 columns</p>\n",
       "</div>"
      ],
      "text/plain": [
       "           Date  BAC Adj Close  SP500 Adj Close\n",
       "0    2012-06-18       6.661011      1344.780029\n",
       "1    2012-06-19       6.961442      1357.979980\n",
       "2    2012-06-20       6.987195      1355.689941\n",
       "3    2012-06-21       6.712514      1325.510010\n",
       "4    2012-06-22       6.815518      1335.020020\n",
       "...         ...            ...              ...\n",
       "2513 2022-06-13      32.020000      3749.629883\n",
       "2514 2022-06-14      31.459999      3735.479980\n",
       "2515 2022-06-15      32.049999      3789.989990\n",
       "2516 2022-06-16      31.850000      3666.770020\n",
       "2517 2022-06-17      31.920000      3674.840088\n",
       "\n",
       "[2518 rows x 3 columns]"
      ]
     },
     "execution_count": 23,
     "metadata": {},
     "output_type": "execute_result"
    }
   ],
   "source": [
    "data"
   ]
  },
  {
   "cell_type": "code",
   "execution_count": 79,
   "id": "56ce03fe",
   "metadata": {},
   "outputs": [],
   "source": [
    "#Transform the Adj Close into Log Returns \n",
    "\n",
    "data['SnP500_Log_Return'] = 100 * np.log(data['SP500 Adj Close'] / data['SP500 Adj Close'].shift(1))\n",
    "\n",
    "data['BAC_Log_Return'] = 100 * np.log(data['BAC Adj Close'] / data['BAC Adj Close'].shift(1))\n",
    "data = data.dropna()"
   ]
  },
  {
   "cell_type": "code",
   "execution_count": 58,
   "id": "48fd1393",
   "metadata": {},
   "outputs": [
    {
     "data": {
      "text/html": [
       "<div>\n",
       "<style scoped>\n",
       "    .dataframe tbody tr th:only-of-type {\n",
       "        vertical-align: middle;\n",
       "    }\n",
       "\n",
       "    .dataframe tbody tr th {\n",
       "        vertical-align: top;\n",
       "    }\n",
       "\n",
       "    .dataframe thead th {\n",
       "        text-align: right;\n",
       "    }\n",
       "</style>\n",
       "<table border=\"1\" class=\"dataframe\">\n",
       "  <thead>\n",
       "    <tr style=\"text-align: right;\">\n",
       "      <th></th>\n",
       "      <th>Date</th>\n",
       "      <th>BAC Adj Close</th>\n",
       "      <th>SP500 Adj Close</th>\n",
       "      <th>SnP500_Log_Return</th>\n",
       "      <th>BAC_Log_Return</th>\n",
       "    </tr>\n",
       "  </thead>\n",
       "  <tbody>\n",
       "    <tr>\n",
       "      <th>1</th>\n",
       "      <td>2012-06-19</td>\n",
       "      <td>6.961443</td>\n",
       "      <td>1357.979980</td>\n",
       "      <td>0.976783</td>\n",
       "      <td>4.411568</td>\n",
       "    </tr>\n",
       "    <tr>\n",
       "      <th>2</th>\n",
       "      <td>2012-06-20</td>\n",
       "      <td>6.987195</td>\n",
       "      <td>1355.689941</td>\n",
       "      <td>-0.168778</td>\n",
       "      <td>0.369228</td>\n",
       "    </tr>\n",
       "    <tr>\n",
       "      <th>3</th>\n",
       "      <td>2012-06-21</td>\n",
       "      <td>6.712514</td>\n",
       "      <td>1325.510010</td>\n",
       "      <td>-2.251321</td>\n",
       "      <td>-4.010552</td>\n",
       "    </tr>\n",
       "    <tr>\n",
       "      <th>4</th>\n",
       "      <td>2012-06-22</td>\n",
       "      <td>6.815517</td>\n",
       "      <td>1335.020020</td>\n",
       "      <td>0.714899</td>\n",
       "      <td>1.522838</td>\n",
       "    </tr>\n",
       "    <tr>\n",
       "      <th>5</th>\n",
       "      <td>2012-06-25</td>\n",
       "      <td>6.523671</td>\n",
       "      <td>1313.719971</td>\n",
       "      <td>-1.608350</td>\n",
       "      <td>-4.376471</td>\n",
       "    </tr>\n",
       "    <tr>\n",
       "      <th>...</th>\n",
       "      <td>...</td>\n",
       "      <td>...</td>\n",
       "      <td>...</td>\n",
       "      <td>...</td>\n",
       "      <td>...</td>\n",
       "    </tr>\n",
       "    <tr>\n",
       "      <th>2513</th>\n",
       "      <td>2022-06-13</td>\n",
       "      <td>32.020000</td>\n",
       "      <td>3749.629883</td>\n",
       "      <td>-3.953993</td>\n",
       "      <td>-3.528508</td>\n",
       "    </tr>\n",
       "    <tr>\n",
       "      <th>2514</th>\n",
       "      <td>2022-06-14</td>\n",
       "      <td>31.459999</td>\n",
       "      <td>3735.479980</td>\n",
       "      <td>-0.378082</td>\n",
       "      <td>-1.764385</td>\n",
       "    </tr>\n",
       "    <tr>\n",
       "      <th>2515</th>\n",
       "      <td>2022-06-15</td>\n",
       "      <td>32.049999</td>\n",
       "      <td>3789.989990</td>\n",
       "      <td>1.448706</td>\n",
       "      <td>1.858029</td>\n",
       "    </tr>\n",
       "    <tr>\n",
       "      <th>2516</th>\n",
       "      <td>2022-06-16</td>\n",
       "      <td>31.850000</td>\n",
       "      <td>3666.770020</td>\n",
       "      <td>-3.305221</td>\n",
       "      <td>-0.625977</td>\n",
       "    </tr>\n",
       "    <tr>\n",
       "      <th>2517</th>\n",
       "      <td>2022-06-17</td>\n",
       "      <td>31.920000</td>\n",
       "      <td>3674.840088</td>\n",
       "      <td>0.219845</td>\n",
       "      <td>0.219538</td>\n",
       "    </tr>\n",
       "  </tbody>\n",
       "</table>\n",
       "<p>2517 rows × 5 columns</p>\n",
       "</div>"
      ],
      "text/plain": [
       "           Date  BAC Adj Close  SP500 Adj Close  SnP500_Log_Return  \\\n",
       "1    2012-06-19       6.961443      1357.979980           0.976783   \n",
       "2    2012-06-20       6.987195      1355.689941          -0.168778   \n",
       "3    2012-06-21       6.712514      1325.510010          -2.251321   \n",
       "4    2012-06-22       6.815517      1335.020020           0.714899   \n",
       "5    2012-06-25       6.523671      1313.719971          -1.608350   \n",
       "...         ...            ...              ...                ...   \n",
       "2513 2022-06-13      32.020000      3749.629883          -3.953993   \n",
       "2514 2022-06-14      31.459999      3735.479980          -0.378082   \n",
       "2515 2022-06-15      32.049999      3789.989990           1.448706   \n",
       "2516 2022-06-16      31.850000      3666.770020          -3.305221   \n",
       "2517 2022-06-17      31.920000      3674.840088           0.219845   \n",
       "\n",
       "      BAC_Log_Return  \n",
       "1           4.411568  \n",
       "2           0.369228  \n",
       "3          -4.010552  \n",
       "4           1.522838  \n",
       "5          -4.376471  \n",
       "...              ...  \n",
       "2513       -3.528508  \n",
       "2514       -1.764385  \n",
       "2515        1.858029  \n",
       "2516       -0.625977  \n",
       "2517        0.219538  \n",
       "\n",
       "[2517 rows x 5 columns]"
      ]
     },
     "execution_count": 58,
     "metadata": {},
     "output_type": "execute_result"
    }
   ],
   "source": [
    "data"
   ]
  },
  {
   "cell_type": "code",
   "execution_count": 80,
   "id": "8d9bee36",
   "metadata": {},
   "outputs": [],
   "source": [
    "#In Sample \n",
    "data_in_sample = data.loc[:1936]\n",
    "\n",
    "#Evaluation\n",
    "data_evaluation = data.loc[1937:]"
   ]
  },
  {
   "cell_type": "code",
   "execution_count": 112,
   "id": "439bd29e",
   "metadata": {},
   "outputs": [
    {
     "data": {
      "text/html": [
       "<div>\n",
       "<style scoped>\n",
       "    .dataframe tbody tr th:only-of-type {\n",
       "        vertical-align: middle;\n",
       "    }\n",
       "\n",
       "    .dataframe tbody tr th {\n",
       "        vertical-align: top;\n",
       "    }\n",
       "\n",
       "    .dataframe thead th {\n",
       "        text-align: right;\n",
       "    }\n",
       "</style>\n",
       "<table border=\"1\" class=\"dataframe\">\n",
       "  <thead>\n",
       "    <tr style=\"text-align: right;\">\n",
       "      <th></th>\n",
       "      <th>Date</th>\n",
       "      <th>BAC Adj Close</th>\n",
       "      <th>SP500 Adj Close</th>\n",
       "      <th>SnP500_Log_Return</th>\n",
       "      <th>BAC_Log_Return</th>\n",
       "    </tr>\n",
       "  </thead>\n",
       "  <tbody>\n",
       "    <tr>\n",
       "      <th>1932</th>\n",
       "      <td>2020-02-24</td>\n",
       "      <td>30.942717</td>\n",
       "      <td>3225.889893</td>\n",
       "      <td>-3.408808</td>\n",
       "      <td>-4.860113</td>\n",
       "    </tr>\n",
       "    <tr>\n",
       "      <th>1933</th>\n",
       "      <td>2020-02-25</td>\n",
       "      <td>29.382818</td>\n",
       "      <td>3128.209961</td>\n",
       "      <td>-3.074790</td>\n",
       "      <td>-5.172755</td>\n",
       "    </tr>\n",
       "    <tr>\n",
       "      <th>1934</th>\n",
       "      <td>2020-02-26</td>\n",
       "      <td>28.957388</td>\n",
       "      <td>3116.389893</td>\n",
       "      <td>-0.378570</td>\n",
       "      <td>-1.458472</td>\n",
       "    </tr>\n",
       "    <tr>\n",
       "      <th>1935</th>\n",
       "      <td>2020-02-27</td>\n",
       "      <td>27.539301</td>\n",
       "      <td>2978.760010</td>\n",
       "      <td>-4.516814</td>\n",
       "      <td>-5.021126</td>\n",
       "    </tr>\n",
       "    <tr>\n",
       "      <th>1936</th>\n",
       "      <td>2020-02-28</td>\n",
       "      <td>26.943705</td>\n",
       "      <td>2954.219971</td>\n",
       "      <td>-0.827246</td>\n",
       "      <td>-2.186443</td>\n",
       "    </tr>\n",
       "  </tbody>\n",
       "</table>\n",
       "</div>"
      ],
      "text/plain": [
       "           Date  BAC Adj Close  SP500 Adj Close  SnP500_Log_Return  \\\n",
       "1932 2020-02-24      30.942717      3225.889893          -3.408808   \n",
       "1933 2020-02-25      29.382818      3128.209961          -3.074790   \n",
       "1934 2020-02-26      28.957388      3116.389893          -0.378570   \n",
       "1935 2020-02-27      27.539301      2978.760010          -4.516814   \n",
       "1936 2020-02-28      26.943705      2954.219971          -0.827246   \n",
       "\n",
       "      BAC_Log_Return  \n",
       "1932       -4.860113  \n",
       "1933       -5.172755  \n",
       "1934       -1.458472  \n",
       "1935       -5.021126  \n",
       "1936       -2.186443  "
      ]
     },
     "execution_count": 112,
     "metadata": {},
     "output_type": "execute_result"
    }
   ],
   "source": [
    "data_in_sample.tail()"
   ]
  },
  {
   "cell_type": "code",
   "execution_count": 84,
   "id": "1e8ae840",
   "metadata": {},
   "outputs": [
    {
     "data": {
      "image/png": "[encoded data removed]",
      "text/plain": [
       "<Figure size 864x432 with 1 Axes>"
      ]
     },
     "metadata": {
      "needs_background": "light"
     },
     "output_type": "display_data"
    }
   ],
   "source": [
    "in_sample_array = np.array(data_in_sample['BAC_Log_Return'])\n",
    "y_hat = data_evaluation.copy()\n",
    "y_hat[\"Naive Forecast\"] = in_sample_array[len(in_sample_array) - 1]\n",
    "plt.figure(figsize = (12,6))\n",
    "plt.plot(data_evaluation['BAC_Log_Return'], label = 'BAC Evaluation')\n",
    "plt.plot(y_hat['Naive Forecast'], label = 'Naive Forecast')\n",
    "plt.legend(loc = 'best')\n",
    "plt.title(\"BAC Naive Forecast\")\n",
    "plt.show()"
   ]
  },
  {
   "cell_type": "code",
   "execution_count": 89,
   "id": "1dddb3af",
   "metadata": {},
   "outputs": [
    {
     "data": {
      "text/plain": [
       "-2.186443404886318"
      ]
     },
     "execution_count": 89,
     "metadata": {},
     "output_type": "execute_result"
    }
   ],
   "source": [
    "#Naive Model mean\n",
    "\n",
    "y_hat[\"Naive Forecast\"].mean()"
   ]
  },
  {
   "cell_type": "code",
   "execution_count": 90,
   "id": "509dfb90",
   "metadata": {},
   "outputs": [
    {
     "data": {
      "text/plain": [
       "0.07218379625041937"
      ]
     },
     "execution_count": 90,
     "metadata": {},
     "output_type": "execute_result"
    }
   ],
   "source": [
    "data_in_sample['BAC_Log_Return'].mean()"
   ]
  },
  {
   "cell_type": "markdown",
   "id": "49de271c",
   "metadata": {},
   "source": [
    "# sss"
   ]
  },
  {
   "cell_type": "code",
   "execution_count": 12,
   "id": "96a77207",
   "metadata": {},
   "outputs": [
    {
     "data": {
      "text/html": [
       "<div>\n",
       "<style scoped>\n",
       "    .dataframe tbody tr th:only-of-type {\n",
       "        vertical-align: middle;\n",
       "    }\n",
       "\n",
       "    .dataframe tbody tr th {\n",
       "        vertical-align: top;\n",
       "    }\n",
       "\n",
       "    .dataframe thead th {\n",
       "        text-align: right;\n",
       "    }\n",
       "</style>\n",
       "<table border=\"1\" class=\"dataframe\">\n",
       "  <thead>\n",
       "    <tr style=\"text-align: right;\">\n",
       "      <th></th>\n",
       "      <th>Date</th>\n",
       "      <th>BAC_Log_Return</th>\n",
       "      <th>SnP500_Log_Return</th>\n",
       "    </tr>\n",
       "  </thead>\n",
       "  <tbody>\n",
       "    <tr>\n",
       "      <th>1</th>\n",
       "      <td>2012-06-19</td>\n",
       "      <td>4.411553</td>\n",
       "      <td>0.976783</td>\n",
       "    </tr>\n",
       "    <tr>\n",
       "      <th>2</th>\n",
       "      <td>2012-06-20</td>\n",
       "      <td>0.369221</td>\n",
       "      <td>-0.168778</td>\n",
       "    </tr>\n",
       "    <tr>\n",
       "      <th>3</th>\n",
       "      <td>2012-06-21</td>\n",
       "      <td>-4.010566</td>\n",
       "      <td>-2.251321</td>\n",
       "    </tr>\n",
       "    <tr>\n",
       "      <th>4</th>\n",
       "      <td>2012-06-22</td>\n",
       "      <td>1.522908</td>\n",
       "      <td>0.714899</td>\n",
       "    </tr>\n",
       "    <tr>\n",
       "      <th>5</th>\n",
       "      <td>2012-06-25</td>\n",
       "      <td>-4.376527</td>\n",
       "      <td>-1.608350</td>\n",
       "    </tr>\n",
       "    <tr>\n",
       "      <th>...</th>\n",
       "      <td>...</td>\n",
       "      <td>...</td>\n",
       "      <td>...</td>\n",
       "    </tr>\n",
       "    <tr>\n",
       "      <th>1932</th>\n",
       "      <td>2020-02-24</td>\n",
       "      <td>-4.860102</td>\n",
       "      <td>-3.408808</td>\n",
       "    </tr>\n",
       "    <tr>\n",
       "      <th>1933</th>\n",
       "      <td>2020-02-25</td>\n",
       "      <td>-5.172743</td>\n",
       "      <td>-3.074790</td>\n",
       "    </tr>\n",
       "    <tr>\n",
       "      <th>1934</th>\n",
       "      <td>2020-02-26</td>\n",
       "      <td>-1.458459</td>\n",
       "      <td>-0.378570</td>\n",
       "    </tr>\n",
       "    <tr>\n",
       "      <th>1935</th>\n",
       "      <td>2020-02-27</td>\n",
       "      <td>-5.021146</td>\n",
       "      <td>-4.516814</td>\n",
       "    </tr>\n",
       "    <tr>\n",
       "      <th>1936</th>\n",
       "      <td>2020-02-28</td>\n",
       "      <td>-2.186436</td>\n",
       "      <td>-0.827246</td>\n",
       "    </tr>\n",
       "  </tbody>\n",
       "</table>\n",
       "<p>1936 rows × 3 columns</p>\n",
       "</div>"
      ],
      "text/plain": [
       "           Date  BAC_Log_Return  SnP500_Log_Return\n",
       "1    2012-06-19        4.411553           0.976783\n",
       "2    2012-06-20        0.369221          -0.168778\n",
       "3    2012-06-21       -4.010566          -2.251321\n",
       "4    2012-06-22        1.522908           0.714899\n",
       "5    2012-06-25       -4.376527          -1.608350\n",
       "...         ...             ...                ...\n",
       "1932 2020-02-24       -4.860102          -3.408808\n",
       "1933 2020-02-25       -5.172743          -3.074790\n",
       "1934 2020-02-26       -1.458459          -0.378570\n",
       "1935 2020-02-27       -5.021146          -4.516814\n",
       "1936 2020-02-28       -2.186436          -0.827246\n",
       "\n",
       "[1936 rows x 3 columns]"
      ]
     },
     "execution_count": 12,
     "metadata": {},
     "output_type": "execute_result"
    }
   ],
   "source": [
    "regAR_1_train = data_in_sample[['Date','BAC_Log_Return','SnP500_Log_Return']].copy().dropna()\n",
    "regAR_1_test = data_evaluation[['Date','BAC_Log_Return','SnP500_Log_Return']].copy().dropna()\n",
    "\n",
    "regAR_1_train"
   ]
  },
  {
   "cell_type": "code",
   "execution_count": 13,
   "id": "2cff02f5",
   "metadata": {},
   "outputs": [
    {
     "data": {
      "text/html": [
       "<div>\n",
       "<style scoped>\n",
       "    .dataframe tbody tr th:only-of-type {\n",
       "        vertical-align: middle;\n",
       "    }\n",
       "\n",
       "    .dataframe tbody tr th {\n",
       "        vertical-align: top;\n",
       "    }\n",
       "\n",
       "    .dataframe thead th {\n",
       "        text-align: right;\n",
       "    }\n",
       "</style>\n",
       "<table border=\"1\" class=\"dataframe\">\n",
       "  <thead>\n",
       "    <tr style=\"text-align: right;\">\n",
       "      <th></th>\n",
       "      <th>Date</th>\n",
       "      <th>BAC_Log_Return</th>\n",
       "      <th>SnP500_Log_Return</th>\n",
       "      <th>BAC_Lag_Return</th>\n",
       "      <th>SnP500_Lag_Return</th>\n",
       "    </tr>\n",
       "  </thead>\n",
       "  <tbody>\n",
       "    <tr>\n",
       "      <th>2</th>\n",
       "      <td>2012-06-20</td>\n",
       "      <td>0.369221</td>\n",
       "      <td>-0.168778</td>\n",
       "      <td>4.411553</td>\n",
       "      <td>0.976783</td>\n",
       "    </tr>\n",
       "    <tr>\n",
       "      <th>3</th>\n",
       "      <td>2012-06-21</td>\n",
       "      <td>-4.010566</td>\n",
       "      <td>-2.251321</td>\n",
       "      <td>0.369221</td>\n",
       "      <td>-0.168778</td>\n",
       "    </tr>\n",
       "    <tr>\n",
       "      <th>4</th>\n",
       "      <td>2012-06-22</td>\n",
       "      <td>1.522908</td>\n",
       "      <td>0.714899</td>\n",
       "      <td>-4.010566</td>\n",
       "      <td>-2.251321</td>\n",
       "    </tr>\n",
       "    <tr>\n",
       "      <th>5</th>\n",
       "      <td>2012-06-25</td>\n",
       "      <td>-4.376527</td>\n",
       "      <td>-1.608350</td>\n",
       "      <td>1.522908</td>\n",
       "      <td>0.714899</td>\n",
       "    </tr>\n",
       "    <tr>\n",
       "      <th>6</th>\n",
       "      <td>2012-06-26</td>\n",
       "      <td>0.262812</td>\n",
       "      <td>0.476137</td>\n",
       "      <td>-4.376527</td>\n",
       "      <td>-1.608350</td>\n",
       "    </tr>\n",
       "    <tr>\n",
       "      <th>...</th>\n",
       "      <td>...</td>\n",
       "      <td>...</td>\n",
       "      <td>...</td>\n",
       "      <td>...</td>\n",
       "      <td>...</td>\n",
       "    </tr>\n",
       "    <tr>\n",
       "      <th>1932</th>\n",
       "      <td>2020-02-24</td>\n",
       "      <td>-4.860102</td>\n",
       "      <td>-3.408808</td>\n",
       "      <td>-1.416024</td>\n",
       "      <td>-1.057381</td>\n",
       "    </tr>\n",
       "    <tr>\n",
       "      <th>1933</th>\n",
       "      <td>2020-02-25</td>\n",
       "      <td>-5.172743</td>\n",
       "      <td>-3.074790</td>\n",
       "      <td>-4.860102</td>\n",
       "      <td>-3.408808</td>\n",
       "    </tr>\n",
       "    <tr>\n",
       "      <th>1934</th>\n",
       "      <td>2020-02-26</td>\n",
       "      <td>-1.458459</td>\n",
       "      <td>-0.378570</td>\n",
       "      <td>-5.172743</td>\n",
       "      <td>-3.074790</td>\n",
       "    </tr>\n",
       "    <tr>\n",
       "      <th>1935</th>\n",
       "      <td>2020-02-27</td>\n",
       "      <td>-5.021146</td>\n",
       "      <td>-4.516814</td>\n",
       "      <td>-1.458459</td>\n",
       "      <td>-0.378570</td>\n",
       "    </tr>\n",
       "    <tr>\n",
       "      <th>1936</th>\n",
       "      <td>2020-02-28</td>\n",
       "      <td>-2.186436</td>\n",
       "      <td>-0.827246</td>\n",
       "      <td>-5.021146</td>\n",
       "      <td>-4.516814</td>\n",
       "    </tr>\n",
       "  </tbody>\n",
       "</table>\n",
       "<p>1935 rows × 5 columns</p>\n",
       "</div>"
      ],
      "text/plain": [
       "           Date  BAC_Log_Return  SnP500_Log_Return  BAC_Lag_Return  \\\n",
       "2    2012-06-20        0.369221          -0.168778        4.411553   \n",
       "3    2012-06-21       -4.010566          -2.251321        0.369221   \n",
       "4    2012-06-22        1.522908           0.714899       -4.010566   \n",
       "5    2012-06-25       -4.376527          -1.608350        1.522908   \n",
       "6    2012-06-26        0.262812           0.476137       -4.376527   \n",
       "...         ...             ...                ...             ...   \n",
       "1932 2020-02-24       -4.860102          -3.408808       -1.416024   \n",
       "1933 2020-02-25       -5.172743          -3.074790       -4.860102   \n",
       "1934 2020-02-26       -1.458459          -0.378570       -5.172743   \n",
       "1935 2020-02-27       -5.021146          -4.516814       -1.458459   \n",
       "1936 2020-02-28       -2.186436          -0.827246       -5.021146   \n",
       "\n",
       "      SnP500_Lag_Return  \n",
       "2              0.976783  \n",
       "3             -0.168778  \n",
       "4             -2.251321  \n",
       "5              0.714899  \n",
       "6             -1.608350  \n",
       "...                 ...  \n",
       "1932          -1.057381  \n",
       "1933          -3.408808  \n",
       "1934          -3.074790  \n",
       "1935          -0.378570  \n",
       "1936          -4.516814  \n",
       "\n",
       "[1935 rows x 5 columns]"
      ]
     },
     "execution_count": 13,
     "metadata": {},
     "output_type": "execute_result"
    }
   ],
   "source": [
    "#Creating Market Lag \n",
    "regAR_1_train['BAC_Lag_Return'] = regAR_1_train['BAC_Log_Return'].shift()\n",
    "regAR_1_test['BAC_Lag_Return'] = regAR_1_test['BAC_Log_Return'].shift()\n",
    "\n",
    "regAR_1_train['SnP500_Lag_Return'] = regAR_1_train['SnP500_Log_Return'].shift()\n",
    "regAR_1_test['SnP500_Lag_Return'] = regAR_1_test['SnP500_Log_Return'].shift()\n",
    "\n",
    "regAR_1_train = regAR_1_train.dropna()\n",
    "regAR_1_test = regAR_1_test.dropna()\n",
    "\n",
    "\n",
    "regAR_1_train"
   ]
  },
  {
   "cell_type": "code",
   "execution_count": 16,
   "id": "6a45eb70",
   "metadata": {},
   "outputs": [
    {
     "name": "stdout",
     "output_type": "stream",
     "text": [
      "                               SARIMAX Results                                \n",
      "==============================================================================\n",
      "Dep. Variable:         BAC_Log_Return   No. Observations:                 1935\n",
      "Model:                 ARIMA(1, 0, 0)   Log Likelihood               -3674.336\n",
      "Date:                Wed, 10 Aug 2022   AIC                           7356.672\n",
      "Time:                        12:10:37   BIC                           7378.944\n",
      "Sample:                             0   HQIC                          7364.863\n",
      "                               - 1935                                         \n",
      "Covariance Type:                  opg                                         \n",
      "=====================================================================================\n",
      "                        coef    std err          z      P>|z|      [0.025      0.975]\n",
      "-------------------------------------------------------------------------------------\n",
      "const                 0.0707      0.039      1.818      0.069      -0.006       0.147\n",
      "SnP500_Lag_Return    -0.0194      0.052     -0.372      0.710      -0.122       0.083\n",
      "ar.L1                 0.0399      0.026      1.511      0.131      -0.012       0.092\n",
      "sigma2                2.6114      0.058     45.388      0.000       2.499       2.724\n",
      "===================================================================================\n",
      "Ljung-Box (L1) (Q):                   0.00   Jarque-Bera (JB):               431.27\n",
      "Prob(Q):                              0.98   Prob(JB):                         0.00\n",
      "Heteroskedasticity (H):               0.86   Skew:                            -0.16\n",
      "Prob(H) (two-sided):                  0.06   Kurtosis:                         5.29\n",
      "===================================================================================\n",
      "\n",
      "Warnings:\n",
      "[1] Covariance matrix calculated using the outer product of gradients (complex-step).\n"
     ]
    }
   ],
   "source": [
    "regAR_1 = ARIMA(endog = regAR_1_train['BAC_Log_Return'], exog = regAR_1_train['SnP500_Lag_Return'], order = (1,0,0))\n",
    "reg_results = regAR_1.fit()\n",
    "print(reg_results.summary())"
   ]
  },
  {
   "cell_type": "code",
   "execution_count": 25,
   "id": "8e601a0d",
   "metadata": {},
   "outputs": [
    {
     "ename": "AttributeError",
     "evalue": "'DataFrame' object has no attribute 'reshape'",
     "output_type": "error",
     "traceback": [
      "\u001b[1;31m---------------------------------------------------------------------------\u001b[0m",
      "\u001b[1;31mAttributeError\u001b[0m                            Traceback (most recent call last)",
      "Input \u001b[1;32mIn [25]\u001b[0m, in \u001b[0;36m<cell line: 1>\u001b[1;34m()\u001b[0m\n\u001b[1;32m----> 1\u001b[0m \u001b[43mregAR_1_train\u001b[49m\u001b[38;5;241;43m.\u001b[39;49m\u001b[43mreshape\u001b[49m(\u001b[38;5;241m3\u001b[39m,\u001b[38;5;241m1\u001b[39m)\n",
      "File \u001b[1;32m~\\anaconda3\\lib\\site-packages\\pandas\\core\\generic.py:5575\u001b[0m, in \u001b[0;36mNDFrame.__getattr__\u001b[1;34m(self, name)\u001b[0m\n\u001b[0;32m   5568\u001b[0m \u001b[38;5;28;01mif\u001b[39;00m (\n\u001b[0;32m   5569\u001b[0m     name \u001b[38;5;129;01mnot\u001b[39;00m \u001b[38;5;129;01min\u001b[39;00m \u001b[38;5;28mself\u001b[39m\u001b[38;5;241m.\u001b[39m_internal_names_set\n\u001b[0;32m   5570\u001b[0m     \u001b[38;5;129;01mand\u001b[39;00m name \u001b[38;5;129;01mnot\u001b[39;00m \u001b[38;5;129;01min\u001b[39;00m \u001b[38;5;28mself\u001b[39m\u001b[38;5;241m.\u001b[39m_metadata\n\u001b[0;32m   5571\u001b[0m     \u001b[38;5;129;01mand\u001b[39;00m name \u001b[38;5;129;01mnot\u001b[39;00m \u001b[38;5;129;01min\u001b[39;00m \u001b[38;5;28mself\u001b[39m\u001b[38;5;241m.\u001b[39m_accessors\n\u001b[0;32m   5572\u001b[0m     \u001b[38;5;129;01mand\u001b[39;00m \u001b[38;5;28mself\u001b[39m\u001b[38;5;241m.\u001b[39m_info_axis\u001b[38;5;241m.\u001b[39m_can_hold_identifiers_and_holds_name(name)\n\u001b[0;32m   5573\u001b[0m ):\n\u001b[0;32m   5574\u001b[0m     \u001b[38;5;28;01mreturn\u001b[39;00m \u001b[38;5;28mself\u001b[39m[name]\n\u001b[1;32m-> 5575\u001b[0m \u001b[38;5;28;01mreturn\u001b[39;00m \u001b[38;5;28;43mobject\u001b[39;49m\u001b[38;5;241;43m.\u001b[39;49m\u001b[38;5;21;43m__getattribute__\u001b[39;49m\u001b[43m(\u001b[49m\u001b[38;5;28;43mself\u001b[39;49m\u001b[43m,\u001b[49m\u001b[43m \u001b[49m\u001b[43mname\u001b[49m\u001b[43m)\u001b[49m\n",
      "\u001b[1;31mAttributeError\u001b[0m: 'DataFrame' object has no attribute 'reshape'"
     ]
    }
   ],
   "source": [
    "np.reshape"
   ]
  },
  {
   "cell_type": "code",
   "execution_count": 35,
   "id": "f604360e",
   "metadata": {},
   "outputs": [
    {
     "data": {
      "text/plain": [
       "<AxesSubplot:>"
      ]
     },
     "execution_count": 35,
     "metadata": {},
     "output_type": "execute_result"
    },
    {
     "data": {
      "image/png": "[encoded data removed]",
      "text/plain": [
       "<Figure size 864x576 with 1 Axes>"
      ]
     },
     "metadata": {
      "needs_background": "light"
     },
     "output_type": "display_data"
    }
   ],
   "source": [
    "data['forecast'] = reg_results.predict(exog = regAR_1_train['SnP500_Lag_Return'], start = 0, end = 1934, dynamic = False)\n",
    "data[['BAC_Log_Return','forecast']].plot(figsize=(12,8))"
   ]
  },
  {
   "cell_type": "code",
   "execution_count": null,
   "id": "6dac47a8",
   "metadata": {},
   "outputs": [],
   "source": [
    "CAPM model "
   ]
  },
  {
   "cell_type": "code",
   "execution_count": 131,
   "id": "64ad7ddf",
   "metadata": {},
   "outputs": [
    {
     "name": "stdout",
     "output_type": "stream",
     "text": [
      "[*********************100%***********************]  1 of 1 completed\n"
     ]
    },
    {
     "data": {
      "text/html": [
       "<div>\n",
       "<style scoped>\n",
       "    .dataframe tbody tr th:only-of-type {\n",
       "        vertical-align: middle;\n",
       "    }\n",
       "\n",
       "    .dataframe tbody tr th {\n",
       "        vertical-align: top;\n",
       "    }\n",
       "\n",
       "    .dataframe thead th {\n",
       "        text-align: right;\n",
       "    }\n",
       "</style>\n",
       "<table border=\"1\" class=\"dataframe\">\n",
       "  <thead>\n",
       "    <tr style=\"text-align: right;\">\n",
       "      <th></th>\n",
       "      <th>Adj Close</th>\n",
       "    </tr>\n",
       "    <tr>\n",
       "      <th>Date</th>\n",
       "      <th></th>\n",
       "    </tr>\n",
       "  </thead>\n",
       "  <tbody>\n",
       "    <tr>\n",
       "      <th>2012-06-18</th>\n",
       "      <td>0.075</td>\n",
       "    </tr>\n",
       "    <tr>\n",
       "      <th>2012-06-19</th>\n",
       "      <td>0.090</td>\n",
       "    </tr>\n",
       "    <tr>\n",
       "      <th>2012-06-20</th>\n",
       "      <td>0.080</td>\n",
       "    </tr>\n",
       "    <tr>\n",
       "      <th>2012-06-21</th>\n",
       "      <td>0.075</td>\n",
       "    </tr>\n",
       "    <tr>\n",
       "      <th>2012-06-22</th>\n",
       "      <td>0.075</td>\n",
       "    </tr>\n",
       "    <tr>\n",
       "      <th>...</th>\n",
       "      <td>...</td>\n",
       "    </tr>\n",
       "    <tr>\n",
       "      <th>2022-06-13</th>\n",
       "      <td>1.498</td>\n",
       "    </tr>\n",
       "    <tr>\n",
       "      <th>2022-06-14</th>\n",
       "      <td>1.743</td>\n",
       "    </tr>\n",
       "    <tr>\n",
       "      <th>2022-06-15</th>\n",
       "      <td>1.695</td>\n",
       "    </tr>\n",
       "    <tr>\n",
       "      <th>2022-06-16</th>\n",
       "      <td>1.483</td>\n",
       "    </tr>\n",
       "    <tr>\n",
       "      <th>2022-06-17</th>\n",
       "      <td>1.510</td>\n",
       "    </tr>\n",
       "  </tbody>\n",
       "</table>\n",
       "<p>2516 rows × 1 columns</p>\n",
       "</div>"
      ],
      "text/plain": [
       "            Adj Close\n",
       "Date                 \n",
       "2012-06-18      0.075\n",
       "2012-06-19      0.090\n",
       "2012-06-20      0.080\n",
       "2012-06-21      0.075\n",
       "2012-06-22      0.075\n",
       "...               ...\n",
       "2022-06-13      1.498\n",
       "2022-06-14      1.743\n",
       "2022-06-15      1.695\n",
       "2022-06-16      1.483\n",
       "2022-06-17      1.510\n",
       "\n",
       "[2516 rows x 1 columns]"
      ]
     },
     "execution_count": 131,
     "metadata": {},
     "output_type": "execute_result"
    }
   ],
   "source": [
    "#Download Treasury Bill Data\n",
    "risk_free = yf.download(\"^IRX\", start='2012-6-17', end='2022-6-18')\n",
    "risk_free = risk_free.drop(columns = ['Open', 'High', 'Low', 'Close', 'Volume'], axis=1)\n",
    "risk_free = risk_free.dropna()\n",
    "risk_free"
   ]
  },
  {
   "cell_type": "code",
   "execution_count": 132,
   "id": "3c9505df",
   "metadata": {},
   "outputs": [
    {
     "data": {
      "text/html": [
       "<div>\n",
       "<style scoped>\n",
       "    .dataframe tbody tr th:only-of-type {\n",
       "        vertical-align: middle;\n",
       "    }\n",
       "\n",
       "    .dataframe tbody tr th {\n",
       "        vertical-align: top;\n",
       "    }\n",
       "\n",
       "    .dataframe thead th {\n",
       "        text-align: right;\n",
       "    }\n",
       "</style>\n",
       "<table border=\"1\" class=\"dataframe\">\n",
       "  <thead>\n",
       "    <tr style=\"text-align: right;\">\n",
       "      <th></th>\n",
       "      <th>Adj Close</th>\n",
       "      <th>Risk_Free</th>\n",
       "    </tr>\n",
       "    <tr>\n",
       "      <th>Date</th>\n",
       "      <th></th>\n",
       "      <th></th>\n",
       "    </tr>\n",
       "  </thead>\n",
       "  <tbody>\n",
       "    <tr>\n",
       "      <th>2012-06-18</th>\n",
       "      <td>0.075</td>\n",
       "      <td>0.020089</td>\n",
       "    </tr>\n",
       "    <tr>\n",
       "      <th>2012-06-19</th>\n",
       "      <td>0.090</td>\n",
       "      <td>0.023938</td>\n",
       "    </tr>\n",
       "    <tr>\n",
       "      <th>2012-06-20</th>\n",
       "      <td>0.080</td>\n",
       "      <td>0.021378</td>\n",
       "    </tr>\n",
       "    <tr>\n",
       "      <th>2012-06-21</th>\n",
       "      <td>0.075</td>\n",
       "      <td>0.020089</td>\n",
       "    </tr>\n",
       "    <tr>\n",
       "      <th>2012-06-22</th>\n",
       "      <td>0.075</td>\n",
       "      <td>0.020089</td>\n",
       "    </tr>\n",
       "    <tr>\n",
       "      <th>...</th>\n",
       "      <td>...</td>\n",
       "      <td>...</td>\n",
       "    </tr>\n",
       "    <tr>\n",
       "      <th>2022-06-13</th>\n",
       "      <td>1.498</td>\n",
       "      <td>0.254303</td>\n",
       "    </tr>\n",
       "    <tr>\n",
       "      <th>2022-06-14</th>\n",
       "      <td>1.743</td>\n",
       "      <td>0.280292</td>\n",
       "    </tr>\n",
       "    <tr>\n",
       "      <th>2022-06-15</th>\n",
       "      <td>1.695</td>\n",
       "      <td>0.275388</td>\n",
       "    </tr>\n",
       "    <tr>\n",
       "      <th>2022-06-16</th>\n",
       "      <td>1.483</td>\n",
       "      <td>0.252630</td>\n",
       "    </tr>\n",
       "    <tr>\n",
       "      <th>2022-06-17</th>\n",
       "      <td>1.510</td>\n",
       "      <td>0.255634</td>\n",
       "    </tr>\n",
       "  </tbody>\n",
       "</table>\n",
       "<p>2516 rows × 2 columns</p>\n",
       "</div>"
      ],
      "text/plain": [
       "            Adj Close  Risk_Free\n",
       "Date                            \n",
       "2012-06-18      0.075   0.020089\n",
       "2012-06-19      0.090   0.023938\n",
       "2012-06-20      0.080   0.021378\n",
       "2012-06-21      0.075   0.020089\n",
       "2012-06-22      0.075   0.020089\n",
       "...               ...        ...\n",
       "2022-06-13      1.498   0.254303\n",
       "2022-06-14      1.743   0.280292\n",
       "2022-06-15      1.695   0.275388\n",
       "2022-06-16      1.483   0.252630\n",
       "2022-06-17      1.510   0.255634\n",
       "\n",
       "[2516 rows x 2 columns]"
      ]
     },
     "execution_count": 132,
     "metadata": {},
     "output_type": "execute_result"
    }
   ],
   "source": [
    "#Transform Data\n",
    "risk_free['Risk_Free'] = 100/360 * np.log(1 + risk_free['Adj Close'])\n",
    "risk_free = risk_free.dropna()\n",
    "risk_free"
   ]
  },
  {
   "cell_type": "code",
   "execution_count": 133,
   "id": "36b2b0c5",
   "metadata": {},
   "outputs": [],
   "source": [
    "#merge data sets \n",
    "capm = pd.merge(data, risk_free, on = 'Date', how = 'left')\n",
    "capm = capm.dropna()\n",
    "capm = capm.rename(columns = {'Adj Close_x' : 'BAC Adj Close'})\n",
    "capm = capm.rename(columns = {'Adj Close_y' : 'SP500 Adj Close'})\n"
   ]
  },
  {
   "cell_type": "code",
   "execution_count": 94,
   "id": "1b55439d",
   "metadata": {},
   "outputs": [
    {
     "data": {
      "text/html": [
       "<div>\n",
       "<style scoped>\n",
       "    .dataframe tbody tr th:only-of-type {\n",
       "        vertical-align: middle;\n",
       "    }\n",
       "\n",
       "    .dataframe tbody tr th {\n",
       "        vertical-align: top;\n",
       "    }\n",
       "\n",
       "    .dataframe thead th {\n",
       "        text-align: right;\n",
       "    }\n",
       "</style>\n",
       "<table border=\"1\" class=\"dataframe\">\n",
       "  <thead>\n",
       "    <tr style=\"text-align: right;\">\n",
       "      <th></th>\n",
       "      <th>Date</th>\n",
       "      <th>BAC Adj Close</th>\n",
       "      <th>SP500 Adj Close</th>\n",
       "      <th>SnP500_Log_Return</th>\n",
       "      <th>BAC_Log_Return</th>\n",
       "      <th>Adj Close</th>\n",
       "      <th>Risk_Free</th>\n",
       "    </tr>\n",
       "  </thead>\n",
       "  <tbody>\n",
       "    <tr>\n",
       "      <th>2512</th>\n",
       "      <td>2022-06-13</td>\n",
       "      <td>32.020000</td>\n",
       "      <td>3749.629883</td>\n",
       "      <td>-3.953993</td>\n",
       "      <td>-3.528508</td>\n",
       "      <td>1.498</td>\n",
       "      <td>0.254303</td>\n",
       "    </tr>\n",
       "    <tr>\n",
       "      <th>2513</th>\n",
       "      <td>2022-06-14</td>\n",
       "      <td>31.459999</td>\n",
       "      <td>3735.479980</td>\n",
       "      <td>-0.378082</td>\n",
       "      <td>-1.764385</td>\n",
       "      <td>1.743</td>\n",
       "      <td>0.280292</td>\n",
       "    </tr>\n",
       "    <tr>\n",
       "      <th>2514</th>\n",
       "      <td>2022-06-15</td>\n",
       "      <td>32.049999</td>\n",
       "      <td>3789.989990</td>\n",
       "      <td>1.448706</td>\n",
       "      <td>1.858029</td>\n",
       "      <td>1.695</td>\n",
       "      <td>0.275388</td>\n",
       "    </tr>\n",
       "    <tr>\n",
       "      <th>2515</th>\n",
       "      <td>2022-06-16</td>\n",
       "      <td>31.850000</td>\n",
       "      <td>3666.770020</td>\n",
       "      <td>-3.305221</td>\n",
       "      <td>-0.625977</td>\n",
       "      <td>1.483</td>\n",
       "      <td>0.252630</td>\n",
       "    </tr>\n",
       "    <tr>\n",
       "      <th>2516</th>\n",
       "      <td>2022-06-17</td>\n",
       "      <td>31.920000</td>\n",
       "      <td>3674.840088</td>\n",
       "      <td>0.219845</td>\n",
       "      <td>0.219538</td>\n",
       "      <td>1.510</td>\n",
       "      <td>0.255634</td>\n",
       "    </tr>\n",
       "  </tbody>\n",
       "</table>\n",
       "</div>"
      ],
      "text/plain": [
       "           Date  BAC Adj Close  SP500 Adj Close  SnP500_Log_Return  \\\n",
       "2512 2022-06-13      32.020000      3749.629883          -3.953993   \n",
       "2513 2022-06-14      31.459999      3735.479980          -0.378082   \n",
       "2514 2022-06-15      32.049999      3789.989990           1.448706   \n",
       "2515 2022-06-16      31.850000      3666.770020          -3.305221   \n",
       "2516 2022-06-17      31.920000      3674.840088           0.219845   \n",
       "\n",
       "      BAC_Log_Return  Adj Close  Risk_Free  \n",
       "2512       -3.528508      1.498   0.254303  \n",
       "2513       -1.764385      1.743   0.280292  \n",
       "2514        1.858029      1.695   0.275388  \n",
       "2515       -0.625977      1.483   0.252630  \n",
       "2516        0.219538      1.510   0.255634  "
      ]
     },
     "execution_count": 94,
     "metadata": {},
     "output_type": "execute_result"
    }
   ],
   "source": [
    "capm.tail()"
   ]
  },
  {
   "cell_type": "code",
   "execution_count": 134,
   "id": "6e1fa042",
   "metadata": {},
   "outputs": [
    {
     "data": {
      "text/html": [
       "<div>\n",
       "<style scoped>\n",
       "    .dataframe tbody tr th:only-of-type {\n",
       "        vertical-align: middle;\n",
       "    }\n",
       "\n",
       "    .dataframe tbody tr th {\n",
       "        vertical-align: top;\n",
       "    }\n",
       "\n",
       "    .dataframe thead th {\n",
       "        text-align: right;\n",
       "    }\n",
       "</style>\n",
       "<table border=\"1\" class=\"dataframe\">\n",
       "  <thead>\n",
       "    <tr style=\"text-align: right;\">\n",
       "      <th></th>\n",
       "      <th>Date</th>\n",
       "      <th>BAC Adj Close</th>\n",
       "      <th>SP500 Adj Close</th>\n",
       "      <th>SnP500_Log_Return</th>\n",
       "      <th>BAC_Log_Return</th>\n",
       "      <th>Adj Close</th>\n",
       "      <th>Risk_Free</th>\n",
       "      <th>BAC Excess Return</th>\n",
       "      <th>Market Risk Premium</th>\n",
       "    </tr>\n",
       "  </thead>\n",
       "  <tbody>\n",
       "    <tr>\n",
       "      <th>0</th>\n",
       "      <td>2012-06-19</td>\n",
       "      <td>6.961444</td>\n",
       "      <td>1357.979980</td>\n",
       "      <td>0.976783</td>\n",
       "      <td>4.411553</td>\n",
       "      <td>0.090</td>\n",
       "      <td>0.023938</td>\n",
       "      <td>4.387615</td>\n",
       "      <td>0.952845</td>\n",
       "    </tr>\n",
       "    <tr>\n",
       "      <th>1</th>\n",
       "      <td>2012-06-20</td>\n",
       "      <td>6.987196</td>\n",
       "      <td>1355.689941</td>\n",
       "      <td>-0.168778</td>\n",
       "      <td>0.369242</td>\n",
       "      <td>0.080</td>\n",
       "      <td>0.021378</td>\n",
       "      <td>0.347864</td>\n",
       "      <td>-0.190156</td>\n",
       "    </tr>\n",
       "    <tr>\n",
       "      <th>2</th>\n",
       "      <td>2012-06-21</td>\n",
       "      <td>6.712514</td>\n",
       "      <td>1325.510010</td>\n",
       "      <td>-2.251321</td>\n",
       "      <td>-4.010579</td>\n",
       "      <td>0.075</td>\n",
       "      <td>0.020089</td>\n",
       "      <td>-4.030668</td>\n",
       "      <td>-2.271410</td>\n",
       "    </tr>\n",
       "    <tr>\n",
       "      <th>3</th>\n",
       "      <td>2012-06-22</td>\n",
       "      <td>6.815520</td>\n",
       "      <td>1335.020020</td>\n",
       "      <td>0.714899</td>\n",
       "      <td>1.522880</td>\n",
       "      <td>0.075</td>\n",
       "      <td>0.020089</td>\n",
       "      <td>1.502791</td>\n",
       "      <td>0.694810</td>\n",
       "    </tr>\n",
       "    <tr>\n",
       "      <th>4</th>\n",
       "      <td>2012-06-25</td>\n",
       "      <td>6.523671</td>\n",
       "      <td>1313.719971</td>\n",
       "      <td>-1.608350</td>\n",
       "      <td>-4.376506</td>\n",
       "      <td>0.075</td>\n",
       "      <td>0.020089</td>\n",
       "      <td>-4.396595</td>\n",
       "      <td>-1.628439</td>\n",
       "    </tr>\n",
       "    <tr>\n",
       "      <th>...</th>\n",
       "      <td>...</td>\n",
       "      <td>...</td>\n",
       "      <td>...</td>\n",
       "      <td>...</td>\n",
       "      <td>...</td>\n",
       "      <td>...</td>\n",
       "      <td>...</td>\n",
       "      <td>...</td>\n",
       "      <td>...</td>\n",
       "    </tr>\n",
       "    <tr>\n",
       "      <th>2512</th>\n",
       "      <td>2022-06-13</td>\n",
       "      <td>32.020000</td>\n",
       "      <td>3749.629883</td>\n",
       "      <td>-3.953993</td>\n",
       "      <td>-3.528508</td>\n",
       "      <td>1.498</td>\n",
       "      <td>0.254303</td>\n",
       "      <td>-3.782810</td>\n",
       "      <td>-4.208296</td>\n",
       "    </tr>\n",
       "    <tr>\n",
       "      <th>2513</th>\n",
       "      <td>2022-06-14</td>\n",
       "      <td>31.459999</td>\n",
       "      <td>3735.479980</td>\n",
       "      <td>-0.378082</td>\n",
       "      <td>-1.764385</td>\n",
       "      <td>1.743</td>\n",
       "      <td>0.280292</td>\n",
       "      <td>-2.044678</td>\n",
       "      <td>-0.658374</td>\n",
       "    </tr>\n",
       "    <tr>\n",
       "      <th>2514</th>\n",
       "      <td>2022-06-15</td>\n",
       "      <td>32.049999</td>\n",
       "      <td>3789.989990</td>\n",
       "      <td>1.448706</td>\n",
       "      <td>1.858029</td>\n",
       "      <td>1.695</td>\n",
       "      <td>0.275388</td>\n",
       "      <td>1.582641</td>\n",
       "      <td>1.173317</td>\n",
       "    </tr>\n",
       "    <tr>\n",
       "      <th>2515</th>\n",
       "      <td>2022-06-16</td>\n",
       "      <td>31.850000</td>\n",
       "      <td>3666.770020</td>\n",
       "      <td>-3.305221</td>\n",
       "      <td>-0.625977</td>\n",
       "      <td>1.483</td>\n",
       "      <td>0.252630</td>\n",
       "      <td>-0.878606</td>\n",
       "      <td>-3.557851</td>\n",
       "    </tr>\n",
       "    <tr>\n",
       "      <th>2516</th>\n",
       "      <td>2022-06-17</td>\n",
       "      <td>31.920000</td>\n",
       "      <td>3674.840088</td>\n",
       "      <td>0.219845</td>\n",
       "      <td>0.219538</td>\n",
       "      <td>1.510</td>\n",
       "      <td>0.255634</td>\n",
       "      <td>-0.036096</td>\n",
       "      <td>-0.035789</td>\n",
       "    </tr>\n",
       "  </tbody>\n",
       "</table>\n",
       "<p>2515 rows × 9 columns</p>\n",
       "</div>"
      ],
      "text/plain": [
       "           Date  BAC Adj Close  SP500 Adj Close  SnP500_Log_Return  \\\n",
       "0    2012-06-19       6.961444      1357.979980           0.976783   \n",
       "1    2012-06-20       6.987196      1355.689941          -0.168778   \n",
       "2    2012-06-21       6.712514      1325.510010          -2.251321   \n",
       "3    2012-06-22       6.815520      1335.020020           0.714899   \n",
       "4    2012-06-25       6.523671      1313.719971          -1.608350   \n",
       "...         ...            ...              ...                ...   \n",
       "2512 2022-06-13      32.020000      3749.629883          -3.953993   \n",
       "2513 2022-06-14      31.459999      3735.479980          -0.378082   \n",
       "2514 2022-06-15      32.049999      3789.989990           1.448706   \n",
       "2515 2022-06-16      31.850000      3666.770020          -3.305221   \n",
       "2516 2022-06-17      31.920000      3674.840088           0.219845   \n",
       "\n",
       "      BAC_Log_Return  Adj Close  Risk_Free  BAC Excess Return  \\\n",
       "0           4.411553      0.090   0.023938           4.387615   \n",
       "1           0.369242      0.080   0.021378           0.347864   \n",
       "2          -4.010579      0.075   0.020089          -4.030668   \n",
       "3           1.522880      0.075   0.020089           1.502791   \n",
       "4          -4.376506      0.075   0.020089          -4.396595   \n",
       "...              ...        ...        ...                ...   \n",
       "2512       -3.528508      1.498   0.254303          -3.782810   \n",
       "2513       -1.764385      1.743   0.280292          -2.044678   \n",
       "2514        1.858029      1.695   0.275388           1.582641   \n",
       "2515       -0.625977      1.483   0.252630          -0.878606   \n",
       "2516        0.219538      1.510   0.255634          -0.036096   \n",
       "\n",
       "      Market Risk Premium  \n",
       "0                0.952845  \n",
       "1               -0.190156  \n",
       "2               -2.271410  \n",
       "3                0.694810  \n",
       "4               -1.628439  \n",
       "...                   ...  \n",
       "2512            -4.208296  \n",
       "2513            -0.658374  \n",
       "2514             1.173317  \n",
       "2515            -3.557851  \n",
       "2516            -0.035789  \n",
       "\n",
       "[2515 rows x 9 columns]"
      ]
     },
     "metadata": {},
     "output_type": "display_data"
    }
   ],
   "source": [
    "#Generate market risk premium and BAC excess returns \n",
    "capm['BAC Excess Return'] = capm['BAC_Log_Return'] - capm['Risk_Free']\n",
    "capm['Market Risk Premium'] = capm['SnP500_Log_Return'] - capm['Risk_Free']\n",
    "capm = capm.replace([np.inf, -np.inf], np.nan)\n",
    "capm = capm.dropna()\n",
    "display(capm)"
   ]
  },
  {
   "cell_type": "code",
   "execution_count": 141,
   "id": "b3cd2fb3",
   "metadata": {},
   "outputs": [],
   "source": [
    "#split the capm into train and test\n",
    "\n",
    "capm_train = capm[:1934]\n",
    "capm_test = capm[1935:]\n",
    "\n"
   ]
  },
  {
   "cell_type": "code",
   "execution_count": 142,
   "id": "e8fe03ff",
   "metadata": {},
   "outputs": [
    {
     "name": "stdout",
     "output_type": "stream",
     "text": [
      "                            OLS Regression Results                            \n",
      "==============================================================================\n",
      "Dep. Variable:      BAC Excess Return   R-squared:                       0.476\n",
      "Model:                            OLS   Adj. R-squared:                  0.476\n",
      "Method:                 Least Squares   F-statistic:                     1755.\n",
      "Date:                Thu, 11 Aug 2022   Prob (F-statistic):          2.22e-273\n",
      "Time:                        14:06:09   Log-Likelihood:                -3060.4\n",
      "No. Observations:                1934   AIC:                             6125.\n",
      "Df Residuals:                    1932   BIC:                             6136.\n",
      "Df Model:                           1                                         \n",
      "Covariance Type:            nonrobust                                         \n",
      "=======================================================================================\n",
      "                          coef    std err          t      P>|t|      [0.025      0.975]\n",
      "---------------------------------------------------------------------------------------\n",
      "const                   0.0589      0.027      2.188      0.029       0.006       0.112\n",
      "Market Risk Premium     1.3492      0.032     41.888      0.000       1.286       1.412\n",
      "==============================================================================\n",
      "Omnibus:                      181.233   Durbin-Watson:                   1.866\n",
      "Prob(Omnibus):                  0.000   Jarque-Bera (JB):             1045.748\n",
      "Skew:                           0.217   Prob(JB):                    8.29e-228\n",
      "Kurtosis:                       6.576   Cond. No.                         1.23\n",
      "==============================================================================\n",
      "\n",
      "Notes:\n",
      "[1] Standard Errors assume that the covariance matrix of the errors is correctly specified.\n"
     ]
    }
   ],
   "source": [
    "#############TEST#############################\n",
    "Y_test = capm_train['BAC Excess Return']\n",
    "X_test = capm_train['Market Risk Premium']\n",
    "\n",
    "X_test = sm.add_constant(X_test)\n",
    "CAPM_BAC_test = sm.OLS(Y_test,X_test).fit()\n",
    "predictions_test = CAPM_BAC_test.predict()\n",
    "CAPM_BAC_Summary_test = (CAPM_BAC_test.summary())\n",
    "print(CAPM_BAC_Summary_test)"
   ]
  },
  {
   "cell_type": "code",
   "execution_count": 145,
   "id": "9e6a689a",
   "metadata": {},
   "outputs": [
    {
     "ename": "ValueError",
     "evalue": "shapes (1,580) and (2,) not aligned: 580 (dim 1) != 2 (dim 0)",
     "output_type": "error",
     "traceback": [
      "\u001b[1;31m---------------------------------------------------------------------------\u001b[0m",
      "\u001b[1;31mValueError\u001b[0m                                Traceback (most recent call last)",
      "Input \u001b[1;32mIn [145]\u001b[0m, in \u001b[0;36m<cell line: 3>\u001b[1;34m()\u001b[0m\n\u001b[0;32m      1\u001b[0m X_new \u001b[38;5;241m=\u001b[39m capm_test[\u001b[38;5;124m'\u001b[39m\u001b[38;5;124mMarket Risk Premium\u001b[39m\u001b[38;5;124m'\u001b[39m]\n\u001b[0;32m      2\u001b[0m Y_test \u001b[38;5;241m=\u001b[39m capm_test[\u001b[38;5;124m'\u001b[39m\u001b[38;5;124mBAC Excess Return\u001b[39m\u001b[38;5;124m'\u001b[39m]\n\u001b[1;32m----> 3\u001b[0m ynewpred \u001b[38;5;241m=\u001b[39m \u001b[43mCAPM_BAC_test\u001b[49m\u001b[38;5;241;43m.\u001b[39;49m\u001b[43mpredict\u001b[49m\u001b[43m(\u001b[49m\u001b[43mX_new\u001b[49m\u001b[43m)\u001b[49m  \u001b[38;5;66;03m# predict out of sample\u001b[39;00m\n\u001b[0;32m      4\u001b[0m \u001b[38;5;28mprint\u001b[39m(ynewpred)\n",
      "File \u001b[1;32m~\\anaconda3\\lib\\site-packages\\statsmodels\\base\\model.py:1159\u001b[0m, in \u001b[0;36mResults.predict\u001b[1;34m(self, exog, transform, *args, **kwargs)\u001b[0m\n\u001b[0;32m   1156\u001b[0m         exog \u001b[38;5;241m=\u001b[39m exog[:, \u001b[38;5;28;01mNone\u001b[39;00m]\n\u001b[0;32m   1157\u001b[0m     exog \u001b[38;5;241m=\u001b[39m np\u001b[38;5;241m.\u001b[39matleast_2d(exog)  \u001b[38;5;66;03m# needed in count model shape[1]\u001b[39;00m\n\u001b[1;32m-> 1159\u001b[0m predict_results \u001b[38;5;241m=\u001b[39m \u001b[38;5;28mself\u001b[39m\u001b[38;5;241m.\u001b[39mmodel\u001b[38;5;241m.\u001b[39mpredict(\u001b[38;5;28mself\u001b[39m\u001b[38;5;241m.\u001b[39mparams, exog, \u001b[38;5;241m*\u001b[39margs,\n\u001b[0;32m   1160\u001b[0m                                      \u001b[38;5;241m*\u001b[39m\u001b[38;5;241m*\u001b[39mkwargs)\n\u001b[0;32m   1162\u001b[0m \u001b[38;5;28;01mif\u001b[39;00m exog_index \u001b[38;5;129;01mis\u001b[39;00m \u001b[38;5;129;01mnot\u001b[39;00m \u001b[38;5;28;01mNone\u001b[39;00m \u001b[38;5;129;01mand\u001b[39;00m \u001b[38;5;129;01mnot\u001b[39;00m \u001b[38;5;28mhasattr\u001b[39m(predict_results,\n\u001b[0;32m   1163\u001b[0m                                           \u001b[38;5;124m'\u001b[39m\u001b[38;5;124mpredicted_values\u001b[39m\u001b[38;5;124m'\u001b[39m):\n\u001b[0;32m   1164\u001b[0m     \u001b[38;5;28;01mif\u001b[39;00m predict_results\u001b[38;5;241m.\u001b[39mndim \u001b[38;5;241m==\u001b[39m \u001b[38;5;241m1\u001b[39m:\n",
      "File \u001b[1;32m~\\anaconda3\\lib\\site-packages\\statsmodels\\regression\\linear_model.py:381\u001b[0m, in \u001b[0;36mRegressionModel.predict\u001b[1;34m(self, params, exog)\u001b[0m\n\u001b[0;32m    378\u001b[0m \u001b[38;5;28;01mif\u001b[39;00m exog \u001b[38;5;129;01mis\u001b[39;00m \u001b[38;5;28;01mNone\u001b[39;00m:\n\u001b[0;32m    379\u001b[0m     exog \u001b[38;5;241m=\u001b[39m \u001b[38;5;28mself\u001b[39m\u001b[38;5;241m.\u001b[39mexog\n\u001b[1;32m--> 381\u001b[0m \u001b[38;5;28;01mreturn\u001b[39;00m \u001b[43mnp\u001b[49m\u001b[38;5;241;43m.\u001b[39;49m\u001b[43mdot\u001b[49m\u001b[43m(\u001b[49m\u001b[43mexog\u001b[49m\u001b[43m,\u001b[49m\u001b[43m \u001b[49m\u001b[43mparams\u001b[49m\u001b[43m)\u001b[49m\n",
      "File \u001b[1;32m<__array_function__ internals>:5\u001b[0m, in \u001b[0;36mdot\u001b[1;34m(*args, **kwargs)\u001b[0m\n",
      "\u001b[1;31mValueError\u001b[0m: shapes (1,580) and (2,) not aligned: 580 (dim 1) != 2 (dim 0)"
     ]
    }
   ],
   "source": [
    "X_new = capm_test['Market Risk Premium']\n",
    "Y_test = capm_test['BAC Excess Return']\n",
    "ynewpred = CAPM_BAC_test.predict(X_new)  # predict out of sample\n",
    "print(ynewpred)"
   ]
  },
  {
   "cell_type": "code",
   "execution_count": null,
   "id": "c225a3b5",
   "metadata": {},
   "outputs": [],
   "source": []
  },
  {
   "cell_type": "code",
   "execution_count": 135,
   "id": "97cef439",
   "metadata": {},
   "outputs": [
    {
     "name": "stdout",
     "output_type": "stream",
     "text": [
      "                            OLS Regression Results                            \n",
      "==============================================================================\n",
      "Dep. Variable:      BAC Excess Return   R-squared:                       0.520\n",
      "Model:                            OLS   Adj. R-squared:                  0.520\n",
      "Method:                 Least Squares   F-statistic:                     2726.\n",
      "Date:                Thu, 11 Aug 2022   Prob (F-statistic):               0.00\n",
      "Time:                        14:04:01   Log-Likelihood:                -4330.8\n",
      "No. Observations:                2515   AIC:                             8666.\n",
      "Df Residuals:                    2513   BIC:                             8677.\n",
      "Df Model:                           1                                         \n",
      "Covariance Type:            nonrobust                                         \n",
      "=======================================================================================\n",
      "                          coef    std err          t      P>|t|      [0.025      0.975]\n",
      "---------------------------------------------------------------------------------------\n",
      "const                   0.0404      0.027      1.493      0.136      -0.013       0.093\n",
      "Market Risk Premium     1.2999      0.025     52.214      0.000       1.251       1.349\n",
      "==============================================================================\n",
      "Omnibus:                      312.632   Durbin-Watson:                   1.906\n",
      "Prob(Omnibus):                  0.000   Jarque-Bera (JB):             2305.009\n",
      "Skew:                           0.337   Prob(JB):                         0.00\n",
      "Kurtosis:                       7.641   Cond. No.                         1.11\n",
      "==============================================================================\n",
      "\n",
      "Notes:\n",
      "[1] Standard Errors assume that the covariance matrix of the errors is correctly specified.\n"
     ]
    }
   ],
   "source": [
    "Y = capm['BAC Excess Return']\n",
    "X = capm['Market Risk Premium']\n",
    "\n",
    "X = sm.add_constant(X)\n",
    "CAPM_BAC = sm.OLS(Y,X).fit()\n",
    "predictions = CAPM_BAC.predict()\n",
    "CAPM_BAC_Summary = (CAPM_BAC.summary())\n",
    "print(CAPM_BAC_Summary)"
   ]
  },
  {
   "cell_type": "code",
   "execution_count": 136,
   "id": "6720c52f",
   "metadata": {},
   "outputs": [
    {
     "data": {
      "image/png": "[encoded data removed]",
      "text/plain": [
       "<Figure size 1080x720 with 1 Axes>"
      ]
     },
     "metadata": {
      "needs_background": "light"
     },
     "output_type": "display_data"
    }
   ],
   "source": [
    "#plot the BAC returns with the market premium return \n",
    "fig, CAPM_plot = plt.subplots()\n",
    "fig.set_size_inches(15, 10)\n",
    "sns.set_style('darkgrid')\n",
    "plt.title(\"CAPM - BAC\")\n",
    "plt.grid()\n",
    "CAPM_plot = sns.regplot(x = 'Market Risk Premium', y = 'BAC Excess Return', data = capm)"
   ]
  },
  {
   "cell_type": "code",
   "execution_count": 139,
   "id": "e56cae8b",
   "metadata": {},
   "outputs": [],
   "source": [
    "#predictions for the evaluation set\n",
    "capm_prediction_test = predictions[1934:]\n",
    "\n",
    "#the actual excess returns for evaluation period \n",
    "actual_capm_exreturn = capm[1934:]"
   ]
  },
  {
   "cell_type": "code",
   "execution_count": 140,
   "id": "266a2349",
   "metadata": {},
   "outputs": [
    {
     "name": "stdout",
     "output_type": "stream",
     "text": [
      "Root Mean Square Forecast Error: 1.8203365967129785\n",
      "Root Mean Absolute Forecast Error: 1.1644937341016006\n"
     ]
    }
   ],
   "source": [
    "#RMSE\n",
    "MSE = mean_squared_error(actual_capm_exreturn['BAC Excess Return'], capm_prediction_test)\n",
    "RMSFE = math.sqrt(MSE)\n",
    "\n",
    "#RMAE\n",
    "MAE = mean_absolute_error(actual_capm_exreturn['BAC Excess Return'], capm_prediction_test)\n",
    "RMAFE = math.sqrt(MAE)\n",
    "\n",
    "print(\"Root Mean Square Forecast Error: \" + str(RMSFE))\n",
    "print(\"Root Mean Absolute Forecast Error: \" + str(RMAFE))"
   ]
  },
  {
   "cell_type": "code",
   "execution_count": 162,
   "id": "96960a56",
   "metadata": {},
   "outputs": [
    {
     "data": {
      "text/plain": [
       "                     Constant Mean - GARCH Model Results                      \n",
       "==============================================================================\n",
       "Dep. Variable:         BAC_Log_Return   R-squared:                       0.000\n",
       "Mean Model:             Constant Mean   Adj. R-squared:                  0.000\n",
       "Vol Model:                      GARCH   Log-Likelihood:               -3610.63\n",
       "Distribution:                  Normal   AIC:                           7229.27\n",
       "Method:            Maximum Likelihood   BIC:                           7251.54\n",
       "                                        No. Observations:                 1936\n",
       "Date:                Thu, Aug 11 2022   Df Residuals:                     1935\n",
       "Time:                        17:02:50   Df Model:                            1\n",
       "                                Mean Model                                \n",
       "==========================================================================\n",
       "                 coef    std err          t      P>|t|    95.0% Conf. Int.\n",
       "--------------------------------------------------------------------------\n",
       "mu             0.0988  3.358e-02      2.944  3.244e-03 [3.303e-02,  0.165]\n",
       "                              Volatility Model                             \n",
       "===========================================================================\n",
       "                 coef    std err          t      P>|t|     95.0% Conf. Int.\n",
       "---------------------------------------------------------------------------\n",
       "omega          0.2455      0.130      1.882  5.984e-02 [-1.017e-02,  0.501]\n",
       "alpha[1]       0.0902  3.091e-02      2.917  3.535e-03  [2.959e-02,  0.151]\n",
       "beta[1]        0.8152  7.554e-02     10.792  3.775e-27    [  0.667,  0.963]\n",
       "===========================================================================\n",
       "\n",
       "Covariance estimator: robust\n",
       "ARCHModelResult, id: 0x1e09b98ed00"
      ]
     },
     "execution_count": 162,
     "metadata": {},
     "output_type": "execute_result"
    }
   ],
   "source": [
    "#GARCH(1,1)\n",
    "\n",
    "model_1 = arch_model(data_in_sample['BAC_Log_Return'], mean = 'Constant', vol = 'GARCH', p = 1, q = 1)\n",
    "garch11 = model_1.fit(disp = 'off')\n",
    "garch11"
   ]
  },
  {
   "cell_type": "code",
   "execution_count": 163,
   "id": "75e26608",
   "metadata": {},
   "outputs": [
    {
     "name": "stdout",
     "output_type": "stream",
     "text": [
      "                   Constant Mean - GJR-GARCH Model Results                    \n",
      "==============================================================================\n",
      "Dep. Variable:         BAC_Log_Return   R-squared:                       0.000\n",
      "Mean Model:             Constant Mean   Adj. R-squared:                  0.000\n",
      "Vol Model:                  GJR-GARCH   Log-Likelihood:               -3597.70\n",
      "Distribution:                  Normal   AIC:                           7205.41\n",
      "Method:            Maximum Likelihood   BIC:                           7233.25\n",
      "                                        No. Observations:                 1936\n",
      "Date:                Thu, Aug 11 2022   Df Residuals:                     1935\n",
      "Time:                        17:03:17   Df Model:                            1\n",
      "                                Mean Model                                \n",
      "==========================================================================\n",
      "                 coef    std err          t      P>|t|    95.0% Conf. Int.\n",
      "--------------------------------------------------------------------------\n",
      "mu             0.0754  3.332e-02      2.264  2.360e-02 [1.012e-02,  0.141]\n",
      "                               Volatility Model                              \n",
      "=============================================================================\n",
      "                 coef    std err          t      P>|t|       95.0% Conf. Int.\n",
      "-----------------------------------------------------------------------------\n",
      "omega          0.2285      0.103      2.220  2.639e-02    [2.679e-02,  0.430]\n",
      "alpha[1]       0.0360  1.840e-02      1.956  5.050e-02 [-7.827e-05,7.204e-02]\n",
      "gamma[1]       0.1058  4.007e-02      2.640  8.294e-03    [2.725e-02,  0.184]\n",
      "beta[1]        0.8240  6.062e-02     13.592  4.452e-42      [  0.705,  0.943]\n",
      "=============================================================================\n",
      "\n",
      "Covariance estimator: robust\n"
     ]
    }
   ],
   "source": [
    "#GJR-GARCH(1,1)\n",
    "\n",
    "model_2 = arch_model(data_in_sample['BAC_Log_Return'], mean = 'Constant', p = 1, o = 1, q = 1, vol = 'GARCH')\n",
    "gjr_garch11 = model_2.fit(disp = 'off')\n",
    "print(gjr_garch11.summary())"
   ]
  },
  {
   "cell_type": "code",
   "execution_count": 164,
   "id": "064015b0",
   "metadata": {},
   "outputs": [
    {
     "data": {
      "text/plain": [
       "                     Constant Mean - EARCH Model Results                      \n",
       "==============================================================================\n",
       "Dep. Variable:         BAC_Log_Return   R-squared:                       0.000\n",
       "Mean Model:             Constant Mean   Adj. R-squared:                  0.000\n",
       "Vol Model:                      EARCH   Log-Likelihood:               -3652.87\n",
       "Distribution:                  Normal   AIC:                           7311.75\n",
       "Method:            Maximum Likelihood   BIC:                           7328.45\n",
       "                                        No. Observations:                 1936\n",
       "Date:                Thu, Aug 11 2022   Df Residuals:                     1935\n",
       "Time:                        17:03:32   Df Model:                            1\n",
       "                                Mean Model                                \n",
       "==========================================================================\n",
       "                 coef    std err          t      P>|t|    95.0% Conf. Int.\n",
       "--------------------------------------------------------------------------\n",
       "mu             0.0805  3.541e-02      2.272  2.306e-02 [1.107e-02,  0.150]\n",
       "                            Volatility Model                            \n",
       "========================================================================\n",
       "                 coef    std err          t      P>|t|  95.0% Conf. Int.\n",
       "------------------------------------------------------------------------\n",
       "omega          0.9556  5.110e-02     18.702  4.799e-78 [  0.855,  1.056]\n",
       "alpha[1]       0.2904  5.353e-02      5.425  5.803e-08 [  0.185,  0.395]\n",
       "========================================================================\n",
       "\n",
       "Covariance estimator: robust\n",
       "ARCHModelResult, id: 0x1e097b6ddf0"
      ]
     },
     "execution_count": 164,
     "metadata": {},
     "output_type": "execute_result"
    }
   ],
   "source": [
    "#EGARCH(1,0) \n",
    "\n",
    "model_3 = arch_model(data_in_sample['BAC_Log_Return'], mean = 'Constant', vol = 'EGARCH', p = 1, o = 0, q = 0)\n",
    "egarch10 = model_3.fit(disp = 'off')\n",
    "egarch10"
   ]
  },
  {
   "cell_type": "markdown",
   "id": "4e2ac7ef",
   "metadata": {},
   "source": [
    "# Part 3 "
   ]
  },
  {
   "cell_type": "code",
   "execution_count": 160,
   "id": "af6b2b48",
   "metadata": {},
   "outputs": [
    {
     "data": {
      "text/plain": [
       "1.9489544519365458"
      ]
     },
     "execution_count": 160,
     "metadata": {},
     "output_type": "execute_result"
    }
   ],
   "source": [
    "#get the sample SD for all data \n",
    "\n",
    "ssd = statistics.stdev(data['BAC_Log_Return'])\n",
    "ssd"
   ]
  },
  {
   "cell_type": "code",
   "execution_count": 256,
   "id": "55bacf6e",
   "metadata": {},
   "outputs": [
    {
     "name": "stdout",
     "output_type": "stream",
     "text": [
      "1              NaN\n",
      "2         4.780795\n",
      "3         0.770215\n",
      "4         2.293096\n",
      "5        -2.083410\n",
      "           ...    \n",
      "2513    157.008934\n",
      "2514    155.244549\n",
      "2515    157.102578\n",
      "2516    156.476601\n",
      "2517    156.696140\n",
      "Name: BAC_Log_Return, Length: 2517, dtype: float64\n"
     ]
    }
   ],
   "source": [
    "#data['BAC_Log_Return'].expanding(min_periods = 2)\n",
    "\n",
    "print(data_in_sample['BAC_Log_Return'].expanding(min_periods = 2).sum())"
   ]
  },
  {
   "cell_type": "code",
   "execution_count": 297,
   "id": "41354877",
   "metadata": {},
   "outputs": [
    {
     "data": {
      "text/plain": [
       "[<matplotlib.lines.Line2D at 0x1e0a46d5d00>]"
      ]
     },
     "execution_count": 297,
     "metadata": {},
     "output_type": "execute_result"
    },
    {
     "data": {
      "image/png": "[encoded data removed]",
      "text/plain": [
       "<Figure size 432x288 with 1 Axes>"
      ]
     },
     "metadata": {
      "needs_background": "light"
     },
     "output_type": "display_data"
    }
   ],
   "source": [
    "rolling_window = data_evaluation['BAC_Log_Return'].expanding(min_periods = 2).std()\n",
    "plt.plot(rolling_window)"
   ]
  },
  {
   "cell_type": "code",
   "execution_count": 288,
   "id": "ed309066",
   "metadata": {},
   "outputs": [
    {
     "data": {
      "text/plain": [
       "                       Zero Mean - GARCH Model Results                        \n",
       "==============================================================================\n",
       "Dep. Variable:         BAC_Log_Return   R-squared:                       0.000\n",
       "Mean Model:                 Zero Mean   Adj. R-squared:                  0.002\n",
       "Vol Model:                      GARCH   Log-Likelihood:               -1282.46\n",
       "Distribution:                  Normal   AIC:                           2570.91\n",
       "Method:            Maximum Likelihood   BIC:                           2584.00\n",
       "                                        No. Observations:                  581\n",
       "Date:                Thu, Aug 11 2022   Df Residuals:                      581\n",
       "Time:                        22:29:55   Df Model:                            0\n",
       "                              Volatility Model                             \n",
       "===========================================================================\n",
       "                 coef    std err          t      P>|t|     95.0% Conf. Int.\n",
       "---------------------------------------------------------------------------\n",
       "omega          0.1583      0.118      1.336      0.181 [-7.387e-02,  0.390]\n",
       "alpha[1]       0.0703  7.868e-02      0.894      0.372 [-8.391e-02,  0.225]\n",
       "beta[1]        0.8919  8.988e-02      9.924  3.285e-23    [  0.716,  1.068]\n",
       "===========================================================================\n",
       "\n",
       "Covariance estimator: robust\n",
       "ARCHModelResult, id: 0x1e0a09a3340"
      ]
     },
     "execution_count": 288,
     "metadata": {},
     "output_type": "execute_result"
    }
   ],
   "source": [
    "model = arch_model(data_evaluation['BAC_Log_Return'], mean = 'zero', vol = 'GARCH', p = 1, q = 1)\n",
    "x_1 = model.fit(disp = 'off')\n",
    "x_1"
   ]
  },
  {
   "cell_type": "code",
   "execution_count": 298,
   "id": "c3c83b4b",
   "metadata": {},
   "outputs": [
    {
     "data": {
      "text/plain": [
       "[<matplotlib.lines.Line2D at 0x1e0a46c69a0>]"
      ]
     },
     "execution_count": 298,
     "metadata": {},
     "output_type": "execute_result"
    },
    {
     "data": {
      "image/png": "[encoded data removed]",
      "text/plain": [
       "<Figure size 864x432 with 1 Axes>"
      ]
     },
     "metadata": {
      "needs_background": "light"
     },
     "output_type": "display_data"
    }
   ],
   "source": [
    "con_vol1 = x_1.conditional_volatility\n",
    "con_vol1.plot(figsize = (12,6), color = 'orange', label = 'GARCH(1,1)')\n",
    "plt.plot(rolling_window)"
   ]
  },
  {
   "cell_type": "code",
   "execution_count": 318,
   "id": "10c0607a",
   "metadata": {},
   "outputs": [
    {
     "ename": "IndexError",
     "evalue": "single positional indexer is out-of-bounds",
     "output_type": "error",
     "traceback": [
      "\u001b[1;31m---------------------------------------------------------------------------\u001b[0m",
      "\u001b[1;31mIndexError\u001b[0m                                Traceback (most recent call last)",
      "Input \u001b[1;32mIn [318]\u001b[0m, in \u001b[0;36m<cell line: 9>\u001b[1;34m()\u001b[0m\n\u001b[0;32m     17\u001b[0m     \u001b[38;5;66;03m# 1-period variance forecast and save the result\u001b[39;00m\n\u001b[0;32m     18\u001b[0m     temp_result \u001b[38;5;241m=\u001b[39m gjrgarch_fixed_rolling_result\u001b[38;5;241m.\u001b[39mforecast(horizon \u001b[38;5;241m=\u001b[39m \u001b[38;5;241m1\u001b[39m)\u001b[38;5;241m.\u001b[39mvariance\n\u001b[1;32m---> 19\u001b[0m     fcast \u001b[38;5;241m=\u001b[39m \u001b[43mtemp_result\u001b[49m\u001b[38;5;241;43m.\u001b[39;49m\u001b[43miloc\u001b[49m\u001b[43m[\u001b[49m\u001b[43mi\u001b[49m\u001b[43m \u001b[49m\u001b[38;5;241;43m+\u001b[39;49m\u001b[43m \u001b[49m\u001b[43mend_loc\u001b[49m\u001b[43m]\u001b[49m\n\u001b[0;32m     20\u001b[0m     forecasts[fcast\u001b[38;5;241m.\u001b[39mname] \u001b[38;5;241m=\u001b[39m fcast\n\u001b[0;32m     22\u001b[0m \u001b[38;5;66;03m# Create dataframe, transpose to get dates as rows and variance as column     \u001b[39;00m\n",
      "File \u001b[1;32m~\\anaconda3\\lib\\site-packages\\pandas\\core\\indexing.py:967\u001b[0m, in \u001b[0;36m_LocationIndexer.__getitem__\u001b[1;34m(self, key)\u001b[0m\n\u001b[0;32m    964\u001b[0m axis \u001b[38;5;241m=\u001b[39m \u001b[38;5;28mself\u001b[39m\u001b[38;5;241m.\u001b[39maxis \u001b[38;5;129;01mor\u001b[39;00m \u001b[38;5;241m0\u001b[39m\n\u001b[0;32m    966\u001b[0m maybe_callable \u001b[38;5;241m=\u001b[39m com\u001b[38;5;241m.\u001b[39mapply_if_callable(key, \u001b[38;5;28mself\u001b[39m\u001b[38;5;241m.\u001b[39mobj)\n\u001b[1;32m--> 967\u001b[0m \u001b[38;5;28;01mreturn\u001b[39;00m \u001b[38;5;28;43mself\u001b[39;49m\u001b[38;5;241;43m.\u001b[39;49m\u001b[43m_getitem_axis\u001b[49m\u001b[43m(\u001b[49m\u001b[43mmaybe_callable\u001b[49m\u001b[43m,\u001b[49m\u001b[43m \u001b[49m\u001b[43maxis\u001b[49m\u001b[38;5;241;43m=\u001b[39;49m\u001b[43maxis\u001b[49m\u001b[43m)\u001b[49m\n",
      "File \u001b[1;32m~\\anaconda3\\lib\\site-packages\\pandas\\core\\indexing.py:1520\u001b[0m, in \u001b[0;36m_iLocIndexer._getitem_axis\u001b[1;34m(self, key, axis)\u001b[0m\n\u001b[0;32m   1517\u001b[0m     \u001b[38;5;28;01mraise\u001b[39;00m \u001b[38;5;167;01mTypeError\u001b[39;00m(\u001b[38;5;124m\"\u001b[39m\u001b[38;5;124mCannot index by location index with a non-integer key\u001b[39m\u001b[38;5;124m\"\u001b[39m)\n\u001b[0;32m   1519\u001b[0m \u001b[38;5;66;03m# validate the location\u001b[39;00m\n\u001b[1;32m-> 1520\u001b[0m \u001b[38;5;28;43mself\u001b[39;49m\u001b[38;5;241;43m.\u001b[39;49m\u001b[43m_validate_integer\u001b[49m\u001b[43m(\u001b[49m\u001b[43mkey\u001b[49m\u001b[43m,\u001b[49m\u001b[43m \u001b[49m\u001b[43maxis\u001b[49m\u001b[43m)\u001b[49m\n\u001b[0;32m   1522\u001b[0m \u001b[38;5;28;01mreturn\u001b[39;00m \u001b[38;5;28mself\u001b[39m\u001b[38;5;241m.\u001b[39mobj\u001b[38;5;241m.\u001b[39m_ixs(key, axis\u001b[38;5;241m=\u001b[39maxis)\n",
      "File \u001b[1;32m~\\anaconda3\\lib\\site-packages\\pandas\\core\\indexing.py:1452\u001b[0m, in \u001b[0;36m_iLocIndexer._validate_integer\u001b[1;34m(self, key, axis)\u001b[0m\n\u001b[0;32m   1450\u001b[0m len_axis \u001b[38;5;241m=\u001b[39m \u001b[38;5;28mlen\u001b[39m(\u001b[38;5;28mself\u001b[39m\u001b[38;5;241m.\u001b[39mobj\u001b[38;5;241m.\u001b[39m_get_axis(axis))\n\u001b[0;32m   1451\u001b[0m \u001b[38;5;28;01mif\u001b[39;00m key \u001b[38;5;241m>\u001b[39m\u001b[38;5;241m=\u001b[39m len_axis \u001b[38;5;129;01mor\u001b[39;00m key \u001b[38;5;241m<\u001b[39m \u001b[38;5;241m-\u001b[39mlen_axis:\n\u001b[1;32m-> 1452\u001b[0m     \u001b[38;5;28;01mraise\u001b[39;00m \u001b[38;5;167;01mIndexError\u001b[39;00m(\u001b[38;5;124m\"\u001b[39m\u001b[38;5;124msingle positional indexer is out-of-bounds\u001b[39m\u001b[38;5;124m\"\u001b[39m)\n",
      "\u001b[1;31mIndexError\u001b[0m: single positional indexer is out-of-bounds"
     ]
    }
   ],
   "source": [
    "# Start location set to going back with a half year of trading days\n",
    "start_loc = 0\n",
    "\n",
    "# Window of 60 days\n",
    "end_loc = start_loc + 1936\n",
    "\n",
    "forecasts={}\n",
    "\n",
    "for i in range(2517):\n",
    "\n",
    "    # Fit with fixed rolling window\n",
    "    gjrgarch_fixed_rolling_result = model_2.fit(first_obs = i + start_loc, \n",
    "                                              last_obs = i + end_loc, \n",
    "                                              update_freq = 5,\n",
    "                                              disp='off')\n",
    "    \n",
    "    # 1-period variance forecast and save the result\n",
    "    temp_result = gjrgarch_fixed_rolling_result.forecast(horizon = 1).variance\n",
    "    fcast = temp_result.iloc[i + end_loc]\n",
    "    forecasts[fcast.name] = fcast\n",
    "\n",
    "# Create dataframe, transpose to get dates as rows and variance as column     \n",
    "forecast_var_fixed = pd.DataFrame(forecasts).T"
   ]
  },
  {
   "cell_type": "code",
   "execution_count": 341,
   "id": "c810cc87",
   "metadata": {},
   "outputs": [],
   "source": [
    "rolling_predictions = []\n",
    "test_size = len(data_evaluation)"
   ]
  },
  {
   "cell_type": "code",
   "execution_count": 342,
   "id": "193cc537",
   "metadata": {},
   "outputs": [],
   "source": [
    "for i in range (test_size):\n",
    "    train = data['BAC_Log_Return'][:-(test_size - i)]\n",
    "    predict_10 = statistics.stdev(train)\n",
    "    rolling_predictions_sd.append(predict_10)"
   ]
  },
  {
   "cell_type": "code",
   "execution_count": 346,
   "id": "0e58516a",
   "metadata": {},
   "outputs": [
    {
     "data": {
      "text/plain": [
       "Text(0.5, 1.0, 'Rolling SD Forecast')"
      ]
     },
     "execution_count": 346,
     "metadata": {},
     "output_type": "execute_result"
    },
    {
     "data": {
      "image/png": "[encoded data removed]",
      "text/plain": [
       "<Figure size 432x288 with 1 Axes>"
      ]
     },
     "metadata": {
      "needs_background": "light"
     },
     "output_type": "display_data"
    }
   ],
   "source": [
    "rolling_predictions = pd.Series(rolling_predictions, index = data_evaluation['BAC_Log_Return'].index[-test_size:])\n",
    "plt.plot(rolling_predictions)\n",
    "plt.title('Rolling SD Forecast', color = 'black')"
   ]
  },
  {
   "cell_type": "code",
   "execution_count": 348,
   "id": "395f84f0",
   "metadata": {},
   "outputs": [],
   "source": [
    "#lt.plot(rolling_predictions_sd)"
   ]
  },
  {
   "cell_type": "code",
   "execution_count": null,
   "id": "64c4b707",
   "metadata": {},
   "outputs": [],
   "source": [
    "#RMSE\n",
    "MSE = mean_squared_error(, rolling_predictions_sd)\n",
    "RMSFE = math.sqrt(MSE)\n",
    "\n",
    "#RMAE\n",
    "MAE = mean_absolute_error(, capm_prediction_test)\n",
    "RMAFE = math.sqrt(MAE)\n",
    "\n",
    "print(\"Root Mean Square Forecast Error: \" + str(RMSFE))\n",
    "print(\"Root Mean Absolute Forecast Error: \" + str(RMAFE))"
   ]
  },
  {
   "cell_type": "code",
   "execution_count": 331,
   "id": "535a7e31",
   "metadata": {},
   "outputs": [
    {
     "data": {
      "text/plain": [
       "1936"
      ]
     },
     "execution_count": 331,
     "metadata": {},
     "output_type": "execute_result"
    }
   ],
   "source": [
    "len(data_in_sample)"
   ]
  },
  {
   "cell_type": "code",
   "execution_count": 344,
   "id": "31a1a08d",
   "metadata": {},
   "outputs": [],
   "source": [
    "rolling25_pred = []\n",
    "length = len(data_in_sample)\n",
    "\n",
    "for i in range (test_size):\n",
    "    train_data = data['BAC_Log_Return'][-(length + i - 25):(length + i)]\n",
    "    predict_1 = statistics.stdev(train_data)\n",
    "    rolling25_pred.append(predict_1)"
   ]
  },
  {
   "cell_type": "code",
   "execution_count": 347,
   "id": "a377346e",
   "metadata": {},
   "outputs": [
    {
     "data": {
      "text/plain": [
       "Text(0.5, 1.0, '25 Day Rolling SD Forecast')"
      ]
     },
     "execution_count": 347,
     "metadata": {},
     "output_type": "execute_result"
    },
    {
     "data": {
      "image/png": "[encoded data removed]",
      "text/plain": [
       "<Figure size 432x288 with 1 Axes>"
      ]
     },
     "metadata": {
      "needs_background": "light"
     },
     "output_type": "display_data"
    }
   ],
   "source": [
    "rolling_pred_25 = pd.Series(rolling25_pred, index = data_evaluation['BAC_Log_Return'].index[-length:])\n",
    "plt.plot(rolling25_pred)\n",
    "plt.title('25 Day Rolling SD Forecast', color = 'black')"
   ]
  },
  {
   "cell_type": "code",
   "execution_count": 374,
   "id": "c7689cc5",
   "metadata": {},
   "outputs": [
    {
     "data": {
      "text/plain": [
       "<matplotlib.legend.Legend at 0x1e0a35f9610>"
      ]
     },
     "execution_count": 374,
     "metadata": {},
     "output_type": "execute_result"
    },
    {
     "data": {
      "image/png": "[encoded data removed]",
      "text/plain": [
       "<Figure size 864x288 with 1 Axes>"
      ]
     },
     "metadata": {
      "needs_background": "light"
     },
     "output_type": "display_data"
    }
   ],
   "source": [
    "plt.figure(figsize=(12,4))\n",
    "plt.plot(rolling_predictions_sd, label = 'Rolling SD')\n",
    "plt.plot(rolling_pred_25, label = 'Rolling SD 25')\n",
    "plt.title('Rolling SD vs 25-Day Rolling SD')\n",
    "plt.legend(loc = 'best')"
   ]
  },
  {
   "cell_type": "code",
   "execution_count": 354,
   "id": "bc94bcd9",
   "metadata": {},
   "outputs": [
    {
     "data": {
      "text/plain": [
       "                       Zero Mean - GARCH Model Results                        \n",
       "==============================================================================\n",
       "Dep. Variable:         BAC_Log_Return   R-squared:                       0.000\n",
       "Mean Model:                 Zero Mean   Adj. R-squared:                  0.002\n",
       "Vol Model:                      GARCH   Log-Likelihood:               -1282.46\n",
       "Distribution:                  Normal   AIC:                           2570.91\n",
       "Method:            Maximum Likelihood   BIC:                           2584.00\n",
       "                                        No. Observations:                  581\n",
       "Date:                Fri, Aug 12 2022   Df Residuals:                      581\n",
       "Time:                        10:27:49   Df Model:                            0\n",
       "                              Volatility Model                             \n",
       "===========================================================================\n",
       "                 coef    std err          t      P>|t|     95.0% Conf. Int.\n",
       "---------------------------------------------------------------------------\n",
       "omega          0.1583      0.118      1.336      0.181 [-7.387e-02,  0.390]\n",
       "alpha[1]       0.0703  7.868e-02      0.894      0.372 [-8.391e-02,  0.225]\n",
       "beta[1]        0.8919  8.988e-02      9.924  3.285e-23    [  0.716,  1.068]\n",
       "===========================================================================\n",
       "\n",
       "Covariance estimator: robust\n",
       "ARCHModelResult, id: 0x1e0a3442c70"
      ]
     },
     "execution_count": 354,
     "metadata": {},
     "output_type": "execute_result"
    }
   ],
   "source": [
    "#GARCH(1,1)\n",
    "model = arch_model(data_evaluation['BAC_Log_Return'], mean = 'zero', vol = 'GARCH', p = 1, q = 1)\n",
    "x_1 = model.fit(disp = 'off')\n",
    "x_1"
   ]
  },
  {
   "cell_type": "code",
   "execution_count": 355,
   "id": "f155e2a9",
   "metadata": {},
   "outputs": [
    {
     "name": "stdout",
     "output_type": "stream",
     "text": [
      "                           Zero Mean - GARCH Model Results                           \n",
      "=====================================================================================\n",
      "Dep. Variable:                BAC_Log_Return   R-squared:                          --\n",
      "Mean Model:                        Zero Mean   Adj. R-squared:                     --\n",
      "Vol Model:                             GARCH   Log-Likelihood:               -1292.96\n",
      "Distribution:                         Normal   AIC:                           2591.92\n",
      "Method:            User-specified Parameters   BIC:                           2605.01\n",
      "                                               No. Observations:                  581\n",
      "Date:                       Fri, Aug 12 2022                                         \n",
      "Time:                               10:28:01                                         \n",
      "   Volatility Model  \n",
      "=====================\n",
      "                 coef\n",
      "---------------------\n",
      "omega          0.0000\n",
      "alpha[1]       0.0600\n",
      "beta[1]        0.9400\n",
      "=====================\n",
      "\n",
      "Results generated with user-specified parameters.\n",
      "Std. errors not available when the model is not estimated, \n"
     ]
    }
   ],
   "source": [
    "ewma = model.fix([0, 0.06, 0.94])\n",
    "print(ewma.summary())"
   ]
  },
  {
   "cell_type": "code",
   "execution_count": 363,
   "id": "fe7926a3",
   "metadata": {},
   "outputs": [
    {
     "data": {
      "text/plain": [
       "                   Constant Mean - GJR-GARCH Model Results                    \n",
       "==============================================================================\n",
       "Dep. Variable:         BAC_Log_Return   R-squared:                       0.000\n",
       "Mean Model:             Constant Mean   Adj. R-squared:                  0.000\n",
       "Vol Model:                  GJR-GARCH   Log-Likelihood:               -1275.21\n",
       "Distribution:                  Normal   AIC:                           2560.42\n",
       "Method:            Maximum Likelihood   BIC:                           2582.24\n",
       "                                        No. Observations:                  581\n",
       "Date:                Fri, Aug 12 2022   Df Residuals:                      580\n",
       "Time:                        10:34:50   Df Model:                            1\n",
       "                               Mean Model                               \n",
       "========================================================================\n",
       "                 coef    std err          t      P>|t|  95.0% Conf. Int.\n",
       "------------------------------------------------------------------------\n",
       "mu             0.0536  8.016e-02      0.669      0.504 [ -0.103,  0.211]\n",
       "                               Volatility Model                              \n",
       "=============================================================================\n",
       "                 coef    std err          t      P>|t|       95.0% Conf. Int.\n",
       "-----------------------------------------------------------------------------\n",
       "omega          0.1102  6.218e-02      1.773  7.631e-02   [-1.165e-02,  0.232]\n",
       "alpha[1]   9.4920e-04  1.903e-02  4.988e-02      0.960 [-3.635e-02,3.824e-02]\n",
       "gamma[1]       0.0939  7.285e-02      1.289      0.197   [-4.886e-02,  0.237]\n",
       "beta[1]        0.9252  5.181e-02     17.857  2.555e-71      [  0.824,  1.027]\n",
       "=============================================================================\n",
       "\n",
       "Covariance estimator: robust\n",
       "ARCHModelResult, id: 0x1e0a347e370"
      ]
     },
     "execution_count": 363,
     "metadata": {},
     "output_type": "execute_result"
    }
   ],
   "source": [
    "model = arch_model(data_evaluation['BAC_Log_Return'], mean = 'Constant', vol = 'GARCH', p = 1, o = 1, q = 1)\n",
    "x_2 = model.fit(disp = 'off')\n",
    "x_2"
   ]
  },
  {
   "cell_type": "code",
   "execution_count": 385,
   "id": "a05c1aa5",
   "metadata": {},
   "outputs": [
    {
     "data": {
      "text/plain": [
       "                       Zero Mean - EARCH Model Results                        \n",
       "==============================================================================\n",
       "Dep. Variable:         BAC_Log_Return   R-squared:                       0.000\n",
       "Mean Model:                 Zero Mean   Adj. R-squared:                  0.002\n",
       "Vol Model:                      EARCH   Log-Likelihood:               -1357.34\n",
       "Distribution:                  Normal   AIC:                           2718.69\n",
       "Method:            Maximum Likelihood   BIC:                           2727.42\n",
       "                                        No. Observations:                  581\n",
       "Date:                Fri, Aug 12 2022   Df Residuals:                      581\n",
       "Time:                        12:30:22   Df Model:                            0\n",
       "                            Volatility Model                            \n",
       "========================================================================\n",
       "                 coef    std err          t      P>|t|  95.0% Conf. Int.\n",
       "------------------------------------------------------------------------\n",
       "omega          1.8780      0.131     14.301  2.162e-46 [  1.621,  2.135]\n",
       "alpha[1]       0.5649  7.031e-02      8.034  9.449e-16 [  0.427,  0.703]\n",
       "========================================================================\n",
       "\n",
       "Covariance estimator: robust\n",
       "ARCHModelResult, id: 0x1e0a39924c0"
      ]
     },
     "execution_count": 385,
     "metadata": {},
     "output_type": "execute_result"
    }
   ],
   "source": [
    "model = arch_model(data_evaluation['BAC_Log_Return'], mean = 'Zero', vol = 'EGARCH', p = 1, o = 0, q = 0)\n",
    "x_3 = model.fit(disp = 'off')\n",
    "x_3"
   ]
  },
  {
   "cell_type": "code",
   "execution_count": 386,
   "id": "58066cd2",
   "metadata": {},
   "outputs": [
    {
     "data": {
      "image/png": "[encoded data removed]",
      "text/plain": [
       "<Figure size 864x432 with 1 Axes>"
      ]
     },
     "metadata": {
      "needs_background": "light"
     },
     "output_type": "display_data"
    }
   ],
   "source": [
    "con_vol1 = x_1.conditional_volatility\n",
    "gjr_garch_con_vol = x_2.conditional_volatility\n",
    "egarch_con_vol = x_3.conditional_volatility\n",
    "\n",
    "#get ewma conditional vol\n",
    "ewma_con_vol1 = ewma.conditional_volatility\n",
    "\n",
    "#plot the ewma curve with other GARCH\n",
    "con_vol1.plot(figsize = (12,6), color = 'orange', label = 'GARCH(1,1)')\n",
    "gjr_garch_con_vol.plot(figsize = (12,6), color = 'blue', label = 'GJR-GARCH(1,1)')\n",
    "egarch_con_vol.plot(figsize = (12,6), color = 'green', label = 'EGARCH(1,0)')\n",
    "ewma_con_vol1.plot(figsize = (12,6), color = 'red', label = 'EWMA')\n",
    "plt.plot(rolling_predictions_sd, label = 'Rolling SD')\n",
    "plt.plot(rolling_pred_25, label = 'Rolling SD 25')\n",
    "plt.title('EWMA and GARCH & GJR-GARCH & EGARCH Conditional Volitility', size = 15)\n",
    "plt.legend(loc = 'best')\n",
    "plt.show()"
   ]
  },
  {
   "cell_type": "code",
   "execution_count": 390,
   "id": "0de6d474",
   "metadata": {},
   "outputs": [
    {
     "name": "stdout",
     "output_type": "stream",
     "text": [
      "Rolling SD\n",
      "GARCH(1,1) RMSFE: 1.3838966438196938\n",
      "GJR-GARCH(1,1) RMSFE: 0.961071392563468\n",
      "EGARCH(1,0) RMSFE: 1.5040303942649873\n",
      "EWMA RMSFE: 1.8074922721453914\n"
     ]
    }
   ],
   "source": [
    "#RMSFE Value\n",
    "print(\"Rolling SD\")\n",
    "print(\"GARCH(1,1) RMSFE:\", np.sqrt(mean_squared_error(rolling_predictions_sd, con_vol1)))\n",
    "print(\"GJR-GARCH(1,1) RMSFE:\", np.sqrt(mean_squared_error(rolling_predictions_sd, gjr_garch_con_vol)))\n",
    "print(\"EGARCH(1,0) RMSFE:\", np.sqrt(mean_squared_error(rolling_predictions_sd, egarch_con_vol)))\n",
    "print(\"EWMA RMSFE:\", np.sqrt(mean_squared_error(rolling_predictions_sd, ewma_con_vol1)))"
   ]
  },
  {
   "cell_type": "code",
   "execution_count": 391,
   "id": "476cd583",
   "metadata": {},
   "outputs": [
    {
     "name": "stdout",
     "output_type": "stream",
     "text": [
      "25 Day Rolling SD\n",
      "GARCH(1,1) RMSFE: 1.3605113743998931\n",
      "GJR-GARCH(1,1) RMSFE: 0.9391003339397206\n",
      "EGARCH(1,0) RMSFE: 1.481595649167744\n",
      "EWMA RMSFE: 1.7792476678639364\n"
     ]
    }
   ],
   "source": [
    "print(\"25 Day Rolling SD\")\n",
    "print(\"GARCH(1,1) RMSFE:\", np.sqrt(mean_squared_error(rolling_pred_25, con_vol1)))\n",
    "print(\"GJR-GARCH(1,1) RMSFE:\", np.sqrt(mean_squared_error(rolling_pred_25, gjr_garch_con_vol)))\n",
    "print(\"EGARCH(1,0) RMSFE:\", np.sqrt(mean_squared_error(rolling_pred_25, egarch_con_vol)))\n",
    "print(\"EWMA RMSFE:\", np.sqrt(mean_squared_error(rolling_pred_25, ewma_con_vol1)))\n"
   ]
  }
 ],
 "metadata": {
  "kernelspec": {
   "display_name": "Python 3 (ipykernel)",
   "language": "python",
   "name": "python3"
  },
  "language_info": {
   "codemirror_mode": {
    "name": "ipython",
    "version": 3
   },
   "file_extension": ".py",
   "mimetype": "text/x-python",
   "name": "python",
   "nbconvert_exporter": "python",
   "pygments_lexer": "ipython3",
   "version": "3.9.12"
  }
 },
 "nbformat": 4,
 "nbformat_minor": 5
}
